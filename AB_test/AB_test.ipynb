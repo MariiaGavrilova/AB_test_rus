{
 "cells": [
  {
   "cell_type": "markdown",
   "metadata": {},
   "source": [
    "# Помощь маркетологам в снижении расходов, выяснение невыгодных источников трафика и перераспределение бюджета\n",
    "\n",
    "Заказчик - отдел маркетинга крупного интернет-магазина.  \n",
    "\n",
    "Цель: приоритизировать список гипотез, запустить A/B-тест и проанализировать результаты. \n",
    "\n",
    "Задачи: \n",
    "        \n",
    "        Приоритизировать гипотезы с применением фреймворков ICE и ICE, \n",
    "        Построить графики кумулятивных показателей\n",
    "        Посчитать значимые перцентили\n",
    "        Посчитать статистическую значимость различий по разным параметрам\n",
    "        Принять решение по результатам теста\n"
   ]
  },
  {
   "cell_type": "code",
   "execution_count": 1,
   "metadata": {},
   "outputs": [],
   "source": [
    "# установим необходимые библиотеки\n",
    "\n",
    "import pandas as pd\n",
    "import numpy as np\n",
    "import math\n",
    "from scipy import stats as st\n",
    "import matplotlib.pyplot as plt \n",
    "import seaborn as sns\n",
    "import warnings\n",
    "\n",
    "warnings.filterwarnings('ignore')"
   ]
  },
  {
   "cell_type": "markdown",
   "metadata": {},
   "source": [
    "## Приоритизация гипотез"
   ]
  },
  {
   "cell_type": "markdown",
   "metadata": {},
   "source": [
    "### Посмотрим таблицу hypothesis"
   ]
  },
  {
   "cell_type": "code",
   "execution_count": 2,
   "metadata": {},
   "outputs": [
    {
     "data": {
      "text/html": [
       "<div>\n",
       "<style scoped>\n",
       "    .dataframe tbody tr th:only-of-type {\n",
       "        vertical-align: middle;\n",
       "    }\n",
       "\n",
       "    .dataframe tbody tr th {\n",
       "        vertical-align: top;\n",
       "    }\n",
       "\n",
       "    .dataframe thead th {\n",
       "        text-align: right;\n",
       "    }\n",
       "</style>\n",
       "<table border=\"1\" class=\"dataframe\">\n",
       "  <thead>\n",
       "    <tr style=\"text-align: right;\">\n",
       "      <th></th>\n",
       "      <th>Hypothesis</th>\n",
       "      <th>Reach</th>\n",
       "      <th>Impact</th>\n",
       "      <th>Confidence</th>\n",
       "      <th>Efforts</th>\n",
       "    </tr>\n",
       "  </thead>\n",
       "  <tbody>\n",
       "    <tr>\n",
       "      <td>0</td>\n",
       "      <td>Добавить два новых канала привлечения трафика,...</td>\n",
       "      <td>3</td>\n",
       "      <td>10</td>\n",
       "      <td>8</td>\n",
       "      <td>6</td>\n",
       "    </tr>\n",
       "    <tr>\n",
       "      <td>1</td>\n",
       "      <td>Запустить собственную службу доставки, что сок...</td>\n",
       "      <td>2</td>\n",
       "      <td>5</td>\n",
       "      <td>4</td>\n",
       "      <td>10</td>\n",
       "    </tr>\n",
       "    <tr>\n",
       "      <td>2</td>\n",
       "      <td>Добавить блоки рекомендаций товаров на сайт ин...</td>\n",
       "      <td>8</td>\n",
       "      <td>3</td>\n",
       "      <td>7</td>\n",
       "      <td>3</td>\n",
       "    </tr>\n",
       "    <tr>\n",
       "      <td>3</td>\n",
       "      <td>Изменить структура категорий, что увеличит кон...</td>\n",
       "      <td>8</td>\n",
       "      <td>3</td>\n",
       "      <td>3</td>\n",
       "      <td>8</td>\n",
       "    </tr>\n",
       "    <tr>\n",
       "      <td>4</td>\n",
       "      <td>Изменить цвет фона главной страницы, чтобы уве...</td>\n",
       "      <td>3</td>\n",
       "      <td>1</td>\n",
       "      <td>1</td>\n",
       "      <td>1</td>\n",
       "    </tr>\n",
       "    <tr>\n",
       "      <td>5</td>\n",
       "      <td>Добавить страницу отзывов клиентов о магазине,...</td>\n",
       "      <td>3</td>\n",
       "      <td>2</td>\n",
       "      <td>2</td>\n",
       "      <td>3</td>\n",
       "    </tr>\n",
       "    <tr>\n",
       "      <td>6</td>\n",
       "      <td>Показать на главной странице баннеры с актуаль...</td>\n",
       "      <td>5</td>\n",
       "      <td>3</td>\n",
       "      <td>8</td>\n",
       "      <td>3</td>\n",
       "    </tr>\n",
       "    <tr>\n",
       "      <td>7</td>\n",
       "      <td>Добавить форму подписки на все основные страни...</td>\n",
       "      <td>10</td>\n",
       "      <td>7</td>\n",
       "      <td>8</td>\n",
       "      <td>5</td>\n",
       "    </tr>\n",
       "    <tr>\n",
       "      <td>8</td>\n",
       "      <td>Запустить акцию, дающую скидку на товар в день...</td>\n",
       "      <td>1</td>\n",
       "      <td>9</td>\n",
       "      <td>9</td>\n",
       "      <td>5</td>\n",
       "    </tr>\n",
       "  </tbody>\n",
       "</table>\n",
       "</div>"
      ],
      "text/plain": [
       "                                          Hypothesis  Reach  Impact  \\\n",
       "0  Добавить два новых канала привлечения трафика,...      3      10   \n",
       "1  Запустить собственную службу доставки, что сок...      2       5   \n",
       "2  Добавить блоки рекомендаций товаров на сайт ин...      8       3   \n",
       "3  Изменить структура категорий, что увеличит кон...      8       3   \n",
       "4  Изменить цвет фона главной страницы, чтобы уве...      3       1   \n",
       "5  Добавить страницу отзывов клиентов о магазине,...      3       2   \n",
       "6  Показать на главной странице баннеры с актуаль...      5       3   \n",
       "7  Добавить форму подписки на все основные страни...     10       7   \n",
       "8  Запустить акцию, дающую скидку на товар в день...      1       9   \n",
       "\n",
       "   Confidence  Efforts  \n",
       "0           8        6  \n",
       "1           4       10  \n",
       "2           7        3  \n",
       "3           3        8  \n",
       "4           1        1  \n",
       "5           2        3  \n",
       "6           8        3  \n",
       "7           8        5  \n",
       "8           9        5  "
      ]
     },
     "execution_count": 2,
     "metadata": {},
     "output_type": "execute_result"
    }
   ],
   "source": [
    "# посмотрим таблицу\n",
    "\n",
    "hypothesis = pd.read_csv('/datasets/hypothesis.csv')\n",
    "hypothesis"
   ]
  },
  {
   "cell_type": "code",
   "execution_count": 3,
   "metadata": {},
   "outputs": [
    {
     "name": "stdout",
     "output_type": "stream",
     "text": [
      "<class 'pandas.core.frame.DataFrame'>\n",
      "RangeIndex: 9 entries, 0 to 8\n",
      "Data columns (total 5 columns):\n",
      "Hypothesis    9 non-null object\n",
      "Reach         9 non-null int64\n",
      "Impact        9 non-null int64\n",
      "Confidence    9 non-null int64\n",
      "Efforts       9 non-null int64\n",
      "dtypes: int64(4), object(1)\n",
      "memory usage: 488.0+ bytes\n"
     ]
    }
   ],
   "source": [
    "# посмотрим на объем и типы данных в таблице\n",
    "\n",
    "hypothesis.info()"
   ]
  },
  {
   "cell_type": "markdown",
   "metadata": {},
   "source": [
    "Таблица не имеет пропусков, все данные нужного типа."
   ]
  },
  {
   "cell_type": "code",
   "execution_count": 4,
   "metadata": {},
   "outputs": [],
   "source": [
    "# для удобства отображения, присвоим каждой гипотезе порядковый номер\n",
    "\n",
    "hypothesis = hypothesis.reset_index()\n",
    "hypothesis = hypothesis.rename(columns={'index':'Hypothesis_num'})\n",
    "hypothesis['Hypothesis_num'] = hypothesis['Hypothesis_num'].map(lambda x: x+1)\n"
   ]
  },
  {
   "cell_type": "code",
   "execution_count": 5,
   "metadata": {},
   "outputs": [
    {
     "data": {
      "text/html": [
       "<div>\n",
       "<style scoped>\n",
       "    .dataframe tbody tr th:only-of-type {\n",
       "        vertical-align: middle;\n",
       "    }\n",
       "\n",
       "    .dataframe tbody tr th {\n",
       "        vertical-align: top;\n",
       "    }\n",
       "\n",
       "    .dataframe thead th {\n",
       "        text-align: right;\n",
       "    }\n",
       "</style>\n",
       "<table border=\"1\" class=\"dataframe\">\n",
       "  <thead>\n",
       "    <tr style=\"text-align: right;\">\n",
       "      <th></th>\n",
       "      <th>Hypothesis_num</th>\n",
       "      <th>Hypothesis</th>\n",
       "      <th>Reach</th>\n",
       "      <th>Impact</th>\n",
       "      <th>Confidence</th>\n",
       "      <th>Efforts</th>\n",
       "    </tr>\n",
       "  </thead>\n",
       "  <tbody>\n",
       "    <tr>\n",
       "      <td>0</td>\n",
       "      <td>1</td>\n",
       "      <td>Добавить два новых канала привлечения трафика,...</td>\n",
       "      <td>3</td>\n",
       "      <td>10</td>\n",
       "      <td>8</td>\n",
       "      <td>6</td>\n",
       "    </tr>\n",
       "    <tr>\n",
       "      <td>1</td>\n",
       "      <td>2</td>\n",
       "      <td>Запустить собственную службу доставки, что сок...</td>\n",
       "      <td>2</td>\n",
       "      <td>5</td>\n",
       "      <td>4</td>\n",
       "      <td>10</td>\n",
       "    </tr>\n",
       "    <tr>\n",
       "      <td>2</td>\n",
       "      <td>3</td>\n",
       "      <td>Добавить блоки рекомендаций товаров на сайт ин...</td>\n",
       "      <td>8</td>\n",
       "      <td>3</td>\n",
       "      <td>7</td>\n",
       "      <td>3</td>\n",
       "    </tr>\n",
       "    <tr>\n",
       "      <td>3</td>\n",
       "      <td>4</td>\n",
       "      <td>Изменить структура категорий, что увеличит кон...</td>\n",
       "      <td>8</td>\n",
       "      <td>3</td>\n",
       "      <td>3</td>\n",
       "      <td>8</td>\n",
       "    </tr>\n",
       "    <tr>\n",
       "      <td>4</td>\n",
       "      <td>5</td>\n",
       "      <td>Изменить цвет фона главной страницы, чтобы уве...</td>\n",
       "      <td>3</td>\n",
       "      <td>1</td>\n",
       "      <td>1</td>\n",
       "      <td>1</td>\n",
       "    </tr>\n",
       "    <tr>\n",
       "      <td>5</td>\n",
       "      <td>6</td>\n",
       "      <td>Добавить страницу отзывов клиентов о магазине,...</td>\n",
       "      <td>3</td>\n",
       "      <td>2</td>\n",
       "      <td>2</td>\n",
       "      <td>3</td>\n",
       "    </tr>\n",
       "    <tr>\n",
       "      <td>6</td>\n",
       "      <td>7</td>\n",
       "      <td>Показать на главной странице баннеры с актуаль...</td>\n",
       "      <td>5</td>\n",
       "      <td>3</td>\n",
       "      <td>8</td>\n",
       "      <td>3</td>\n",
       "    </tr>\n",
       "    <tr>\n",
       "      <td>7</td>\n",
       "      <td>8</td>\n",
       "      <td>Добавить форму подписки на все основные страни...</td>\n",
       "      <td>10</td>\n",
       "      <td>7</td>\n",
       "      <td>8</td>\n",
       "      <td>5</td>\n",
       "    </tr>\n",
       "    <tr>\n",
       "      <td>8</td>\n",
       "      <td>9</td>\n",
       "      <td>Запустить акцию, дающую скидку на товар в день...</td>\n",
       "      <td>1</td>\n",
       "      <td>9</td>\n",
       "      <td>9</td>\n",
       "      <td>5</td>\n",
       "    </tr>\n",
       "  </tbody>\n",
       "</table>\n",
       "</div>"
      ],
      "text/plain": [
       "   Hypothesis_num                                         Hypothesis  Reach  \\\n",
       "0               1  Добавить два новых канала привлечения трафика,...      3   \n",
       "1               2  Запустить собственную службу доставки, что сок...      2   \n",
       "2               3  Добавить блоки рекомендаций товаров на сайт ин...      8   \n",
       "3               4  Изменить структура категорий, что увеличит кон...      8   \n",
       "4               5  Изменить цвет фона главной страницы, чтобы уве...      3   \n",
       "5               6  Добавить страницу отзывов клиентов о магазине,...      3   \n",
       "6               7  Показать на главной странице баннеры с актуаль...      5   \n",
       "7               8  Добавить форму подписки на все основные страни...     10   \n",
       "8               9  Запустить акцию, дающую скидку на товар в день...      1   \n",
       "\n",
       "   Impact  Confidence  Efforts  \n",
       "0      10           8        6  \n",
       "1       5           4       10  \n",
       "2       3           7        3  \n",
       "3       3           3        8  \n",
       "4       1           1        1  \n",
       "5       2           2        3  \n",
       "6       3           8        3  \n",
       "7       7           8        5  \n",
       "8       9           9        5  "
      ]
     },
     "execution_count": 5,
     "metadata": {},
     "output_type": "execute_result"
    }
   ],
   "source": [
    "#  посмотрим на табличку еще раз\n",
    "hypothesis"
   ]
  },
  {
   "cell_type": "markdown",
   "metadata": {},
   "source": [
    "Для удобства отображения гипотез, каждой присвоили порядковый номер, далее будем анализировать номера самых приоритетных из них."
   ]
  },
  {
   "cell_type": "markdown",
   "metadata": {},
   "source": [
    "### Применим фреймворк ICE для приоритизации гипотез. Отсортируем их по убыванию приоритета."
   ]
  },
  {
   "cell_type": "code",
   "execution_count": 6,
   "metadata": {},
   "outputs": [
    {
     "data": {
      "text/html": [
       "<div>\n",
       "<style scoped>\n",
       "    .dataframe tbody tr th:only-of-type {\n",
       "        vertical-align: middle;\n",
       "    }\n",
       "\n",
       "    .dataframe tbody tr th {\n",
       "        vertical-align: top;\n",
       "    }\n",
       "\n",
       "    .dataframe thead th {\n",
       "        text-align: right;\n",
       "    }\n",
       "</style>\n",
       "<table border=\"1\" class=\"dataframe\">\n",
       "  <thead>\n",
       "    <tr style=\"text-align: right;\">\n",
       "      <th></th>\n",
       "      <th>Hypothesis_num</th>\n",
       "      <th>Hypothesis</th>\n",
       "    </tr>\n",
       "  </thead>\n",
       "  <tbody>\n",
       "    <tr>\n",
       "      <td>0</td>\n",
       "      <td>1</td>\n",
       "      <td>Добавить два новых канала привлечения трафика, что позволит привлекать на 30% больше пользователей</td>\n",
       "    </tr>\n",
       "    <tr>\n",
       "      <td>1</td>\n",
       "      <td>2</td>\n",
       "      <td>Запустить собственную службу доставки, что сократит срок доставки заказов</td>\n",
       "    </tr>\n",
       "    <tr>\n",
       "      <td>2</td>\n",
       "      <td>3</td>\n",
       "      <td>Добавить блоки рекомендаций товаров на сайт интернет магазина, чтобы повысить конверсию и средний чек заказа</td>\n",
       "    </tr>\n",
       "    <tr>\n",
       "      <td>3</td>\n",
       "      <td>4</td>\n",
       "      <td>Изменить структура категорий, что увеличит конверсию, т.к. пользователи быстрее найдут нужный товар</td>\n",
       "    </tr>\n",
       "    <tr>\n",
       "      <td>4</td>\n",
       "      <td>5</td>\n",
       "      <td>Изменить цвет фона главной страницы, чтобы увеличить вовлеченность пользователей</td>\n",
       "    </tr>\n",
       "    <tr>\n",
       "      <td>5</td>\n",
       "      <td>6</td>\n",
       "      <td>Добавить страницу отзывов клиентов о магазине, что позволит увеличить количество заказов</td>\n",
       "    </tr>\n",
       "    <tr>\n",
       "      <td>6</td>\n",
       "      <td>7</td>\n",
       "      <td>Показать на главной странице баннеры с актуальными акциями и распродажами, чтобы увеличить конверсию</td>\n",
       "    </tr>\n",
       "    <tr>\n",
       "      <td>7</td>\n",
       "      <td>8</td>\n",
       "      <td>Добавить форму подписки на все основные страницы, чтобы собрать базу клиентов для email-рассылок</td>\n",
       "    </tr>\n",
       "    <tr>\n",
       "      <td>8</td>\n",
       "      <td>9</td>\n",
       "      <td>Запустить акцию, дающую скидку на товар в день рождения</td>\n",
       "    </tr>\n",
       "  </tbody>\n",
       "</table>\n",
       "</div>"
      ],
      "text/plain": [
       "   Hypothesis_num  \\\n",
       "0               1   \n",
       "1               2   \n",
       "2               3   \n",
       "3               4   \n",
       "4               5   \n",
       "5               6   \n",
       "6               7   \n",
       "7               8   \n",
       "8               9   \n",
       "\n",
       "                                                                                                     Hypothesis  \n",
       "0            Добавить два новых канала привлечения трафика, что позволит привлекать на 30% больше пользователей  \n",
       "1                                     Запустить собственную службу доставки, что сократит срок доставки заказов  \n",
       "2  Добавить блоки рекомендаций товаров на сайт интернет магазина, чтобы повысить конверсию и средний чек заказа  \n",
       "3           Изменить структура категорий, что увеличит конверсию, т.к. пользователи быстрее найдут нужный товар  \n",
       "4                              Изменить цвет фона главной страницы, чтобы увеличить вовлеченность пользователей  \n",
       "5                      Добавить страницу отзывов клиентов о магазине, что позволит увеличить количество заказов  \n",
       "6          Показать на главной странице баннеры с актуальными акциями и распродажами, чтобы увеличить конверсию  \n",
       "7              Добавить форму подписки на все основные страницы, чтобы собрать базу клиентов для email-рассылок  \n",
       "8                                                       Запустить акцию, дающую скидку на товар в день рождения  "
      ]
     },
     "execution_count": 6,
     "metadata": {},
     "output_type": "execute_result"
    }
   ],
   "source": [
    "# Посмотрим на гипотезы, для этого нужно увеличить количество символов в записи\n",
    "\n",
    "pd.set_option('display.max_colwidth', 150)\n",
    "\n",
    "hypothesis[['Hypothesis_num','Hypothesis']]\n"
   ]
  },
  {
   "cell_type": "code",
   "execution_count": 7,
   "metadata": {},
   "outputs": [],
   "source": [
    "# Вернем ограничение на количество символов в записи, чтобы не загромождать вывод\n",
    "\n",
    "pd.set_option('display.max_colwidth', 50)"
   ]
  },
  {
   "cell_type": "markdown",
   "metadata": {},
   "source": [
    "ICE (impact, confidence, effort / ease «влияние, уверенность, усилия / простота») — один из самых популярных способов приоритизации задач. ICE рассчитывается по формуле:"
   ]
  },
  {
   "cell_type": "markdown",
   "metadata": {},
   "source": [
    "\\begin{equation*}\n",
    "\\ ICE = \\frac{Impact * Confidence}{Efforts}\n",
    "\\end{equation*}"
   ]
  },
  {
   "cell_type": "code",
   "execution_count": 8,
   "metadata": {},
   "outputs": [
    {
     "data": {
      "text/html": [
       "<div>\n",
       "<style scoped>\n",
       "    .dataframe tbody tr th:only-of-type {\n",
       "        vertical-align: middle;\n",
       "    }\n",
       "\n",
       "    .dataframe tbody tr th {\n",
       "        vertical-align: top;\n",
       "    }\n",
       "\n",
       "    .dataframe thead th {\n",
       "        text-align: right;\n",
       "    }\n",
       "</style>\n",
       "<table border=\"1\" class=\"dataframe\">\n",
       "  <thead>\n",
       "    <tr style=\"text-align: right;\">\n",
       "      <th></th>\n",
       "      <th>Hypothesis_num</th>\n",
       "      <th>ICE</th>\n",
       "    </tr>\n",
       "  </thead>\n",
       "  <tbody>\n",
       "    <tr>\n",
       "      <td>8</td>\n",
       "      <td>9</td>\n",
       "      <td>16.200000</td>\n",
       "    </tr>\n",
       "    <tr>\n",
       "      <td>0</td>\n",
       "      <td>1</td>\n",
       "      <td>13.333333</td>\n",
       "    </tr>\n",
       "    <tr>\n",
       "      <td>7</td>\n",
       "      <td>8</td>\n",
       "      <td>11.200000</td>\n",
       "    </tr>\n",
       "    <tr>\n",
       "      <td>6</td>\n",
       "      <td>7</td>\n",
       "      <td>8.000000</td>\n",
       "    </tr>\n",
       "    <tr>\n",
       "      <td>2</td>\n",
       "      <td>3</td>\n",
       "      <td>7.000000</td>\n",
       "    </tr>\n",
       "    <tr>\n",
       "      <td>1</td>\n",
       "      <td>2</td>\n",
       "      <td>2.000000</td>\n",
       "    </tr>\n",
       "    <tr>\n",
       "      <td>5</td>\n",
       "      <td>6</td>\n",
       "      <td>1.333333</td>\n",
       "    </tr>\n",
       "    <tr>\n",
       "      <td>3</td>\n",
       "      <td>4</td>\n",
       "      <td>1.125000</td>\n",
       "    </tr>\n",
       "    <tr>\n",
       "      <td>4</td>\n",
       "      <td>5</td>\n",
       "      <td>1.000000</td>\n",
       "    </tr>\n",
       "  </tbody>\n",
       "</table>\n",
       "</div>"
      ],
      "text/plain": [
       "   Hypothesis_num        ICE\n",
       "8               9  16.200000\n",
       "0               1  13.333333\n",
       "7               8  11.200000\n",
       "6               7   8.000000\n",
       "2               3   7.000000\n",
       "1               2   2.000000\n",
       "5               6   1.333333\n",
       "3               4   1.125000\n",
       "4               5   1.000000"
      ]
     },
     "execution_count": 8,
     "metadata": {},
     "output_type": "execute_result"
    }
   ],
   "source": [
    "# добавим столбец ICE\n",
    "\n",
    "hypothesis['ICE'] =hypothesis['Impact'] * hypothesis['Confidence'] / hypothesis['Efforts']\n",
    "hypothesis[['Hypothesis_num','ICE']].sort_values(by='ICE', ascending=False)"
   ]
  },
  {
   "cell_type": "markdown",
   "metadata": {},
   "source": [
    "По показателю ICE лидируют гипотезы № 9,1,8 "
   ]
  },
  {
   "cell_type": "markdown",
   "metadata": {},
   "source": [
    "### Применим фреймворк RICE для приоритизации гипотез. Отсортируем их по убыванию приоритета."
   ]
  },
  {
   "cell_type": "markdown",
   "metadata": {},
   "source": [
    "Фреймворк RICE отличается от ICE еще одним компонентом Reach — количество пользователей которых затронет планируемое изменение. RICE рассчитывается по формуте"
   ]
  },
  {
   "cell_type": "markdown",
   "metadata": {},
   "source": [
    "\\begin{equation*}\n",
    "\\ RICE = \\frac{Rearch * Impact * Confidence}{Efforts}\n",
    "\\end{equation*}"
   ]
  },
  {
   "cell_type": "code",
   "execution_count": 9,
   "metadata": {},
   "outputs": [
    {
     "data": {
      "text/html": [
       "<div>\n",
       "<style scoped>\n",
       "    .dataframe tbody tr th:only-of-type {\n",
       "        vertical-align: middle;\n",
       "    }\n",
       "\n",
       "    .dataframe tbody tr th {\n",
       "        vertical-align: top;\n",
       "    }\n",
       "\n",
       "    .dataframe thead th {\n",
       "        text-align: right;\n",
       "    }\n",
       "</style>\n",
       "<table border=\"1\" class=\"dataframe\">\n",
       "  <thead>\n",
       "    <tr style=\"text-align: right;\">\n",
       "      <th></th>\n",
       "      <th>Hypothesis_num</th>\n",
       "      <th>RICE</th>\n",
       "    </tr>\n",
       "  </thead>\n",
       "  <tbody>\n",
       "    <tr>\n",
       "      <td>7</td>\n",
       "      <td>8</td>\n",
       "      <td>112.0</td>\n",
       "    </tr>\n",
       "    <tr>\n",
       "      <td>2</td>\n",
       "      <td>3</td>\n",
       "      <td>56.0</td>\n",
       "    </tr>\n",
       "    <tr>\n",
       "      <td>0</td>\n",
       "      <td>1</td>\n",
       "      <td>40.0</td>\n",
       "    </tr>\n",
       "    <tr>\n",
       "      <td>6</td>\n",
       "      <td>7</td>\n",
       "      <td>40.0</td>\n",
       "    </tr>\n",
       "    <tr>\n",
       "      <td>8</td>\n",
       "      <td>9</td>\n",
       "      <td>16.2</td>\n",
       "    </tr>\n",
       "    <tr>\n",
       "      <td>3</td>\n",
       "      <td>4</td>\n",
       "      <td>9.0</td>\n",
       "    </tr>\n",
       "    <tr>\n",
       "      <td>1</td>\n",
       "      <td>2</td>\n",
       "      <td>4.0</td>\n",
       "    </tr>\n",
       "    <tr>\n",
       "      <td>5</td>\n",
       "      <td>6</td>\n",
       "      <td>4.0</td>\n",
       "    </tr>\n",
       "    <tr>\n",
       "      <td>4</td>\n",
       "      <td>5</td>\n",
       "      <td>3.0</td>\n",
       "    </tr>\n",
       "  </tbody>\n",
       "</table>\n",
       "</div>"
      ],
      "text/plain": [
       "   Hypothesis_num   RICE\n",
       "7               8  112.0\n",
       "2               3   56.0\n",
       "0               1   40.0\n",
       "6               7   40.0\n",
       "8               9   16.2\n",
       "3               4    9.0\n",
       "1               2    4.0\n",
       "5               6    4.0\n",
       "4               5    3.0"
      ]
     },
     "execution_count": 9,
     "metadata": {},
     "output_type": "execute_result"
    }
   ],
   "source": [
    "hypothesis['RICE'] =hypothesis['ICE'] * hypothesis['Reach']\n",
    "hypothesis[['Hypothesis_num','RICE']].sort_values(by='RICE', ascending=False)"
   ]
  },
  {
   "cell_type": "markdown",
   "metadata": {},
   "source": [
    "По показателю RICE лидируют гипотезы № 8, 3, 1 и 7 "
   ]
  },
  {
   "cell_type": "code",
   "execution_count": 10,
   "metadata": {},
   "outputs": [
    {
     "data": {
      "text/html": [
       "<div>\n",
       "<style scoped>\n",
       "    .dataframe tbody tr th:only-of-type {\n",
       "        vertical-align: middle;\n",
       "    }\n",
       "\n",
       "    .dataframe tbody tr th {\n",
       "        vertical-align: top;\n",
       "    }\n",
       "\n",
       "    .dataframe thead th {\n",
       "        text-align: right;\n",
       "    }\n",
       "</style>\n",
       "<table border=\"1\" class=\"dataframe\">\n",
       "  <thead>\n",
       "    <tr style=\"text-align: right;\">\n",
       "      <th></th>\n",
       "      <th>Hypothesis_num</th>\n",
       "      <th>values</th>\n",
       "      <th>mark</th>\n",
       "    </tr>\n",
       "  </thead>\n",
       "  <tbody>\n",
       "    <tr>\n",
       "      <td>0</td>\n",
       "      <td>1</td>\n",
       "      <td>13.333333</td>\n",
       "      <td>ICE</td>\n",
       "    </tr>\n",
       "    <tr>\n",
       "      <td>1</td>\n",
       "      <td>2</td>\n",
       "      <td>2.000000</td>\n",
       "      <td>ICE</td>\n",
       "    </tr>\n",
       "    <tr>\n",
       "      <td>2</td>\n",
       "      <td>3</td>\n",
       "      <td>7.000000</td>\n",
       "      <td>ICE</td>\n",
       "    </tr>\n",
       "    <tr>\n",
       "      <td>3</td>\n",
       "      <td>4</td>\n",
       "      <td>1.125000</td>\n",
       "      <td>ICE</td>\n",
       "    </tr>\n",
       "    <tr>\n",
       "      <td>4</td>\n",
       "      <td>5</td>\n",
       "      <td>1.000000</td>\n",
       "      <td>ICE</td>\n",
       "    </tr>\n",
       "    <tr>\n",
       "      <td>5</td>\n",
       "      <td>6</td>\n",
       "      <td>1.333333</td>\n",
       "      <td>ICE</td>\n",
       "    </tr>\n",
       "    <tr>\n",
       "      <td>6</td>\n",
       "      <td>7</td>\n",
       "      <td>8.000000</td>\n",
       "      <td>ICE</td>\n",
       "    </tr>\n",
       "    <tr>\n",
       "      <td>7</td>\n",
       "      <td>8</td>\n",
       "      <td>11.200000</td>\n",
       "      <td>ICE</td>\n",
       "    </tr>\n",
       "    <tr>\n",
       "      <td>8</td>\n",
       "      <td>9</td>\n",
       "      <td>16.200000</td>\n",
       "      <td>ICE</td>\n",
       "    </tr>\n",
       "    <tr>\n",
       "      <td>0</td>\n",
       "      <td>1</td>\n",
       "      <td>40.000000</td>\n",
       "      <td>RICE</td>\n",
       "    </tr>\n",
       "    <tr>\n",
       "      <td>1</td>\n",
       "      <td>2</td>\n",
       "      <td>4.000000</td>\n",
       "      <td>RICE</td>\n",
       "    </tr>\n",
       "    <tr>\n",
       "      <td>2</td>\n",
       "      <td>3</td>\n",
       "      <td>56.000000</td>\n",
       "      <td>RICE</td>\n",
       "    </tr>\n",
       "    <tr>\n",
       "      <td>3</td>\n",
       "      <td>4</td>\n",
       "      <td>9.000000</td>\n",
       "      <td>RICE</td>\n",
       "    </tr>\n",
       "    <tr>\n",
       "      <td>4</td>\n",
       "      <td>5</td>\n",
       "      <td>3.000000</td>\n",
       "      <td>RICE</td>\n",
       "    </tr>\n",
       "    <tr>\n",
       "      <td>5</td>\n",
       "      <td>6</td>\n",
       "      <td>4.000000</td>\n",
       "      <td>RICE</td>\n",
       "    </tr>\n",
       "    <tr>\n",
       "      <td>6</td>\n",
       "      <td>7</td>\n",
       "      <td>40.000000</td>\n",
       "      <td>RICE</td>\n",
       "    </tr>\n",
       "    <tr>\n",
       "      <td>7</td>\n",
       "      <td>8</td>\n",
       "      <td>112.000000</td>\n",
       "      <td>RICE</td>\n",
       "    </tr>\n",
       "    <tr>\n",
       "      <td>8</td>\n",
       "      <td>9</td>\n",
       "      <td>16.200000</td>\n",
       "      <td>RICE</td>\n",
       "    </tr>\n",
       "  </tbody>\n",
       "</table>\n",
       "</div>"
      ],
      "text/plain": [
       "   Hypothesis_num      values  mark\n",
       "0               1   13.333333   ICE\n",
       "1               2    2.000000   ICE\n",
       "2               3    7.000000   ICE\n",
       "3               4    1.125000   ICE\n",
       "4               5    1.000000   ICE\n",
       "5               6    1.333333   ICE\n",
       "6               7    8.000000   ICE\n",
       "7               8   11.200000   ICE\n",
       "8               9   16.200000   ICE\n",
       "0               1   40.000000  RICE\n",
       "1               2    4.000000  RICE\n",
       "2               3   56.000000  RICE\n",
       "3               4    9.000000  RICE\n",
       "4               5    3.000000  RICE\n",
       "5               6    4.000000  RICE\n",
       "6               7   40.000000  RICE\n",
       "7               8  112.000000  RICE\n",
       "8               9   16.200000  RICE"
      ]
     },
     "execution_count": 10,
     "metadata": {},
     "output_type": "execute_result"
    }
   ],
   "source": [
    "hyp1=hypothesis[['Hypothesis_num','ICE']]\n",
    "hyp1['mark']='ICE'\n",
    "hyp1=hyp1.rename(columns={'ICE':'values'})\n",
    "hyp2=hypothesis[['Hypothesis_num','RICE']]\n",
    "hyp2['mark']='RICE'\n",
    "hyp2=hyp2.rename(columns={'RICE':'values'})\n",
    "\n",
    "hyp = pd.concat([hyp1, hyp2], axis=0)\n",
    "hyp"
   ]
  },
  {
   "cell_type": "code",
   "execution_count": 11,
   "metadata": {},
   "outputs": [
    {
     "data": {
      "text/html": [
       "<div>\n",
       "<style scoped>\n",
       "    .dataframe tbody tr th:only-of-type {\n",
       "        vertical-align: middle;\n",
       "    }\n",
       "\n",
       "    .dataframe tbody tr th {\n",
       "        vertical-align: top;\n",
       "    }\n",
       "\n",
       "    .dataframe thead th {\n",
       "        text-align: right;\n",
       "    }\n",
       "</style>\n",
       "<table border=\"1\" class=\"dataframe\">\n",
       "  <thead>\n",
       "    <tr style=\"text-align: right;\">\n",
       "      <th></th>\n",
       "      <th>Hypothesis_num</th>\n",
       "      <th>mark</th>\n",
       "      <th>values</th>\n",
       "    </tr>\n",
       "  </thead>\n",
       "  <tbody>\n",
       "    <tr>\n",
       "      <td>0</td>\n",
       "      <td>1</td>\n",
       "      <td>ICE</td>\n",
       "      <td>13.333333</td>\n",
       "    </tr>\n",
       "    <tr>\n",
       "      <td>1</td>\n",
       "      <td>1</td>\n",
       "      <td>RICE</td>\n",
       "      <td>40.000000</td>\n",
       "    </tr>\n",
       "    <tr>\n",
       "      <td>2</td>\n",
       "      <td>2</td>\n",
       "      <td>ICE</td>\n",
       "      <td>2.000000</td>\n",
       "    </tr>\n",
       "    <tr>\n",
       "      <td>3</td>\n",
       "      <td>2</td>\n",
       "      <td>RICE</td>\n",
       "      <td>4.000000</td>\n",
       "    </tr>\n",
       "    <tr>\n",
       "      <td>4</td>\n",
       "      <td>3</td>\n",
       "      <td>ICE</td>\n",
       "      <td>7.000000</td>\n",
       "    </tr>\n",
       "    <tr>\n",
       "      <td>5</td>\n",
       "      <td>3</td>\n",
       "      <td>RICE</td>\n",
       "      <td>56.000000</td>\n",
       "    </tr>\n",
       "    <tr>\n",
       "      <td>6</td>\n",
       "      <td>4</td>\n",
       "      <td>ICE</td>\n",
       "      <td>1.125000</td>\n",
       "    </tr>\n",
       "    <tr>\n",
       "      <td>7</td>\n",
       "      <td>4</td>\n",
       "      <td>RICE</td>\n",
       "      <td>9.000000</td>\n",
       "    </tr>\n",
       "    <tr>\n",
       "      <td>8</td>\n",
       "      <td>5</td>\n",
       "      <td>ICE</td>\n",
       "      <td>1.000000</td>\n",
       "    </tr>\n",
       "    <tr>\n",
       "      <td>9</td>\n",
       "      <td>5</td>\n",
       "      <td>RICE</td>\n",
       "      <td>3.000000</td>\n",
       "    </tr>\n",
       "    <tr>\n",
       "      <td>10</td>\n",
       "      <td>6</td>\n",
       "      <td>ICE</td>\n",
       "      <td>1.333333</td>\n",
       "    </tr>\n",
       "    <tr>\n",
       "      <td>11</td>\n",
       "      <td>6</td>\n",
       "      <td>RICE</td>\n",
       "      <td>4.000000</td>\n",
       "    </tr>\n",
       "    <tr>\n",
       "      <td>12</td>\n",
       "      <td>7</td>\n",
       "      <td>ICE</td>\n",
       "      <td>8.000000</td>\n",
       "    </tr>\n",
       "    <tr>\n",
       "      <td>13</td>\n",
       "      <td>7</td>\n",
       "      <td>RICE</td>\n",
       "      <td>40.000000</td>\n",
       "    </tr>\n",
       "    <tr>\n",
       "      <td>14</td>\n",
       "      <td>8</td>\n",
       "      <td>ICE</td>\n",
       "      <td>11.200000</td>\n",
       "    </tr>\n",
       "    <tr>\n",
       "      <td>15</td>\n",
       "      <td>8</td>\n",
       "      <td>RICE</td>\n",
       "      <td>112.000000</td>\n",
       "    </tr>\n",
       "    <tr>\n",
       "      <td>16</td>\n",
       "      <td>9</td>\n",
       "      <td>ICE</td>\n",
       "      <td>16.200000</td>\n",
       "    </tr>\n",
       "    <tr>\n",
       "      <td>17</td>\n",
       "      <td>9</td>\n",
       "      <td>RICE</td>\n",
       "      <td>16.200000</td>\n",
       "    </tr>\n",
       "  </tbody>\n",
       "</table>\n",
       "</div>"
      ],
      "text/plain": [
       "    Hypothesis_num  mark      values\n",
       "0                1   ICE   13.333333\n",
       "1                1  RICE   40.000000\n",
       "2                2   ICE    2.000000\n",
       "3                2  RICE    4.000000\n",
       "4                3   ICE    7.000000\n",
       "5                3  RICE   56.000000\n",
       "6                4   ICE    1.125000\n",
       "7                4  RICE    9.000000\n",
       "8                5   ICE    1.000000\n",
       "9                5  RICE    3.000000\n",
       "10               6   ICE    1.333333\n",
       "11               6  RICE    4.000000\n",
       "12               7   ICE    8.000000\n",
       "13               7  RICE   40.000000\n",
       "14               8   ICE   11.200000\n",
       "15               8  RICE  112.000000\n",
       "16               9   ICE   16.200000\n",
       "17               9  RICE   16.200000"
      ]
     },
     "execution_count": 11,
     "metadata": {},
     "output_type": "execute_result"
    }
   ],
   "source": [
    "hyp_pivot=hyp.groupby(['Hypothesis_num', 'mark'], as_index=False).agg({'values':'sum'})\n",
    "\n",
    "hyp_pivot"
   ]
  },
  {
   "cell_type": "markdown",
   "metadata": {},
   "source": [
    "Посмотрим изменение на графике:"
   ]
  },
  {
   "cell_type": "code",
   "execution_count": 12,
   "metadata": {},
   "outputs": [
    {
     "data": {
      "image/png": "[encoded data removed]",
      "text/plain": [
       "<Figure size 504x720 with 1 Axes>"
      ]
     },
     "metadata": {
      "needs_background": "light"
     },
     "output_type": "display_data"
    }
   ],
   "source": [
    "Hypothesis_list = hyp_pivot['Hypothesis_num'].unique() \n",
    "# colors = ['red', 'blue', 'yellow', 'pink', 'green', 'brawn', 'dark-blue', 'purple', 'orange']\n",
    "\n",
    "fig, ax = plt.subplots(1, figsize=(7,10))\n",
    "for i in Hypothesis_list:\n",
    "    # get a single hypothesis from the list\n",
    "    temp = hyp_pivot[hyp_pivot['Hypothesis_num'] == i]\n",
    "    # plot the lines\n",
    "    plt.plot(temp['mark'], temp['values'], marker='o', markersize=5, label = i)   \n",
    "\n",
    "    \n",
    "plt.xticks(['ICE', 'RICE'])\n",
    "plt.legend()                  \n",
    "plt.show()"
   ]
  },
  {
   "cell_type": "markdown",
   "metadata": {},
   "source": [
    "ВЫВОДЫ\n",
    "        \n",
    "По показателю RICE лидирует гипотеза № 8 (Добавить форму подписки на все основные страницы, чтобы собрать базу клиентов для email-рассылок), поскольку она охватывает всех пользователей и имеет максимальный показатель Reach.\n",
    "\n",
    "Гипотеза №3 (Добавить блоки рекомендаций товаров на сайт интернет магазина, чтобы повысить конверсию и средний чек заказа) также поднялась по показателю RICE на 2е место за счет высокого охвата пользователей. \n",
    "\n",
    "Гипотеза №9, имеющаю максимальный показатель ICE, наоборот, охватывает минимальный круг пользователей (в нашем случае - только именинников), поэтому с учетом компонента Reach, скатывается на 5 по приоритету по показателю RICE. \n",
    "\n",
    "Гипотеза №1 (Добавить два новых канала привлечения трафика, что позволит привлекать на 30% больше пользователей) входит в тройку лидеров по обоим показателям. \n",
    "\n",
    "   "
   ]
  },
  {
   "cell_type": "markdown",
   "metadata": {},
   "source": [
    "## Анализ A/B-теста"
   ]
  },
  {
   "cell_type": "markdown",
   "metadata": {},
   "source": [
    "###  посмотрим таблицы с информацией о заказах и визитах"
   ]
  },
  {
   "cell_type": "code",
   "execution_count": 13,
   "metadata": {},
   "outputs": [
    {
     "data": {
      "text/html": [
       "<div>\n",
       "<style scoped>\n",
       "    .dataframe tbody tr th:only-of-type {\n",
       "        vertical-align: middle;\n",
       "    }\n",
       "\n",
       "    .dataframe tbody tr th {\n",
       "        vertical-align: top;\n",
       "    }\n",
       "\n",
       "    .dataframe thead th {\n",
       "        text-align: right;\n",
       "    }\n",
       "</style>\n",
       "<table border=\"1\" class=\"dataframe\">\n",
       "  <thead>\n",
       "    <tr style=\"text-align: right;\">\n",
       "      <th></th>\n",
       "      <th>transactionId</th>\n",
       "      <th>visitorId</th>\n",
       "      <th>date</th>\n",
       "      <th>revenue</th>\n",
       "      <th>group</th>\n",
       "    </tr>\n",
       "  </thead>\n",
       "  <tbody>\n",
       "    <tr>\n",
       "      <td>0</td>\n",
       "      <td>3667963787</td>\n",
       "      <td>3312258926</td>\n",
       "      <td>2019-08-15</td>\n",
       "      <td>1650</td>\n",
       "      <td>B</td>\n",
       "    </tr>\n",
       "    <tr>\n",
       "      <td>1</td>\n",
       "      <td>2804400009</td>\n",
       "      <td>3642806036</td>\n",
       "      <td>2019-08-15</td>\n",
       "      <td>730</td>\n",
       "      <td>B</td>\n",
       "    </tr>\n",
       "    <tr>\n",
       "      <td>2</td>\n",
       "      <td>2961555356</td>\n",
       "      <td>4069496402</td>\n",
       "      <td>2019-08-15</td>\n",
       "      <td>400</td>\n",
       "      <td>A</td>\n",
       "    </tr>\n",
       "    <tr>\n",
       "      <td>3</td>\n",
       "      <td>3797467345</td>\n",
       "      <td>1196621759</td>\n",
       "      <td>2019-08-15</td>\n",
       "      <td>9759</td>\n",
       "      <td>B</td>\n",
       "    </tr>\n",
       "    <tr>\n",
       "      <td>4</td>\n",
       "      <td>2282983706</td>\n",
       "      <td>2322279887</td>\n",
       "      <td>2019-08-15</td>\n",
       "      <td>2308</td>\n",
       "      <td>B</td>\n",
       "    </tr>\n",
       "  </tbody>\n",
       "</table>\n",
       "</div>"
      ],
      "text/plain": [
       "   transactionId   visitorId        date  revenue group\n",
       "0     3667963787  3312258926  2019-08-15     1650     B\n",
       "1     2804400009  3642806036  2019-08-15      730     B\n",
       "2     2961555356  4069496402  2019-08-15      400     A\n",
       "3     3797467345  1196621759  2019-08-15     9759     B\n",
       "4     2282983706  2322279887  2019-08-15     2308     B"
      ]
     },
     "execution_count": 13,
     "metadata": {},
     "output_type": "execute_result"
    }
   ],
   "source": [
    "# посмотрим таблицу orders_log c информацией о заказах\n",
    "\n",
    "orders = pd.read_csv('/datasets/orders.csv')\n",
    "orders.head()"
   ]
  },
  {
   "cell_type": "code",
   "execution_count": 14,
   "metadata": {},
   "outputs": [
    {
     "name": "stdout",
     "output_type": "stream",
     "text": [
      "<class 'pandas.core.frame.DataFrame'>\n",
      "RangeIndex: 1197 entries, 0 to 1196\n",
      "Data columns (total 5 columns):\n",
      "transactionId    1197 non-null int64\n",
      "visitorId        1197 non-null int64\n",
      "date             1197 non-null object\n",
      "revenue          1197 non-null int64\n",
      "group            1197 non-null object\n",
      "dtypes: int64(3), object(2)\n",
      "memory usage: 46.9+ KB\n"
     ]
    }
   ],
   "source": [
    "# посмотрим на объем и типы данных в таблице\n",
    "\n",
    "orders.info()"
   ]
  },
  {
   "cell_type": "code",
   "execution_count": 15,
   "metadata": {},
   "outputs": [],
   "source": [
    "# столбец с датами имеет строковый тип данных, нужно исправить\n",
    "\n",
    "orders['date'] = orders['date'].astype('datetime64[D]')"
   ]
  },
  {
   "cell_type": "code",
   "execution_count": 16,
   "metadata": {},
   "outputs": [
    {
     "data": {
      "text/plain": [
       "0"
      ]
     },
     "execution_count": 16,
     "metadata": {},
     "output_type": "execute_result"
    }
   ],
   "source": [
    "# Проверим наличие дубликатов \n",
    "\n",
    "orders.duplicated().sum()"
   ]
  },
  {
   "cell_type": "code",
   "execution_count": 17,
   "metadata": {},
   "outputs": [
    {
     "data": {
      "text/plain": [
       "58"
      ]
     },
     "execution_count": 17,
     "metadata": {},
     "output_type": "execute_result"
    }
   ],
   "source": [
    "a_ID=orders[orders['group']=='A']['visitorId'].unique()\n",
    "b_ID=orders[orders['group']=='B']['visitorId'].unique()\n",
    "common_id = [x for x in b_ID if x in a_ID]\n",
    "len(common_id)"
   ]
  },
  {
   "cell_type": "markdown",
   "metadata": {},
   "source": [
    "58 пользователей оказались сразу в двух группах, для исключения ошибок их нужно удалить из анализируемых данных."
   ]
  },
  {
   "cell_type": "code",
   "execution_count": 18,
   "metadata": {},
   "outputs": [],
   "source": [
    "orders=orders.query('visitorId not in @common_id')"
   ]
  },
  {
   "cell_type": "code",
   "execution_count": 19,
   "metadata": {},
   "outputs": [
    {
     "data": {
      "text/html": [
       "<div>\n",
       "<style scoped>\n",
       "    .dataframe tbody tr th:only-of-type {\n",
       "        vertical-align: middle;\n",
       "    }\n",
       "\n",
       "    .dataframe tbody tr th {\n",
       "        vertical-align: top;\n",
       "    }\n",
       "\n",
       "    .dataframe thead th {\n",
       "        text-align: right;\n",
       "    }\n",
       "</style>\n",
       "<table border=\"1\" class=\"dataframe\">\n",
       "  <thead>\n",
       "    <tr style=\"text-align: right;\">\n",
       "      <th></th>\n",
       "      <th>date</th>\n",
       "      <th>group</th>\n",
       "      <th>visitors</th>\n",
       "    </tr>\n",
       "  </thead>\n",
       "  <tbody>\n",
       "    <tr>\n",
       "      <td>0</td>\n",
       "      <td>2019-08-01</td>\n",
       "      <td>A</td>\n",
       "      <td>719</td>\n",
       "    </tr>\n",
       "    <tr>\n",
       "      <td>1</td>\n",
       "      <td>2019-08-02</td>\n",
       "      <td>A</td>\n",
       "      <td>619</td>\n",
       "    </tr>\n",
       "    <tr>\n",
       "      <td>2</td>\n",
       "      <td>2019-08-03</td>\n",
       "      <td>A</td>\n",
       "      <td>507</td>\n",
       "    </tr>\n",
       "    <tr>\n",
       "      <td>3</td>\n",
       "      <td>2019-08-04</td>\n",
       "      <td>A</td>\n",
       "      <td>717</td>\n",
       "    </tr>\n",
       "    <tr>\n",
       "      <td>4</td>\n",
       "      <td>2019-08-05</td>\n",
       "      <td>A</td>\n",
       "      <td>756</td>\n",
       "    </tr>\n",
       "  </tbody>\n",
       "</table>\n",
       "</div>"
      ],
      "text/plain": [
       "         date group  visitors\n",
       "0  2019-08-01     A       719\n",
       "1  2019-08-02     A       619\n",
       "2  2019-08-03     A       507\n",
       "3  2019-08-04     A       717\n",
       "4  2019-08-05     A       756"
      ]
     },
     "execution_count": 19,
     "metadata": {},
     "output_type": "execute_result"
    }
   ],
   "source": [
    "# посмотрим таблицу visits_log с информацией о посещениях сайта\n",
    "\n",
    "visitors = pd.read_csv('/datasets/visitors.csv')\n",
    "visitors.head()"
   ]
  },
  {
   "cell_type": "code",
   "execution_count": 20,
   "metadata": {},
   "outputs": [
    {
     "name": "stdout",
     "output_type": "stream",
     "text": [
      "<class 'pandas.core.frame.DataFrame'>\n",
      "RangeIndex: 62 entries, 0 to 61\n",
      "Data columns (total 3 columns):\n",
      "date        62 non-null object\n",
      "group       62 non-null object\n",
      "visitors    62 non-null int64\n",
      "dtypes: int64(1), object(2)\n",
      "memory usage: 1.6+ KB\n"
     ]
    }
   ],
   "source": [
    "# посмотрим на объем и типы данных в таблице\n",
    "\n",
    "visitors.info()"
   ]
  },
  {
   "cell_type": "code",
   "execution_count": 21,
   "metadata": {},
   "outputs": [],
   "source": [
    "# столбец с датами имеет строковый тип данных, нужно исправить\n",
    "\n",
    "visitors['date'] = visitors['date'].astype('datetime64[D]')"
   ]
  },
  {
   "cell_type": "code",
   "execution_count": 22,
   "metadata": {},
   "outputs": [
    {
     "data": {
      "text/plain": [
       "0"
      ]
     },
     "execution_count": 22,
     "metadata": {},
     "output_type": "execute_result"
    }
   ],
   "source": [
    "# Проверим наличие дубликатов \n",
    "\n",
    "visitors.duplicated().sum()"
   ]
  },
  {
   "cell_type": "markdown",
   "metadata": {},
   "source": [
    "\n",
    "Данные чистые, можно работать."
   ]
  },
  {
   "cell_type": "markdown",
   "metadata": {},
   "source": [
    "#### Построим график кумулятивной выручки по группам"
   ]
  },
  {
   "cell_type": "code",
   "execution_count": 23,
   "metadata": {},
   "outputs": [],
   "source": [
    "# создаем массив уникальных пар значений дат и групп теста\n",
    "\n",
    "dates_groups = orders[['date','group']].drop_duplicates() "
   ]
  },
  {
   "cell_type": "code",
   "execution_count": 24,
   "metadata": {},
   "outputs": [
    {
     "data": {
      "text/html": [
       "<div>\n",
       "<style scoped>\n",
       "    .dataframe tbody tr th:only-of-type {\n",
       "        vertical-align: middle;\n",
       "    }\n",
       "\n",
       "    .dataframe tbody tr th {\n",
       "        vertical-align: top;\n",
       "    }\n",
       "\n",
       "    .dataframe thead th {\n",
       "        text-align: right;\n",
       "    }\n",
       "</style>\n",
       "<table border=\"1\" class=\"dataframe\">\n",
       "  <thead>\n",
       "    <tr style=\"text-align: right;\">\n",
       "      <th></th>\n",
       "      <th>date</th>\n",
       "      <th>group</th>\n",
       "      <th>visitorId</th>\n",
       "      <th>transactionId</th>\n",
       "      <th>revenue</th>\n",
       "    </tr>\n",
       "  </thead>\n",
       "  <tbody>\n",
       "    <tr>\n",
       "      <td>55</td>\n",
       "      <td>2019-08-01</td>\n",
       "      <td>A</td>\n",
       "      <td>19</td>\n",
       "      <td>23</td>\n",
       "      <td>142779</td>\n",
       "    </tr>\n",
       "    <tr>\n",
       "      <td>66</td>\n",
       "      <td>2019-08-01</td>\n",
       "      <td>B</td>\n",
       "      <td>17</td>\n",
       "      <td>17</td>\n",
       "      <td>59758</td>\n",
       "    </tr>\n",
       "    <tr>\n",
       "      <td>175</td>\n",
       "      <td>2019-08-02</td>\n",
       "      <td>A</td>\n",
       "      <td>36</td>\n",
       "      <td>42</td>\n",
       "      <td>234381</td>\n",
       "    </tr>\n",
       "    <tr>\n",
       "      <td>173</td>\n",
       "      <td>2019-08-02</td>\n",
       "      <td>B</td>\n",
       "      <td>39</td>\n",
       "      <td>40</td>\n",
       "      <td>221801</td>\n",
       "    </tr>\n",
       "    <tr>\n",
       "      <td>291</td>\n",
       "      <td>2019-08-03</td>\n",
       "      <td>A</td>\n",
       "      <td>60</td>\n",
       "      <td>66</td>\n",
       "      <td>346854</td>\n",
       "    </tr>\n",
       "  </tbody>\n",
       "</table>\n",
       "</div>"
      ],
      "text/plain": [
       "          date group  visitorId  transactionId  revenue\n",
       "55  2019-08-01     A         19             23   142779\n",
       "66  2019-08-01     B         17             17    59758\n",
       "175 2019-08-02     A         36             42   234381\n",
       "173 2019-08-02     B         39             40   221801\n",
       "291 2019-08-03     A         60             66   346854"
      ]
     },
     "execution_count": 24,
     "metadata": {},
     "output_type": "execute_result"
    }
   ],
   "source": [
    "# Соберём агрегированные кумулятивные по дням и группам данные о заказах\n",
    "\n",
    "orders_aggregated = dates_groups.apply(\n",
    "    lambda x: orders[np.logical_and(orders['date'] <= x['date'], orders['group'] == x['group'])].agg({'date':'max', 'group':'max', 'visitorId':'nunique', 'transactionId':'nunique', 'revenue':'sum'}), axis=1).sort_values(by=['date','group']) \n",
    "    \n",
    "orders_aggregated.head()"
   ]
  },
  {
   "cell_type": "code",
   "execution_count": 25,
   "metadata": {},
   "outputs": [
    {
     "data": {
      "text/html": [
       "<div>\n",
       "<style scoped>\n",
       "    .dataframe tbody tr th:only-of-type {\n",
       "        vertical-align: middle;\n",
       "    }\n",
       "\n",
       "    .dataframe tbody tr th {\n",
       "        vertical-align: top;\n",
       "    }\n",
       "\n",
       "    .dataframe thead th {\n",
       "        text-align: right;\n",
       "    }\n",
       "</style>\n",
       "<table border=\"1\" class=\"dataframe\">\n",
       "  <thead>\n",
       "    <tr style=\"text-align: right;\">\n",
       "      <th></th>\n",
       "      <th>date</th>\n",
       "      <th>group</th>\n",
       "      <th>visitors</th>\n",
       "    </tr>\n",
       "  </thead>\n",
       "  <tbody>\n",
       "    <tr>\n",
       "      <td>55</td>\n",
       "      <td>2019-08-01</td>\n",
       "      <td>A</td>\n",
       "      <td>719</td>\n",
       "    </tr>\n",
       "    <tr>\n",
       "      <td>66</td>\n",
       "      <td>2019-08-01</td>\n",
       "      <td>B</td>\n",
       "      <td>713</td>\n",
       "    </tr>\n",
       "    <tr>\n",
       "      <td>175</td>\n",
       "      <td>2019-08-02</td>\n",
       "      <td>A</td>\n",
       "      <td>1338</td>\n",
       "    </tr>\n",
       "    <tr>\n",
       "      <td>173</td>\n",
       "      <td>2019-08-02</td>\n",
       "      <td>B</td>\n",
       "      <td>1294</td>\n",
       "    </tr>\n",
       "    <tr>\n",
       "      <td>291</td>\n",
       "      <td>2019-08-03</td>\n",
       "      <td>A</td>\n",
       "      <td>1845</td>\n",
       "    </tr>\n",
       "  </tbody>\n",
       "</table>\n",
       "</div>"
      ],
      "text/plain": [
       "          date group  visitors\n",
       "55  2019-08-01     A       719\n",
       "66  2019-08-01     B       713\n",
       "175 2019-08-02     A      1338\n",
       "173 2019-08-02     B      1294\n",
       "291 2019-08-03     A      1845"
      ]
     },
     "execution_count": 25,
     "metadata": {},
     "output_type": "execute_result"
    }
   ],
   "source": [
    "# Соберём агрегированные кумулятивные по дням и группам данные о визитах\n",
    "\n",
    "visits_aggregated=dates_groups.apply(lambda x: visitors[np.logical_and(visitors['date'] <= x['date'], visitors['group'] == x['group'])].agg({'date':'max', 'group':'max', 'visitors':'sum'}), axis=1).sort_values(by=['date','group'])\n",
    "\n",
    "visits_aggregated.head()"
   ]
  },
  {
   "cell_type": "code",
   "execution_count": 26,
   "metadata": {},
   "outputs": [
    {
     "data": {
      "text/html": [
       "<div>\n",
       "<style scoped>\n",
       "    .dataframe tbody tr th:only-of-type {\n",
       "        vertical-align: middle;\n",
       "    }\n",
       "\n",
       "    .dataframe tbody tr th {\n",
       "        vertical-align: top;\n",
       "    }\n",
       "\n",
       "    .dataframe thead th {\n",
       "        text-align: right;\n",
       "    }\n",
       "</style>\n",
       "<table border=\"1\" class=\"dataframe\">\n",
       "  <thead>\n",
       "    <tr style=\"text-align: right;\">\n",
       "      <th></th>\n",
       "      <th>date</th>\n",
       "      <th>group</th>\n",
       "      <th>visitors</th>\n",
       "      <th>buyers</th>\n",
       "      <th>orders</th>\n",
       "      <th>revenue</th>\n",
       "    </tr>\n",
       "  </thead>\n",
       "  <tbody>\n",
       "    <tr>\n",
       "      <td>0</td>\n",
       "      <td>2019-08-01</td>\n",
       "      <td>A</td>\n",
       "      <td>719</td>\n",
       "      <td>19</td>\n",
       "      <td>23</td>\n",
       "      <td>142779</td>\n",
       "    </tr>\n",
       "    <tr>\n",
       "      <td>1</td>\n",
       "      <td>2019-08-01</td>\n",
       "      <td>B</td>\n",
       "      <td>713</td>\n",
       "      <td>17</td>\n",
       "      <td>17</td>\n",
       "      <td>59758</td>\n",
       "    </tr>\n",
       "    <tr>\n",
       "      <td>2</td>\n",
       "      <td>2019-08-02</td>\n",
       "      <td>A</td>\n",
       "      <td>1338</td>\n",
       "      <td>36</td>\n",
       "      <td>42</td>\n",
       "      <td>234381</td>\n",
       "    </tr>\n",
       "    <tr>\n",
       "      <td>3</td>\n",
       "      <td>2019-08-02</td>\n",
       "      <td>B</td>\n",
       "      <td>1294</td>\n",
       "      <td>39</td>\n",
       "      <td>40</td>\n",
       "      <td>221801</td>\n",
       "    </tr>\n",
       "    <tr>\n",
       "      <td>4</td>\n",
       "      <td>2019-08-03</td>\n",
       "      <td>A</td>\n",
       "      <td>1845</td>\n",
       "      <td>60</td>\n",
       "      <td>66</td>\n",
       "      <td>346854</td>\n",
       "    </tr>\n",
       "  </tbody>\n",
       "</table>\n",
       "</div>"
      ],
      "text/plain": [
       "        date group  visitors  buyers  orders  revenue\n",
       "0 2019-08-01     A       719      19      23   142779\n",
       "1 2019-08-01     B       713      17      17    59758\n",
       "2 2019-08-02     A      1338      36      42   234381\n",
       "3 2019-08-02     B      1294      39      40   221801\n",
       "4 2019-08-03     A      1845      60      66   346854"
      ]
     },
     "execution_count": 26,
     "metadata": {},
     "output_type": "execute_result"
    }
   ],
   "source": [
    "# объединяем кумулятивные данные в одну таблицу\n",
    "\n",
    "cumulative=visits_aggregated.merge(orders_aggregated, on=['date', 'group'])\n",
    "cumulative.columns = ['date', 'group', 'visitors', 'buyers', 'orders', 'revenue']\n",
    "\n",
    "cumulative.head()"
   ]
  },
  {
   "cell_type": "markdown",
   "metadata": {},
   "source": [
    "Построим графики кумулятивной выручки по дням и группам A/B-тестирования: "
   ]
  },
  {
   "cell_type": "code",
   "execution_count": 27,
   "metadata": {},
   "outputs": [],
   "source": [
    "# разделим данные по группам\n",
    "\n",
    "cumulative_rev_A=cumulative.query('group == \"A\"')\n",
    "\n",
    "cumulative_rev_B=cumulative.query('group == \"B\"')"
   ]
  },
  {
   "cell_type": "code",
   "execution_count": 28,
   "metadata": {},
   "outputs": [
    {
     "data": {
      "image/png": "[encoded data removed]",
      "text/plain": [
       "<Figure size 432x288 with 1 Axes>"
      ]
     },
     "metadata": {
      "needs_background": "light"
     },
     "output_type": "display_data"
    }
   ],
   "source": [
    "# Построим графики кумулятивной выручки по дням и группам A/B-тестирования: \n",
    "    \n",
    "plt.plot(cumulative_rev_A['date'], cumulative_rev_A['revenue'], label='A')\n",
    "plt.plot(cumulative_rev_B['date'], cumulative_rev_B['revenue'], label='B')\n",
    "plt.legend()\n",
    "plt.title('Графики кумулятивной выручки по дням и группам A/B-тестирования')\n",
    "plt.xlabel(\"Время\")\n",
    "plt.ylabel(\"Кумулятивная выручка\")\n",
    "plt.xticks(rotation = 45)\n",
    "plt.show()"
   ]
  },
  {
   "cell_type": "markdown",
   "metadata": {},
   "source": [
    "Выручка почти равномерно увеличивается в течение всего теста.\n",
    "\n",
    "Группа В показывает лучшие результаты, однако в одной точке график В резко растет. Это может сигнализировать о всплесках числа заказов, либо о появлении очень дорогого заказа в выборке. Необходимо будет обратить на это внимание.\n"
   ]
  },
  {
   "cell_type": "markdown",
   "metadata": {},
   "source": [
    "#### Построим график кумулятивного среднего чека по группам"
   ]
  },
  {
   "cell_type": "markdown",
   "metadata": {},
   "source": [
    "Кумулятивный средний чек - это частное от деления кумулятивной выручки на кумулятивное число заказов"
   ]
  },
  {
   "cell_type": "code",
   "execution_count": 29,
   "metadata": {},
   "outputs": [
    {
     "data": {
      "image/png": "[encoded data removed]",
      "text/plain": [
       "<Figure size 432x288 with 1 Axes>"
      ]
     },
     "metadata": {
      "needs_background": "light"
     },
     "output_type": "display_data"
    }
   ],
   "source": [
    "# Построим графики среднего чека по группам \n",
    "\n",
    "plt.plot(cumulative_rev_A['date'], cumulative_rev_A['revenue']/cumulative_rev_A['orders'], label='A')\n",
    "plt.plot(cumulative_rev_B['date'], cumulative_rev_B['revenue']/cumulative_rev_B['orders'], label='B')\n",
    "plt.legend()\n",
    "plt.title('Графики кумулятивного среднего чека по группам A/B-тестирования')\n",
    "plt.xlabel(\"Время\")\n",
    "plt.ylabel(\"Средний кум.чек\")\n",
    "plt.xticks(rotation = 45)\n",
    "plt.show()"
   ]
  },
  {
   "cell_type": "markdown",
   "metadata": {},
   "source": [
    "Средний чек становится равномерным ближе к концу теста: установился для группы A и продолжает снижаться для группы B. \n",
    "\n",
    "Кроме того, в группе В заметен резкий всплеск, который может означать крупные заказы. Тогда группе В нужно больше данных, чтобы прийти к реальному среднему чеку и установиться на его уровне."
   ]
  },
  {
   "cell_type": "markdown",
   "metadata": {},
   "source": [
    "#### Построим график относительного изменения кумулятивного среднего чека группы B к группе A. "
   ]
  },
  {
   "cell_type": "code",
   "execution_count": 30,
   "metadata": {},
   "outputs": [
    {
     "data": {
      "text/html": [
       "<div>\n",
       "<style scoped>\n",
       "    .dataframe tbody tr th:only-of-type {\n",
       "        vertical-align: middle;\n",
       "    }\n",
       "\n",
       "    .dataframe tbody tr th {\n",
       "        vertical-align: top;\n",
       "    }\n",
       "\n",
       "    .dataframe thead th {\n",
       "        text-align: right;\n",
       "    }\n",
       "</style>\n",
       "<table border=\"1\" class=\"dataframe\">\n",
       "  <thead>\n",
       "    <tr style=\"text-align: right;\">\n",
       "      <th></th>\n",
       "      <th>date</th>\n",
       "      <th>groupA</th>\n",
       "      <th>visitorsA</th>\n",
       "      <th>buyersA</th>\n",
       "      <th>ordersA</th>\n",
       "      <th>revenueA</th>\n",
       "      <th>groupB</th>\n",
       "      <th>visitorsB</th>\n",
       "      <th>buyersB</th>\n",
       "      <th>ordersB</th>\n",
       "      <th>revenueB</th>\n",
       "    </tr>\n",
       "  </thead>\n",
       "  <tbody>\n",
       "    <tr>\n",
       "      <td>0</td>\n",
       "      <td>2019-08-01</td>\n",
       "      <td>A</td>\n",
       "      <td>719</td>\n",
       "      <td>19</td>\n",
       "      <td>23</td>\n",
       "      <td>142779</td>\n",
       "      <td>B</td>\n",
       "      <td>713</td>\n",
       "      <td>17</td>\n",
       "      <td>17</td>\n",
       "      <td>59758</td>\n",
       "    </tr>\n",
       "    <tr>\n",
       "      <td>1</td>\n",
       "      <td>2019-08-02</td>\n",
       "      <td>A</td>\n",
       "      <td>1338</td>\n",
       "      <td>36</td>\n",
       "      <td>42</td>\n",
       "      <td>234381</td>\n",
       "      <td>B</td>\n",
       "      <td>1294</td>\n",
       "      <td>39</td>\n",
       "      <td>40</td>\n",
       "      <td>221801</td>\n",
       "    </tr>\n",
       "    <tr>\n",
       "      <td>2</td>\n",
       "      <td>2019-08-03</td>\n",
       "      <td>A</td>\n",
       "      <td>1845</td>\n",
       "      <td>60</td>\n",
       "      <td>66</td>\n",
       "      <td>346854</td>\n",
       "      <td>B</td>\n",
       "      <td>1803</td>\n",
       "      <td>53</td>\n",
       "      <td>54</td>\n",
       "      <td>288850</td>\n",
       "    </tr>\n",
       "    <tr>\n",
       "      <td>3</td>\n",
       "      <td>2019-08-04</td>\n",
       "      <td>A</td>\n",
       "      <td>2562</td>\n",
       "      <td>71</td>\n",
       "      <td>77</td>\n",
       "      <td>388030</td>\n",
       "      <td>B</td>\n",
       "      <td>2573</td>\n",
       "      <td>66</td>\n",
       "      <td>68</td>\n",
       "      <td>385740</td>\n",
       "    </tr>\n",
       "    <tr>\n",
       "      <td>4</td>\n",
       "      <td>2019-08-05</td>\n",
       "      <td>A</td>\n",
       "      <td>3318</td>\n",
       "      <td>92</td>\n",
       "      <td>99</td>\n",
       "      <td>474413</td>\n",
       "      <td>B</td>\n",
       "      <td>3280</td>\n",
       "      <td>87</td>\n",
       "      <td>89</td>\n",
       "      <td>475648</td>\n",
       "    </tr>\n",
       "  </tbody>\n",
       "</table>\n",
       "</div>"
      ],
      "text/plain": [
       "        date groupA  visitorsA  buyersA  ordersA  revenueA groupB  visitorsB  \\\n",
       "0 2019-08-01      A        719       19       23    142779      B        713   \n",
       "1 2019-08-02      A       1338       36       42    234381      B       1294   \n",
       "2 2019-08-03      A       1845       60       66    346854      B       1803   \n",
       "3 2019-08-04      A       2562       71       77    388030      B       2573   \n",
       "4 2019-08-05      A       3318       92       99    474413      B       3280   \n",
       "\n",
       "   buyersB  ordersB  revenueB  \n",
       "0       17       17     59758  \n",
       "1       39       40    221801  \n",
       "2       53       54    288850  \n",
       "3       66       68    385740  \n",
       "4       87       89    475648  "
      ]
     },
     "execution_count": 30,
     "metadata": {},
     "output_type": "execute_result"
    }
   ],
   "source": [
    "# собираем данные в одном датафрейме с группировкой по дате\n",
    "\n",
    "cumulativeAB = cumulative_rev_A.merge(cumulative_rev_B, on='date', suffixes=['A', 'B'])\n",
    "cumulativeAB.head()"
   ]
  },
  {
   "cell_type": "code",
   "execution_count": 31,
   "metadata": {},
   "outputs": [
    {
     "data": {
      "image/png": "[encoded data removed]",
      "text/plain": [
       "<Figure size 432x288 with 1 Axes>"
      ]
     },
     "metadata": {
      "needs_background": "light"
     },
     "output_type": "display_data"
    }
   ],
   "source": [
    "plt.plot(cumulativeAB['date'], (cumulativeAB['revenueB']/cumulativeAB['ordersB'])/(cumulativeAB['revenueA']/cumulativeAB['ordersA'])-1)\n",
    "plt.axhline(y=0, color='grey', linestyle='--')\n",
    "# plt.legend()\n",
    "plt.title('Графики относительного изменения кумулятивного среднего чека группы B к группе A')\n",
    "plt.xlabel(\"Время\")\n",
    "plt.ylabel(\"Показания коэффициента\")\n",
    "plt.xticks(rotation = 45)\n",
    "plt.show()"
   ]
  },
  {
   "cell_type": "markdown",
   "metadata": {},
   "source": [
    "Скачки относительного кумулятивного среднего чека снова говорят о крупных покупках, в целом можно говорить о том, что средний кумулятивный чек по группе В все-таки устанавливается выше группы А."
   ]
  },
  {
   "cell_type": "markdown",
   "metadata": {},
   "source": [
    "#### Построим график кумулятивной конверсии по группам"
   ]
  },
  {
   "cell_type": "code",
   "execution_count": 32,
   "metadata": {},
   "outputs": [],
   "source": [
    "# считаем кумулятивную конверсию по группам \n",
    "\n",
    "cumulative_rev_A['conversion']=cumulative_rev_A['orders']/cumulative_rev_A['visitors']\n",
    "cumulative_rev_B['conversion']=cumulative_rev_B['orders']/cumulative_rev_B['visitors']"
   ]
  },
  {
   "cell_type": "code",
   "execution_count": 33,
   "metadata": {},
   "outputs": [
    {
     "data": {
      "image/png": "[encoded data removed]",
      "text/plain": [
       "<Figure size 432x288 with 1 Axes>"
      ]
     },
     "metadata": {
      "needs_background": "light"
     },
     "output_type": "display_data"
    }
   ],
   "source": [
    "# строим график кумулятивной конверсии по группам\n",
    "\n",
    "plt.plot(cumulative_rev_A['date'], cumulative_rev_A['conversion'], label='A')\n",
    "plt.plot(cumulative_rev_B['date'], cumulative_rev_B['conversion'], label='B')\n",
    "plt.legend()\n",
    "\n",
    "plt.title('График кумулятивной конверсии по группам')\n",
    "plt.xlabel(\"Время\")\n",
    "plt.ylabel(\"Показания коэффициента\")\n",
    "plt.xticks(rotation = 45)\n",
    "plt.show()\n"
   ]
  },
  {
   "cell_type": "markdown",
   "metadata": {},
   "source": [
    "Конверсия группы В довольно уверенно вырвалась вперёд и зафиксировалась, а конверсия группы А просела и также зафиксировалась."
   ]
  },
  {
   "cell_type": "markdown",
   "metadata": {},
   "source": [
    "#### Построим график относительного изменения кумулятивной конверсии группы B к группе A"
   ]
  },
  {
   "cell_type": "code",
   "execution_count": 34,
   "metadata": {},
   "outputs": [],
   "source": [
    "# считаем кумулятивную конверсию по группам в сводном файле \n",
    "\n",
    "cumulativeAB['conversionA']=cumulativeAB['ordersA']/cumulativeAB['visitorsA']\n",
    "cumulativeAB['conversionB']=cumulativeAB['ordersB']/cumulativeAB['visitorsB']"
   ]
  },
  {
   "cell_type": "code",
   "execution_count": 35,
   "metadata": {},
   "outputs": [
    {
     "data": {
      "image/png": "[encoded data removed]",
      "text/plain": [
       "<Figure size 432x288 with 1 Axes>"
      ]
     },
     "metadata": {
      "needs_background": "light"
     },
     "output_type": "display_data"
    }
   ],
   "source": [
    "# строим график относительного изменения кумулятивной конверсии группы B к группе A\n",
    "\n",
    "plt.plot(cumulativeAB['date'], cumulativeAB['conversionB']/cumulativeAB['conversionA']-1)\n",
    "# plt.legend()\n",
    "plt.axhline(y=0, color = 'grey', linestyle='--')\n",
    "plt.title('График относительного изменения кумулятивной конверсии группы B к группе A')\n",
    "plt.xlabel(\"Время\")\n",
    "plt.ylabel(\"Показания коэффициента\")\n",
    "plt.xticks(rotation = 45)\n",
    "plt.show()"
   ]
  },
  {
   "cell_type": "markdown",
   "metadata": {},
   "source": [
    "В начале теста группа B несколько проигрывала группе A, затем вырвалась вперёд. В целом можно утверждать, что отношение конверсии установилось в пользу группы В"
   ]
  },
  {
   "cell_type": "markdown",
   "metadata": {},
   "source": [
    "#### Построим точечный график количества заказов по пользователям и найдем нетипичных"
   ]
  },
  {
   "cell_type": "code",
   "execution_count": 36,
   "metadata": {},
   "outputs": [
    {
     "data": {
      "text/html": [
       "<div>\n",
       "<style scoped>\n",
       "    .dataframe tbody tr th:only-of-type {\n",
       "        vertical-align: middle;\n",
       "    }\n",
       "\n",
       "    .dataframe tbody tr th {\n",
       "        vertical-align: top;\n",
       "    }\n",
       "\n",
       "    .dataframe thead th {\n",
       "        text-align: right;\n",
       "    }\n",
       "</style>\n",
       "<table border=\"1\" class=\"dataframe\">\n",
       "  <thead>\n",
       "    <tr style=\"text-align: right;\">\n",
       "      <th></th>\n",
       "      <th>transactionId</th>\n",
       "      <th>visitorId</th>\n",
       "      <th>date</th>\n",
       "      <th>revenue</th>\n",
       "      <th>group</th>\n",
       "    </tr>\n",
       "  </thead>\n",
       "  <tbody>\n",
       "    <tr>\n",
       "      <td>0</td>\n",
       "      <td>3667963787</td>\n",
       "      <td>3312258926</td>\n",
       "      <td>2019-08-15</td>\n",
       "      <td>1650</td>\n",
       "      <td>B</td>\n",
       "    </tr>\n",
       "    <tr>\n",
       "      <td>1</td>\n",
       "      <td>2804400009</td>\n",
       "      <td>3642806036</td>\n",
       "      <td>2019-08-15</td>\n",
       "      <td>730</td>\n",
       "      <td>B</td>\n",
       "    </tr>\n",
       "    <tr>\n",
       "      <td>3</td>\n",
       "      <td>3797467345</td>\n",
       "      <td>1196621759</td>\n",
       "      <td>2019-08-15</td>\n",
       "      <td>9759</td>\n",
       "      <td>B</td>\n",
       "    </tr>\n",
       "    <tr>\n",
       "      <td>4</td>\n",
       "      <td>2282983706</td>\n",
       "      <td>2322279887</td>\n",
       "      <td>2019-08-15</td>\n",
       "      <td>2308</td>\n",
       "      <td>B</td>\n",
       "    </tr>\n",
       "    <tr>\n",
       "      <td>5</td>\n",
       "      <td>182168103</td>\n",
       "      <td>935554773</td>\n",
       "      <td>2019-08-15</td>\n",
       "      <td>2210</td>\n",
       "      <td>B</td>\n",
       "    </tr>\n",
       "  </tbody>\n",
       "</table>\n",
       "</div>"
      ],
      "text/plain": [
       "   transactionId   visitorId       date  revenue group\n",
       "0     3667963787  3312258926 2019-08-15     1650     B\n",
       "1     2804400009  3642806036 2019-08-15      730     B\n",
       "3     3797467345  1196621759 2019-08-15     9759     B\n",
       "4     2282983706  2322279887 2019-08-15     2308     B\n",
       "5      182168103   935554773 2019-08-15     2210     B"
      ]
     },
     "execution_count": 36,
     "metadata": {},
     "output_type": "execute_result"
    }
   ],
   "source": [
    "orders.head()"
   ]
  },
  {
   "cell_type": "code",
   "execution_count": 37,
   "metadata": {},
   "outputs": [
    {
     "data": {
      "text/html": [
       "<div>\n",
       "<style scoped>\n",
       "    .dataframe tbody tr th:only-of-type {\n",
       "        vertical-align: middle;\n",
       "    }\n",
       "\n",
       "    .dataframe tbody tr th {\n",
       "        vertical-align: top;\n",
       "    }\n",
       "\n",
       "    .dataframe thead th {\n",
       "        text-align: right;\n",
       "    }\n",
       "</style>\n",
       "<table border=\"1\" class=\"dataframe\">\n",
       "  <thead>\n",
       "    <tr style=\"text-align: right;\">\n",
       "      <th></th>\n",
       "      <th>user</th>\n",
       "      <th>orders</th>\n",
       "    </tr>\n",
       "  </thead>\n",
       "  <tbody>\n",
       "    <tr>\n",
       "      <td>908</td>\n",
       "      <td>3967698036</td>\n",
       "      <td>3</td>\n",
       "    </tr>\n",
       "    <tr>\n",
       "      <td>55</td>\n",
       "      <td>249864742</td>\n",
       "      <td>3</td>\n",
       "    </tr>\n",
       "    <tr>\n",
       "      <td>478</td>\n",
       "      <td>2108163459</td>\n",
       "      <td>3</td>\n",
       "    </tr>\n",
       "    <tr>\n",
       "      <td>687</td>\n",
       "      <td>2988190573</td>\n",
       "      <td>3</td>\n",
       "    </tr>\n",
       "    <tr>\n",
       "      <td>890</td>\n",
       "      <td>3908431265</td>\n",
       "      <td>3</td>\n",
       "    </tr>\n",
       "  </tbody>\n",
       "</table>\n",
       "</div>"
      ],
      "text/plain": [
       "           user  orders\n",
       "908  3967698036       3\n",
       "55    249864742       3\n",
       "478  2108163459       3\n",
       "687  2988190573       3\n",
       "890  3908431265       3"
      ]
     },
     "execution_count": 37,
     "metadata": {},
     "output_type": "execute_result"
    }
   ],
   "source": [
    "orders_by_user=orders.groupby('visitorId', as_index=False).agg({'transactionId':'nunique'})\n",
    "orders_by_user.columns = ['user','orders']\n",
    "orders_by_user.sort_values(by='orders', ascending=False).head()"
   ]
  },
  {
   "cell_type": "code",
   "execution_count": 38,
   "metadata": {},
   "outputs": [
    {
     "data": {
      "image/png": "[encoded data removed]",
      "text/plain": [
       "<Figure size 432x288 with 1 Axes>"
      ]
     },
     "metadata": {
      "needs_background": "light"
     },
     "output_type": "display_data"
    }
   ],
   "source": [
    "# серия из чисел от 0 до количества наблюдений в orders_by_user\n",
    "\n",
    "x_values = pd.Series(range(0, len(orders_by_user)))\n",
    "\n",
    "# Построим точечный график количества заказов по пользователям\n",
    "\n",
    "plt.scatter(x_values, orders_by_user['orders'])\n",
    "plt.title('Точечный график количества заказов по пользователям')\n",
    "plt.show()\n"
   ]
  },
  {
   "cell_type": "markdown",
   "metadata": {},
   "source": [
    "Подавляющее большинство пользователей сделало 1 заказ, есть те, кто делал по 2 и 3 заказа. Это нетипичное поведение клиентов.\n"
   ]
  },
  {
   "cell_type": "markdown",
   "metadata": {},
   "source": [
    "Посчитаем 95-й и 99-й перцентили количества заказов на пользователя"
   ]
  },
  {
   "cell_type": "code",
   "execution_count": 39,
   "metadata": {},
   "outputs": [
    {
     "data": {
      "text/plain": [
       "array([1., 1., 2.])"
      ]
     },
     "execution_count": 39,
     "metadata": {},
     "output_type": "execute_result"
    }
   ],
   "source": [
    "np.percentile(orders_by_user['orders'], [90, 95, 99])"
   ]
  },
  {
   "cell_type": "markdown",
   "metadata": {},
   "source": [
    "Не более 1% совершали более 2х заказов. Поэтому покупателей,сделавших 2 и более покупки можно считать нетипичными."
   ]
  },
  {
   "cell_type": "markdown",
   "metadata": {},
   "source": [
    "#### Построим точечный график стоимостей заказов и найдем нетипичные"
   ]
  },
  {
   "cell_type": "code",
   "execution_count": 40,
   "metadata": {},
   "outputs": [
    {
     "data": {
      "image/png": "[encoded data removed]",
      "text/plain": [
       "<Figure size 432x288 with 1 Axes>"
      ]
     },
     "metadata": {
      "needs_background": "light"
     },
     "output_type": "display_data"
    }
   ],
   "source": [
    "# серия из чисел от 0 до количества наблюдений в orders_by_user\n",
    "\n",
    "x_values = pd.Series(range(0, len(orders)))\n",
    "\n",
    "# Построим точечный график количества заказов по пользователям\n",
    "\n",
    "plt.scatter(x_values, orders['revenue'])\n",
    "plt.title('Точечный график стоимостей заказов по пользователям')\n",
    "plt.show()"
   ]
  },
  {
   "cell_type": "markdown",
   "metadata": {},
   "source": [
    "Подавляющее большинство заказов не дороже 50000 рублей, однако есть заказ более чем на 1,2 млн. это точно не типичный заказ, который портит картину. "
   ]
  },
  {
   "cell_type": "markdown",
   "metadata": {},
   "source": [
    "Посчитаем 95-й и 99-й перцентили количества заказов на пользователя"
   ]
  },
  {
   "cell_type": "code",
   "execution_count": 41,
   "metadata": {},
   "outputs": [
    {
     "data": {
      "text/plain": [
       "array([17990., 26785., 53904.])"
      ]
     },
     "execution_count": 41,
     "metadata": {},
     "output_type": "execute_result"
    }
   ],
   "source": [
    "np.percentile(orders['revenue'], [90, 95, 99])"
   ]
  },
  {
   "cell_type": "markdown",
   "metadata": {},
   "source": [
    "Не больше 5% заказов дороже 27000 рублей и не более 1% дороже 54000 рублей. Поэтому покупки дороже 30000 рублей можно считать нетипичными."
   ]
  },
  {
   "cell_type": "markdown",
   "metadata": {},
   "source": [
    "#### Посчитаем статистическую значимость различий в конверсии между группами по «сырым» данным"
   ]
  },
  {
   "cell_type": "markdown",
   "metadata": {},
   "source": [
    "Подготовим данные для расчетов"
   ]
  },
  {
   "cell_type": "code",
   "execution_count": 42,
   "metadata": {},
   "outputs": [
    {
     "data": {
      "text/html": [
       "<div>\n",
       "<style scoped>\n",
       "    .dataframe tbody tr th:only-of-type {\n",
       "        vertical-align: middle;\n",
       "    }\n",
       "\n",
       "    .dataframe tbody tr th {\n",
       "        vertical-align: top;\n",
       "    }\n",
       "\n",
       "    .dataframe thead th {\n",
       "        text-align: right;\n",
       "    }\n",
       "</style>\n",
       "<table border=\"1\" class=\"dataframe\">\n",
       "  <thead>\n",
       "    <tr style=\"text-align: right;\">\n",
       "      <th></th>\n",
       "      <th>transactionId</th>\n",
       "      <th>visitorId</th>\n",
       "      <th>date</th>\n",
       "      <th>revenue</th>\n",
       "      <th>group</th>\n",
       "    </tr>\n",
       "  </thead>\n",
       "  <tbody>\n",
       "    <tr>\n",
       "      <td>0</td>\n",
       "      <td>3667963787</td>\n",
       "      <td>3312258926</td>\n",
       "      <td>2019-08-15</td>\n",
       "      <td>1650</td>\n",
       "      <td>B</td>\n",
       "    </tr>\n",
       "    <tr>\n",
       "      <td>1</td>\n",
       "      <td>2804400009</td>\n",
       "      <td>3642806036</td>\n",
       "      <td>2019-08-15</td>\n",
       "      <td>730</td>\n",
       "      <td>B</td>\n",
       "    </tr>\n",
       "    <tr>\n",
       "      <td>3</td>\n",
       "      <td>3797467345</td>\n",
       "      <td>1196621759</td>\n",
       "      <td>2019-08-15</td>\n",
       "      <td>9759</td>\n",
       "      <td>B</td>\n",
       "    </tr>\n",
       "    <tr>\n",
       "      <td>4</td>\n",
       "      <td>2282983706</td>\n",
       "      <td>2322279887</td>\n",
       "      <td>2019-08-15</td>\n",
       "      <td>2308</td>\n",
       "      <td>B</td>\n",
       "    </tr>\n",
       "    <tr>\n",
       "      <td>5</td>\n",
       "      <td>182168103</td>\n",
       "      <td>935554773</td>\n",
       "      <td>2019-08-15</td>\n",
       "      <td>2210</td>\n",
       "      <td>B</td>\n",
       "    </tr>\n",
       "  </tbody>\n",
       "</table>\n",
       "</div>"
      ],
      "text/plain": [
       "   transactionId   visitorId       date  revenue group\n",
       "0     3667963787  3312258926 2019-08-15     1650     B\n",
       "1     2804400009  3642806036 2019-08-15      730     B\n",
       "3     3797467345  1196621759 2019-08-15     9759     B\n",
       "4     2282983706  2322279887 2019-08-15     2308     B\n",
       "5      182168103   935554773 2019-08-15     2210     B"
      ]
     },
     "execution_count": 42,
     "metadata": {},
     "output_type": "execute_result"
    }
   ],
   "source": [
    "# вспомним табличку\n",
    "\n",
    "orders.head()"
   ]
  },
  {
   "cell_type": "code",
   "execution_count": 43,
   "metadata": {},
   "outputs": [
    {
     "data": {
      "text/html": [
       "<div>\n",
       "<style scoped>\n",
       "    .dataframe tbody tr th:only-of-type {\n",
       "        vertical-align: middle;\n",
       "    }\n",
       "\n",
       "    .dataframe tbody tr th {\n",
       "        vertical-align: top;\n",
       "    }\n",
       "\n",
       "    .dataframe thead th {\n",
       "        text-align: right;\n",
       "    }\n",
       "</style>\n",
       "<table border=\"1\" class=\"dataframe\">\n",
       "  <thead>\n",
       "    <tr style=\"text-align: right;\">\n",
       "      <th></th>\n",
       "      <th>date</th>\n",
       "      <th>rev_PerDate_A</th>\n",
       "      <th>orders_PerDate_A</th>\n",
       "      <th>rev_PerDate_B</th>\n",
       "      <th>orders_PerDate_B</th>\n",
       "    </tr>\n",
       "  </thead>\n",
       "  <tbody>\n",
       "    <tr>\n",
       "      <td>0</td>\n",
       "      <td>2019-08-01</td>\n",
       "      <td>142779</td>\n",
       "      <td>19</td>\n",
       "      <td>59758</td>\n",
       "      <td>17</td>\n",
       "    </tr>\n",
       "    <tr>\n",
       "      <td>1</td>\n",
       "      <td>2019-08-02</td>\n",
       "      <td>91602</td>\n",
       "      <td>18</td>\n",
       "      <td>162043</td>\n",
       "      <td>22</td>\n",
       "    </tr>\n",
       "    <tr>\n",
       "      <td>2</td>\n",
       "      <td>2019-08-03</td>\n",
       "      <td>112473</td>\n",
       "      <td>24</td>\n",
       "      <td>67049</td>\n",
       "      <td>14</td>\n",
       "    </tr>\n",
       "    <tr>\n",
       "      <td>3</td>\n",
       "      <td>2019-08-04</td>\n",
       "      <td>41176</td>\n",
       "      <td>11</td>\n",
       "      <td>96890</td>\n",
       "      <td>13</td>\n",
       "    </tr>\n",
       "    <tr>\n",
       "      <td>4</td>\n",
       "      <td>2019-08-05</td>\n",
       "      <td>86383</td>\n",
       "      <td>22</td>\n",
       "      <td>89908</td>\n",
       "      <td>21</td>\n",
       "    </tr>\n",
       "  </tbody>\n",
       "</table>\n",
       "</div>"
      ],
      "text/plain": [
       "        date  rev_PerDate_A  orders_PerDate_A  rev_PerDate_B  orders_PerDate_B\n",
       "0 2019-08-01         142779                19          59758                17\n",
       "1 2019-08-02          91602                18         162043                22\n",
       "2 2019-08-03         112473                24          67049                14\n",
       "3 2019-08-04          41176                11          96890                13\n",
       "4 2019-08-05          86383                22          89908                21"
      ]
     },
     "execution_count": 43,
     "metadata": {},
     "output_type": "execute_result"
    }
   ],
   "source": [
    "# найдем количество заказов и поступлений в день по каждой группе \n",
    "\n",
    "orders_daily_A=orders.query('group ==\"A\"').groupby('date', as_index=False).agg({'revenue':'sum', 'visitorId':'nunique'})\n",
    "orders_daily_A.columns = ['date', 'rev_PerDate_A', 'orders_PerDate_A']\n",
    "orders_daily_B=orders.query('group ==\"B\"').groupby('date', as_index=False).agg({'revenue':'sum', 'visitorId':'nunique'})\n",
    "orders_daily_B.columns = ['date', 'rev_PerDate_B', 'orders_PerDate_B']\n",
    "orders_daily = orders_daily_A.merge(orders_daily_B, on='date')\n",
    "orders_daily.head()"
   ]
  },
  {
   "cell_type": "code",
   "execution_count": 44,
   "metadata": {},
   "outputs": [
    {
     "data": {
      "text/html": [
       "<div>\n",
       "<style scoped>\n",
       "    .dataframe tbody tr th:only-of-type {\n",
       "        vertical-align: middle;\n",
       "    }\n",
       "\n",
       "    .dataframe tbody tr th {\n",
       "        vertical-align: top;\n",
       "    }\n",
       "\n",
       "    .dataframe thead th {\n",
       "        text-align: right;\n",
       "    }\n",
       "</style>\n",
       "<table border=\"1\" class=\"dataframe\">\n",
       "  <thead>\n",
       "    <tr style=\"text-align: right;\">\n",
       "      <th></th>\n",
       "      <th>date</th>\n",
       "      <th>group</th>\n",
       "      <th>visitors</th>\n",
       "    </tr>\n",
       "  </thead>\n",
       "  <tbody>\n",
       "    <tr>\n",
       "      <td>0</td>\n",
       "      <td>2019-08-01</td>\n",
       "      <td>A</td>\n",
       "      <td>719</td>\n",
       "    </tr>\n",
       "    <tr>\n",
       "      <td>1</td>\n",
       "      <td>2019-08-02</td>\n",
       "      <td>A</td>\n",
       "      <td>619</td>\n",
       "    </tr>\n",
       "    <tr>\n",
       "      <td>2</td>\n",
       "      <td>2019-08-03</td>\n",
       "      <td>A</td>\n",
       "      <td>507</td>\n",
       "    </tr>\n",
       "    <tr>\n",
       "      <td>3</td>\n",
       "      <td>2019-08-04</td>\n",
       "      <td>A</td>\n",
       "      <td>717</td>\n",
       "    </tr>\n",
       "    <tr>\n",
       "      <td>4</td>\n",
       "      <td>2019-08-05</td>\n",
       "      <td>A</td>\n",
       "      <td>756</td>\n",
       "    </tr>\n",
       "  </tbody>\n",
       "</table>\n",
       "</div>"
      ],
      "text/plain": [
       "        date group  visitors\n",
       "0 2019-08-01     A       719\n",
       "1 2019-08-02     A       619\n",
       "2 2019-08-03     A       507\n",
       "3 2019-08-04     A       717\n",
       "4 2019-08-05     A       756"
      ]
     },
     "execution_count": 44,
     "metadata": {},
     "output_type": "execute_result"
    }
   ],
   "source": [
    "# вспомним табличку\n",
    "\n",
    "visitors.head()"
   ]
  },
  {
   "cell_type": "code",
   "execution_count": 45,
   "metadata": {},
   "outputs": [
    {
     "data": {
      "text/html": [
       "<div>\n",
       "<style scoped>\n",
       "    .dataframe tbody tr th:only-of-type {\n",
       "        vertical-align: middle;\n",
       "    }\n",
       "\n",
       "    .dataframe tbody tr th {\n",
       "        vertical-align: top;\n",
       "    }\n",
       "\n",
       "    .dataframe thead th {\n",
       "        text-align: right;\n",
       "    }\n",
       "</style>\n",
       "<table border=\"1\" class=\"dataframe\">\n",
       "  <thead>\n",
       "    <tr style=\"text-align: right;\">\n",
       "      <th></th>\n",
       "      <th>date</th>\n",
       "      <th>visit_PerDate_A</th>\n",
       "      <th>visit_PerDate_B</th>\n",
       "    </tr>\n",
       "  </thead>\n",
       "  <tbody>\n",
       "    <tr>\n",
       "      <td>0</td>\n",
       "      <td>2019-08-01</td>\n",
       "      <td>719</td>\n",
       "      <td>713</td>\n",
       "    </tr>\n",
       "    <tr>\n",
       "      <td>1</td>\n",
       "      <td>2019-08-02</td>\n",
       "      <td>619</td>\n",
       "      <td>581</td>\n",
       "    </tr>\n",
       "    <tr>\n",
       "      <td>2</td>\n",
       "      <td>2019-08-03</td>\n",
       "      <td>507</td>\n",
       "      <td>509</td>\n",
       "    </tr>\n",
       "    <tr>\n",
       "      <td>3</td>\n",
       "      <td>2019-08-04</td>\n",
       "      <td>717</td>\n",
       "      <td>770</td>\n",
       "    </tr>\n",
       "    <tr>\n",
       "      <td>4</td>\n",
       "      <td>2019-08-05</td>\n",
       "      <td>756</td>\n",
       "      <td>707</td>\n",
       "    </tr>\n",
       "  </tbody>\n",
       "</table>\n",
       "</div>"
      ],
      "text/plain": [
       "        date  visit_PerDate_A  visit_PerDate_B\n",
       "0 2019-08-01              719              713\n",
       "1 2019-08-02              619              581\n",
       "2 2019-08-03              507              509\n",
       "3 2019-08-04              717              770\n",
       "4 2019-08-05              756              707"
      ]
     },
     "execution_count": 45,
     "metadata": {},
     "output_type": "execute_result"
    }
   ],
   "source": [
    "# найдем количество посетителей в день по каждой группе \n",
    "\n",
    "visit_daily_A=visitors.query('group ==\"A\"')[['date', 'visitors']]\n",
    "visit_daily_A.columns = ['date', 'visit_PerDate_A']\n",
    "visit_daily_B=visitors.query('group ==\"B\"')[['date', 'visitors']]\n",
    "visit_daily_B.columns = ['date', 'visit_PerDate_B']\n",
    "visit_daily = visit_daily_A.merge(visit_daily_B, on='date')\n",
    "visit_daily.head()"
   ]
  },
  {
   "cell_type": "code",
   "execution_count": 46,
   "metadata": {},
   "outputs": [],
   "source": [
    "# сведем данные в одну таблицу\n",
    "\n",
    "data=cumulativeAB.merge(visit_daily, on = 'date')\n",
    "data=data.merge(orders_daily, on='date')"
   ]
  },
  {
   "cell_type": "code",
   "execution_count": 47,
   "metadata": {},
   "outputs": [
    {
     "data": {
      "text/html": [
       "<div>\n",
       "<style scoped>\n",
       "    .dataframe tbody tr th:only-of-type {\n",
       "        vertical-align: middle;\n",
       "    }\n",
       "\n",
       "    .dataframe tbody tr th {\n",
       "        vertical-align: top;\n",
       "    }\n",
       "\n",
       "    .dataframe thead th {\n",
       "        text-align: right;\n",
       "    }\n",
       "</style>\n",
       "<table border=\"1\" class=\"dataframe\">\n",
       "  <thead>\n",
       "    <tr style=\"text-align: right;\">\n",
       "      <th></th>\n",
       "      <th>date</th>\n",
       "      <th>groupA</th>\n",
       "      <th>visitorsA</th>\n",
       "      <th>buyersA</th>\n",
       "      <th>ordersA</th>\n",
       "      <th>revenueA</th>\n",
       "      <th>groupB</th>\n",
       "      <th>visitorsB</th>\n",
       "      <th>buyersB</th>\n",
       "      <th>ordersB</th>\n",
       "      <th>revenueB</th>\n",
       "      <th>conversionA</th>\n",
       "      <th>conversionB</th>\n",
       "      <th>visit_PerDate_A</th>\n",
       "      <th>visit_PerDate_B</th>\n",
       "      <th>rev_PerDate_A</th>\n",
       "      <th>orders_PerDate_A</th>\n",
       "      <th>rev_PerDate_B</th>\n",
       "      <th>orders_PerDate_B</th>\n",
       "    </tr>\n",
       "  </thead>\n",
       "  <tbody>\n",
       "    <tr>\n",
       "      <td>0</td>\n",
       "      <td>2019-08-01</td>\n",
       "      <td>A</td>\n",
       "      <td>719</td>\n",
       "      <td>19</td>\n",
       "      <td>23</td>\n",
       "      <td>142779</td>\n",
       "      <td>B</td>\n",
       "      <td>713</td>\n",
       "      <td>17</td>\n",
       "      <td>17</td>\n",
       "      <td>59758</td>\n",
       "      <td>0.031989</td>\n",
       "      <td>0.023843</td>\n",
       "      <td>719</td>\n",
       "      <td>713</td>\n",
       "      <td>142779</td>\n",
       "      <td>19</td>\n",
       "      <td>59758</td>\n",
       "      <td>17</td>\n",
       "    </tr>\n",
       "    <tr>\n",
       "      <td>1</td>\n",
       "      <td>2019-08-02</td>\n",
       "      <td>A</td>\n",
       "      <td>1338</td>\n",
       "      <td>36</td>\n",
       "      <td>42</td>\n",
       "      <td>234381</td>\n",
       "      <td>B</td>\n",
       "      <td>1294</td>\n",
       "      <td>39</td>\n",
       "      <td>40</td>\n",
       "      <td>221801</td>\n",
       "      <td>0.031390</td>\n",
       "      <td>0.030912</td>\n",
       "      <td>619</td>\n",
       "      <td>581</td>\n",
       "      <td>91602</td>\n",
       "      <td>18</td>\n",
       "      <td>162043</td>\n",
       "      <td>22</td>\n",
       "    </tr>\n",
       "    <tr>\n",
       "      <td>2</td>\n",
       "      <td>2019-08-03</td>\n",
       "      <td>A</td>\n",
       "      <td>1845</td>\n",
       "      <td>60</td>\n",
       "      <td>66</td>\n",
       "      <td>346854</td>\n",
       "      <td>B</td>\n",
       "      <td>1803</td>\n",
       "      <td>53</td>\n",
       "      <td>54</td>\n",
       "      <td>288850</td>\n",
       "      <td>0.035772</td>\n",
       "      <td>0.029950</td>\n",
       "      <td>507</td>\n",
       "      <td>509</td>\n",
       "      <td>112473</td>\n",
       "      <td>24</td>\n",
       "      <td>67049</td>\n",
       "      <td>14</td>\n",
       "    </tr>\n",
       "    <tr>\n",
       "      <td>3</td>\n",
       "      <td>2019-08-04</td>\n",
       "      <td>A</td>\n",
       "      <td>2562</td>\n",
       "      <td>71</td>\n",
       "      <td>77</td>\n",
       "      <td>388030</td>\n",
       "      <td>B</td>\n",
       "      <td>2573</td>\n",
       "      <td>66</td>\n",
       "      <td>68</td>\n",
       "      <td>385740</td>\n",
       "      <td>0.030055</td>\n",
       "      <td>0.026428</td>\n",
       "      <td>717</td>\n",
       "      <td>770</td>\n",
       "      <td>41176</td>\n",
       "      <td>11</td>\n",
       "      <td>96890</td>\n",
       "      <td>13</td>\n",
       "    </tr>\n",
       "    <tr>\n",
       "      <td>4</td>\n",
       "      <td>2019-08-05</td>\n",
       "      <td>A</td>\n",
       "      <td>3318</td>\n",
       "      <td>92</td>\n",
       "      <td>99</td>\n",
       "      <td>474413</td>\n",
       "      <td>B</td>\n",
       "      <td>3280</td>\n",
       "      <td>87</td>\n",
       "      <td>89</td>\n",
       "      <td>475648</td>\n",
       "      <td>0.029837</td>\n",
       "      <td>0.027134</td>\n",
       "      <td>756</td>\n",
       "      <td>707</td>\n",
       "      <td>86383</td>\n",
       "      <td>22</td>\n",
       "      <td>89908</td>\n",
       "      <td>21</td>\n",
       "    </tr>\n",
       "  </tbody>\n",
       "</table>\n",
       "</div>"
      ],
      "text/plain": [
       "        date groupA  visitorsA  buyersA  ordersA  revenueA groupB  visitorsB  \\\n",
       "0 2019-08-01      A        719       19       23    142779      B        713   \n",
       "1 2019-08-02      A       1338       36       42    234381      B       1294   \n",
       "2 2019-08-03      A       1845       60       66    346854      B       1803   \n",
       "3 2019-08-04      A       2562       71       77    388030      B       2573   \n",
       "4 2019-08-05      A       3318       92       99    474413      B       3280   \n",
       "\n",
       "   buyersB  ordersB  revenueB  conversionA  conversionB  visit_PerDate_A  \\\n",
       "0       17       17     59758     0.031989     0.023843              719   \n",
       "1       39       40    221801     0.031390     0.030912              619   \n",
       "2       53       54    288850     0.035772     0.029950              507   \n",
       "3       66       68    385740     0.030055     0.026428              717   \n",
       "4       87       89    475648     0.029837     0.027134              756   \n",
       "\n",
       "   visit_PerDate_B  rev_PerDate_A  orders_PerDate_A  rev_PerDate_B  \\\n",
       "0              713         142779                19          59758   \n",
       "1              581          91602                18         162043   \n",
       "2              509         112473                24          67049   \n",
       "3              770          41176                11          96890   \n",
       "4              707          86383                22          89908   \n",
       "\n",
       "   orders_PerDate_B  \n",
       "0                17  \n",
       "1                22  \n",
       "2                14  \n",
       "3                13  \n",
       "4                21  "
      ]
     },
     "execution_count": 47,
     "metadata": {},
     "output_type": "execute_result"
    }
   ],
   "source": [
    "data.head()"
   ]
  },
  {
   "cell_type": "markdown",
   "metadata": {},
   "source": [
    "Создадим переменные orders_ByUsers_A и orders_ByUsers_B со столбцами 'userId', 'orders'. В них для пользователей, которые заказывали хотя бы 1 раз, укажем число совершённых заказов"
   ]
  },
  {
   "cell_type": "code",
   "execution_count": 48,
   "metadata": {},
   "outputs": [
    {
     "data": {
      "text/html": [
       "<div>\n",
       "<style scoped>\n",
       "    .dataframe tbody tr th:only-of-type {\n",
       "        vertical-align: middle;\n",
       "    }\n",
       "\n",
       "    .dataframe tbody tr th {\n",
       "        vertical-align: top;\n",
       "    }\n",
       "\n",
       "    .dataframe thead th {\n",
       "        text-align: right;\n",
       "    }\n",
       "</style>\n",
       "<table border=\"1\" class=\"dataframe\">\n",
       "  <thead>\n",
       "    <tr style=\"text-align: right;\">\n",
       "      <th></th>\n",
       "      <th>transactionId</th>\n",
       "      <th>visitorId</th>\n",
       "      <th>date</th>\n",
       "      <th>revenue</th>\n",
       "      <th>group</th>\n",
       "    </tr>\n",
       "  </thead>\n",
       "  <tbody>\n",
       "    <tr>\n",
       "      <td>0</td>\n",
       "      <td>3667963787</td>\n",
       "      <td>3312258926</td>\n",
       "      <td>2019-08-15</td>\n",
       "      <td>1650</td>\n",
       "      <td>B</td>\n",
       "    </tr>\n",
       "    <tr>\n",
       "      <td>1</td>\n",
       "      <td>2804400009</td>\n",
       "      <td>3642806036</td>\n",
       "      <td>2019-08-15</td>\n",
       "      <td>730</td>\n",
       "      <td>B</td>\n",
       "    </tr>\n",
       "    <tr>\n",
       "      <td>3</td>\n",
       "      <td>3797467345</td>\n",
       "      <td>1196621759</td>\n",
       "      <td>2019-08-15</td>\n",
       "      <td>9759</td>\n",
       "      <td>B</td>\n",
       "    </tr>\n",
       "    <tr>\n",
       "      <td>4</td>\n",
       "      <td>2282983706</td>\n",
       "      <td>2322279887</td>\n",
       "      <td>2019-08-15</td>\n",
       "      <td>2308</td>\n",
       "      <td>B</td>\n",
       "    </tr>\n",
       "    <tr>\n",
       "      <td>5</td>\n",
       "      <td>182168103</td>\n",
       "      <td>935554773</td>\n",
       "      <td>2019-08-15</td>\n",
       "      <td>2210</td>\n",
       "      <td>B</td>\n",
       "    </tr>\n",
       "  </tbody>\n",
       "</table>\n",
       "</div>"
      ],
      "text/plain": [
       "   transactionId   visitorId       date  revenue group\n",
       "0     3667963787  3312258926 2019-08-15     1650     B\n",
       "1     2804400009  3642806036 2019-08-15      730     B\n",
       "3     3797467345  1196621759 2019-08-15     9759     B\n",
       "4     2282983706  2322279887 2019-08-15     2308     B\n",
       "5      182168103   935554773 2019-08-15     2210     B"
      ]
     },
     "execution_count": 48,
     "metadata": {},
     "output_type": "execute_result"
    }
   ],
   "source": [
    "# вспомним таблицу\n",
    "\n",
    "orders.head()"
   ]
  },
  {
   "cell_type": "code",
   "execution_count": 49,
   "metadata": {},
   "outputs": [],
   "source": [
    "# создатим таблицу заказов на каждого пользователя группы А\n",
    "\n",
    "orders_ByUsers_A = orders.query('group == \"A\"').groupby('visitorId', as_index=False).agg({'transactionId':'nunique'})\n",
    "orders_ByUsers_A.columns = ['userId', 'orders']"
   ]
  },
  {
   "cell_type": "code",
   "execution_count": 50,
   "metadata": {},
   "outputs": [],
   "source": [
    "# создатим таблицу заказов на каждого пользователя группы В\n",
    "\n",
    "orders_ByUsers_B = orders.query('group == \"B\"').groupby('visitorId', as_index=False).agg({'transactionId':'nunique'})\n",
    "orders_ByUsers_B.columns = ['userId', 'orders']"
   ]
  },
  {
   "cell_type": "code",
   "execution_count": 51,
   "metadata": {},
   "outputs": [],
   "source": [
    "# Добавим нули для пользователей, которые зашли, но ничего не заказывали\n",
    "\n",
    "sampleA=pd.concat([orders_ByUsers_A['orders'], pd.Series(0, index=np.arange(data['visit_PerDate_A'].sum()- len(orders_ByUsers_A['orders'])), name='orders')],axis=0)\n",
    "sampleB=pd.concat([orders_ByUsers_B['orders'], pd.Series(0, index=np.arange(data['visit_PerDate_B'].sum()- len(orders_ByUsers_B['orders'])), name='orders')],axis=0)"
   ]
  },
  {
   "cell_type": "markdown",
   "metadata": {},
   "source": [
    "Проверим выборки критерием Манна-Уитни"
   ]
  },
  {
   "cell_type": "markdown",
   "metadata": {},
   "source": [
    "Сформулируем гипотезу H0 (нулевая гипотеза):\n",
    "\n",
    "- Выборки одинаковые, статистически значимых различий в конверсии между группами нет.\n",
    "\n",
    "Сформулируем гипотезу H1 (альтернативная гипотеза):\n",
    "\n",
    "- Выборки отличаются, есть статистически значимые различий в конверсии между группами."
   ]
  },
  {
   "cell_type": "code",
   "execution_count": 52,
   "metadata": {},
   "outputs": [
    {
     "name": "stdout",
     "output_type": "stream",
     "text": [
      "p_value = 0.006\n",
      "Относительный прирост конверсии группы B = 16.0%\n"
     ]
    }
   ],
   "source": [
    "print(\"p_value = {0:.3f}\".format(st.mannwhitneyu(sampleA, sampleB)[1], alternative=\"two-sided\"))\n",
    "\n",
    "print(\"Относительный прирост конверсии группы B = {:.1%}\".format(sampleB.mean() / sampleA.mean() - 1))\n"
   ]
  },
  {
   "cell_type": "markdown",
   "metadata": {},
   "source": [
    "По «сырым» данным различия в конверсии групп A и B наблюдаются.\n",
    "\n",
    "p-value = 0.006, меньше 0.05. Значит, нулевую гипотезу о том, что статистически значимых различий в конверсии между группами нет, следует отвергнуть. \n",
    "\n",
    "Относительный выигрыш группы B равен 16%."
   ]
  },
  {
   "cell_type": "markdown",
   "metadata": {},
   "source": [
    "#### Посчитаем статистическую значимость различий в среднем чеке заказа между группами по «сырым» данным"
   ]
  },
  {
   "cell_type": "markdown",
   "metadata": {},
   "source": [
    "Сформулируем гипотезу H0 (нулевая гипотеза):\n",
    "\n",
    "- Выборки одинаковые, статистически значимых различий в среднем чеке между группами нет.\n",
    "\n",
    "Сформулируем гипотезу H1 (альтернативная гипотеза):\n",
    "\n",
    "- Выборки отличаются, есть статистически значимые различий в среднем чеке между группами."
   ]
  },
  {
   "cell_type": "markdown",
   "metadata": {},
   "source": [
    "Передадим критерию mannwhitneyu() данные о выручке с заказов. \n",
    "А ещё найдём относительные различия в среднем чеке между группами"
   ]
  },
  {
   "cell_type": "code",
   "execution_count": 53,
   "metadata": {},
   "outputs": [
    {
     "name": "stdout",
     "output_type": "stream",
     "text": [
      "p_value = 0.415\n",
      "относительные различия в среднем чеке = 28.7%\n"
     ]
    }
   ],
   "source": [
    "print(\"p_value = {0:.3f}\".format(st.mannwhitneyu(orders.query('group == \"A\"')['revenue'], orders.query('group == \"B\"')['revenue'])[1], alternative=\"two-sided\"))\n",
    "\n",
    "print(\"относительные различия в среднем чеке = {:.1%}\".format(orders.query('group == \"B\"')['revenue'].mean() / orders.query('group == \"A\"')['revenue'].mean() - 1))"
   ]
  },
  {
   "cell_type": "markdown",
   "metadata": {},
   "source": [
    "P-value значительно больше 0,05. Значит, причин отвергать нулевую гипотезу и считать, что в среднем чеке есть различия, нет. \n",
    "\n",
    "Однако, средний чек группы B значительно выше среднего чека группы A - на 28,7%"
   ]
  },
  {
   "cell_type": "markdown",
   "metadata": {},
   "source": [
    "#### Посчитаем статистическую значимость различий в конверсии между группами по «очищенным» данным"
   ]
  },
  {
   "cell_type": "markdown",
   "metadata": {},
   "source": [
    "Найденные выше 95-й и 99-й перцентили количества заказов на пользователя поазали, что не более 1% совершали более 2х заказов. Поэтому покупателей,сделавших 2 и более покупки можно считать нетипичными.\n",
    "\n",
    "Также нетипичными являются покупки дороже 30000 рублей можно считать нетипичными. \n"
   ]
  },
  {
   "cell_type": "code",
   "execution_count": 54,
   "metadata": {},
   "outputs": [],
   "source": [
    "# #  соберем аномальных пользователей с большим кодичеством заказов\n",
    "\n",
    "# atypical_order=pd.concat([orders_ByUsers_A.query('orders >= 3')['userId'], orders_ByUsers_B.query('orders >= 3')['userId']], axis=0)\n",
    "\n",
    "# # добавим тех, кто купил на большую сумму\n",
    "\n",
    "# atypical = pd.concat([atypical_order, orders.query('revenue > 50000')['visitorId']], axis=0)\n",
    "\n",
    "# print('Нетипичных пользователей', atypical.shape)"
   ]
  },
  {
   "cell_type": "markdown",
   "metadata": {},
   "source": [
    "Посчитаем статистическую значимость различий в конверсии между группами теста по очищенным данным. Сначала подготовим выборки количества заказов по пользователям по группам теста:"
   ]
  },
  {
   "cell_type": "code",
   "execution_count": 55,
   "metadata": {},
   "outputs": [],
   "source": [
    "# создатим список заказов на каждого пользователя групп А и В с учетом посетителей, которые ничего не купили.\n",
    "\n",
    "sampleA_clean=pd.concat([orders_ByUsers_A.query('orders >= 2')['orders'], pd.Series(0, index=np.arange(data['visit_PerDate_A'].sum()- len(orders_ByUsers_A['orders'])), name='orders')],axis=0)\n",
    "sampleB_clean=pd.concat([orders_ByUsers_B.query('orders >= 2')['orders'], pd.Series(0, index=np.arange(data['visit_PerDate_B'].sum()- len(orders_ByUsers_B['orders'])), name='orders')],axis=0)"
   ]
  },
  {
   "cell_type": "markdown",
   "metadata": {},
   "source": [
    "Проверим выборки критерием Манна-Уитни"
   ]
  },
  {
   "cell_type": "markdown",
   "metadata": {},
   "source": [
    "Сформулируем гипотезу H0 (нулевая гипотеза):\n",
    "\n",
    "- Выборки одинаковые, статистически значимых различий в конверсии между группами нет.\n",
    "\n",
    "Сформулируем гипотезу H1 (альтернативная гипотеза):\n",
    "\n",
    "- Выборки отличаются, есть статистически значимые различий в конверсии между группами."
   ]
  },
  {
   "cell_type": "code",
   "execution_count": 56,
   "metadata": {},
   "outputs": [
    {
     "name": "stdout",
     "output_type": "stream",
     "text": [
      "p_value = 0.493\n",
      "Относительный прирост конверсии группы B = -7.8%\n"
     ]
    }
   ],
   "source": [
    "print(\"p_value = {0:.3f}\".format(st.mannwhitneyu(sampleA_clean, sampleB_clean)[1], alternative=\"two-sided\"))\n",
    "\n",
    "print(\"Относительный прирост конверсии группы B = {:.1%}\".format(sampleB_clean.mean() / sampleA_clean.mean() - 1))"
   ]
  },
  {
   "cell_type": "markdown",
   "metadata": {},
   "source": [
    "По «чистым» данным различия в конверсии групп A и B не наблюдаются.\n",
    "\n",
    "p-value = 0.493, больше 0.05. Значит, нулевую гипотезу о том, что статистически значимых различий в конверсии между группами нет, отвергнуть нельзя. \n",
    "\n",
    "Группа B уступает группе А по конверсии на 7,8%."
   ]
  },
  {
   "cell_type": "markdown",
   "metadata": {},
   "source": [
    "#### Посчитайте статистическую значимость различий в среднем чеке заказа между группами по «очищенным» данным"
   ]
  },
  {
   "cell_type": "markdown",
   "metadata": {},
   "source": [
    "Проверим, как изменятся результаты по среднему чеку"
   ]
  },
  {
   "cell_type": "markdown",
   "metadata": {},
   "source": [
    "Сформулируем гипотезу H0 (нулевая гипотеза):\n",
    "\n",
    "- Выборки одинаковые, статистически значимых различий в среднем чеке между группами нет.\n",
    "\n",
    "Сформулируем гипотезу H1 (альтернативная гипотеза):\n",
    "\n",
    "- Выборки отличаются, есть статистически значимые различий в среднем чеке между группами."
   ]
  },
  {
   "cell_type": "code",
   "execution_count": 57,
   "metadata": {},
   "outputs": [
    {
     "name": "stdout",
     "output_type": "stream",
     "text": [
      "p_value = 0.292\n",
      "относительные различия в среднем чеке = -8.8%\n"
     ]
    }
   ],
   "source": [
    "\n",
    "print('p_value = {0:.3f}'.format(st.mannwhitneyu(orders.query('revenue > 30000 | group == \"A\"')['revenue'], orders.query('revenue > 30000 | group == \"B\"')['revenue'])[1], alternative=\"two-sided\"))\n",
    "\n",
    "print(\"относительные различия в среднем чеке = {:.1%}\".format(orders.query('revenue > 30000 | group == \"B\"')['revenue'].mean()/orders.query('revenue > 30000 | group == \"A\"')['revenue'].mean()-1))\n"
   ]
  },
  {
   "cell_type": "markdown",
   "metadata": {},
   "source": [
    "P-value значительно больше 0,05. Значит, причин отвергать нулевую гипотезу и считать, что в среднем чеке есть различия, нет. \n",
    "\n",
    "После очистки данных однако, средний чек группы B стал ниже среднего чека группы A - на 8,8%"
   ]
  },
  {
   "cell_type": "markdown",
   "metadata": {},
   "source": [
    "## ВЫВОДЫ \n",
    "\n"
   ]
  },
  {
   "cell_type": "markdown",
   "metadata": {},
   "source": [
    "### В первой части работы мы приоритизировали гипотезы.\n",
    "    \n",
    "**По показателю ICE лидируют гипотезы №**\n",
    "    9 - Запустить акцию, дающую скидку на товар в день рождения\n",
    "    1 - Добавить два новых канала привлечения трафика, что позволит привлекать на 30% больше пользователей\n",
    "    8 - Добавить форму подписки на все основные страницы, чтобы собрать базу клиентов для email-рассылок\n",
    "\n",
    "**Однако применив компонент Reach и приоритизировав гипотезы по показателю RICE, видим в лидерах гипотезы:**\n",
    "    8 - Добавить форму подписки на все основные страницы, чтобы собрать базу клиентов для email-рассылок\n",
    "    3 - Добавить блоки рекомендаций товаров на сайт интернет магазина, чтобы повысить конверсию и средний чек заказа\n",
    "    1 - Добавить два новых канала привлечения трафика, что позволит привлекать на 30% больше пользователей\n",
    "    7 - Показать на главной странице баннеры с актуальными акциями и распродажами, чтобы увеличить конверсию\n",
    "    \n",
    "   По показателю RICE лидирует гипотеза № 8, поскольку она охватывает всех пользователей и имеет максимальный показатель Reach.\n",
    "Гипотеза №3 также поднялась по показателю RICE на 2е место за счет высокого охвата пользователей. \n",
    "\n",
    "Гипотеза №9, имеющаю максимальный показатель ICE, наоборот, охватывает минимальный круг пользователей, поэтому с учетом компонента Reach, скатывается на 5 по приоритету по показателю RICE. \n",
    "\n",
    "Гипотеза №1 входит в тройку лидеров по обоим показателям.\n",
    "\n",
    "\n",
    "### Во второй части работы мы провели анализ результатов А/В теста\n",
    "\n",
    "График кумулятивной выручки по группам показал, что выручка почти равномерно увеличивается в течение всего теста.\n",
    "Группа В показывает лучшие результаты, однако в одной точке график В резко растет, что может сигнализировать о всплесках числа заказов, либо о появлении очень дорогого заказа в выборке. \n",
    "\n",
    "График кумулятивного среднего чека по группам показал, что средний чек становится равномерным ближе к концу теста: установился для группы A и продолжает снижаться для группы B. Кроме того, в группе В заметен резкий всплеск, который может означать крупные заказы. \n",
    "\n",
    "\n",
    "График относительного изменения кумулятивного среднего чека группы B к группе A показал скачки относительного кумулятивного среднего чека, что снова говорят о крупных покупках, в целом можно говорить о том, что средний кумулятивный чек по группе В все-таки устанавливается выше группы А. \n",
    "\n",
    "График кумулятивной конверсии по группам показал, что конверсия группы В довольно уверенно вырвалась вперёд и зафиксировалась, а конверсия группы А просела и также зафиксировалась.\n",
    "\n",
    "\n",
    "График относительного изменения кумулятивной конверсии группы B к группе A показал, что сначала группа B несколько проигрывала группе A, затем вырвалась вперёд. В целом можно утверждать, что отношение конверсии установилось в пользу группы В.\n",
    "\n",
    "\n",
    "Точечный график количества заказов по пользователям показал, что подавляющее большинство пользователей сделало 1 заказ, есть те, кто делал по 2 заказа. Однако на графике видны выбросы в виде пользователей, сделавших 8, 9, 11 заказов. Это нетипичное поведение клиентов.\n",
    "\n",
    "Подсчет 95-го и 99-го перцентилей количества заказов на пользователя показал, что не более 5% совершали более 2х заказов и не более 1% пользователей сделали больше 4 покупок. Поэтому покупателей,сделавших 3 и более покупки можно считать нетипичными.\n",
    "\n",
    "Точечный график стоимостей заказов показал, что подавляющее большинство заказов не дороже 50000 рублей, однако есть заказ более чем на 1,2 млн. это точно не типичный заказ, который портит картину. Это нетипичное поведение клиентов.\n",
    "\n",
    "Подсчет 95-го и 99-го перцентилей количества заказов на пользователя показал, что не больше 5% заказов дороже 27000 рублей и не более 1% дороже 54000 рублей. Поэтому покупки дороже 30000 рублей можно считать нетипичными.\n",
    " \n",
    "Подсчет статистической значимости различий в конверсии между группами по «сырым» данным показал, что различия в конверсии групп A и B наблюдаются. p-value = 0.006, меньше 0.05. Значит, нулевую гипотезу о том, что статистически значимых различий в конверсии между группами нет, следует отвергнуть. Относительный выигрыш группы B равен 16%.\n",
    "\n",
    "Подсчет статистической значимости различий в среднем чеке заказа между группами по «сырым» данным показал р-value значительно больше 0,05. Значит, причин отвергать нулевую гипотезу и считать, что в среднем чеке есть различия, нет. Хотя, средний чек группы B значительно выше среднего чека группы A - на 28,7%\n",
    "\n",
    "Подсчет статистической значимости различий в конверсии между группами по «очищенным» данным показал, что различия в конверсии групп A и B не наблюдаются. p-value = 0.493, больше 0.05. Значит, нулевую гипотезу о том, что статистически значимых различий в конверсии между группами нет, отвергнуть нельзя. Группа B уступает группе А по конверсии на 7,8%.\n",
    "\n",
    "Подсчет статистической значимости различий в среднем чеке заказа между группами по «очищенным» данным показал, что P-value значительно больше 0,05. Значит, причин отвергать нулевую гипотезу и считать, что в среднем чеке есть различия, нет. После очистки данных, средний чек группы B стал ниже среднего чека группы A - на 8,8%\n",
    "\n",
    "\n",
    "### Решение: остановить тест, зафиксировать отсутствие различий между группами\n",
    "\n",
    "По графикам кумулетивных показателей мы наблюдаем стабилизацию показателей, только относительный кумулятивный средний чек продолжает снижаться. Таким образом при отсутствии новых аномальных значений нет оснований полагать, что ситуация изменится, продолжать тест не имеет смысла.\n",
    "\n",
    "По неочищенным данным мы наблюдали наличие разницы в конверсии по группам, и результат группы B был выше чем у группы А на 16%. Как мы далее выяснили, на это повлияли аномально активные заказчики. Поскольку в очищенных данных разницы в конверсии по группам не оказалось, и группа В уступила в конверсии группе А на 7,8%\n",
    "\n",
    "\n",
    "Аналогичная история с показателями среднего чека. По «сырым» данным статистическая значимость различий в среднем чеке заказа между группами показала р-value значительно больше 0,05. Значит, причин отвергать нулевую гипотезу и считать, что в среднем чеке есть различия, нет. Хотя, средний чек группы B значительно выше среднего чека группы A - на 28,7%. Как мы далее выяснили, на это повлияли аномально дорогие заказы. Поскольку в очищенных данных средний чек по группе В оказался ниже группы А, а статистическая значимость различий в конверсии между группами оказалась высокой, что показывает на отсутствие различий в группах. Средний чек в группе А оказался на 8,8% выше, чем в группе В.\n"
   ]
  }
 ],
 "metadata": {
  "ExecuteTimeLog": [
   {
    "duration": 1082,
    "start_time": "2021-08-05T18:31:44.139Z"
   },
   {
    "duration": 23,
    "start_time": "2021-08-05T18:31:45.222Z"
   },
   {
    "duration": 21,
    "start_time": "2021-08-05T18:31:57.827Z"
   },
   {
    "duration": 388,
    "start_time": "2021-08-05T18:39:51.747Z"
   },
   {
    "duration": 8,
    "start_time": "2021-08-05T18:39:58.415Z"
   },
   {
    "duration": 14,
    "start_time": "2021-08-05T18:46:04.980Z"
   },
   {
    "duration": 6,
    "start_time": "2021-08-05T18:47:06.886Z"
   },
   {
    "duration": 238,
    "start_time": "2021-08-05T18:47:15.132Z"
   },
   {
    "duration": 232,
    "start_time": "2021-08-05T18:48:16.766Z"
   },
   {
    "duration": 232,
    "start_time": "2021-08-05T18:48:26.094Z"
   },
   {
    "duration": 1096,
    "start_time": "2021-08-05T18:48:30.495Z"
   },
   {
    "duration": 24,
    "start_time": "2021-08-05T18:48:31.593Z"
   },
   {
    "duration": 20,
    "start_time": "2021-08-05T18:48:31.618Z"
   },
   {
    "duration": 8,
    "start_time": "2021-08-05T18:48:31.640Z"
   },
   {
    "duration": 1035,
    "start_time": "2021-08-05T18:50:09.256Z"
   },
   {
    "duration": 23,
    "start_time": "2021-08-05T18:50:10.293Z"
   },
   {
    "duration": 6,
    "start_time": "2021-08-05T18:50:10.319Z"
   },
   {
    "duration": 9,
    "start_time": "2021-08-05T18:50:10.326Z"
   },
   {
    "duration": 7,
    "start_time": "2021-08-05T18:50:30.421Z"
   },
   {
    "duration": 9,
    "start_time": "2021-08-05T18:51:39.235Z"
   },
   {
    "duration": 8,
    "start_time": "2021-08-05T18:53:37.045Z"
   },
   {
    "duration": 9,
    "start_time": "2021-08-05T19:01:38.893Z"
   },
   {
    "duration": 4,
    "start_time": "2021-08-05T19:26:26.014Z"
   },
   {
    "duration": 373,
    "start_time": "2021-08-05T20:04:22.507Z"
   },
   {
    "duration": 1115,
    "start_time": "2021-08-05T20:04:53.873Z"
   },
   {
    "duration": 25,
    "start_time": "2021-08-05T20:04:54.992Z"
   },
   {
    "duration": 7,
    "start_time": "2021-08-05T20:04:55.019Z"
   },
   {
    "duration": 7,
    "start_time": "2021-08-05T20:04:55.029Z"
   },
   {
    "duration": 12,
    "start_time": "2021-08-05T20:04:55.037Z"
   },
   {
    "duration": 328,
    "start_time": "2021-08-05T20:04:55.050Z"
   },
   {
    "duration": -712,
    "start_time": "2021-08-05T20:04:56.092Z"
   },
   {
    "duration": -715,
    "start_time": "2021-08-05T20:04:56.095Z"
   },
   {
    "duration": 240,
    "start_time": "2021-08-05T20:06:34.299Z"
   },
   {
    "duration": 225,
    "start_time": "2021-08-05T20:07:05.406Z"
   },
   {
    "duration": 239,
    "start_time": "2021-08-05T20:08:06.483Z"
   },
   {
    "duration": 227,
    "start_time": "2021-08-05T20:08:33.539Z"
   },
   {
    "duration": 236,
    "start_time": "2021-08-05T20:08:50.467Z"
   },
   {
    "duration": 657,
    "start_time": "2021-08-05T20:09:08.780Z"
   },
   {
    "duration": 1113,
    "start_time": "2021-08-05T20:10:21.865Z"
   },
   {
    "duration": 304,
    "start_time": "2021-08-05T20:10:22.980Z"
   },
   {
    "duration": -76,
    "start_time": "2021-08-05T20:10:23.363Z"
   },
   {
    "duration": -80,
    "start_time": "2021-08-05T20:10:23.367Z"
   },
   {
    "duration": -90,
    "start_time": "2021-08-05T20:10:23.378Z"
   },
   {
    "duration": -92,
    "start_time": "2021-08-05T20:10:23.381Z"
   },
   {
    "duration": -93,
    "start_time": "2021-08-05T20:10:23.383Z"
   },
   {
    "duration": -104,
    "start_time": "2021-08-05T20:10:23.394Z"
   },
   {
    "duration": -106,
    "start_time": "2021-08-05T20:10:23.397Z"
   },
   {
    "duration": 2,
    "start_time": "2021-08-05T20:12:24.235Z"
   },
   {
    "duration": 1167,
    "start_time": "2021-08-05T20:12:29.832Z"
   },
   {
    "duration": 3,
    "start_time": "2021-08-05T20:12:31.001Z"
   },
   {
    "duration": 34,
    "start_time": "2021-08-05T20:12:31.006Z"
   },
   {
    "duration": 10,
    "start_time": "2021-08-05T20:12:31.042Z"
   },
   {
    "duration": 14,
    "start_time": "2021-08-05T20:12:31.054Z"
   },
   {
    "duration": 21,
    "start_time": "2021-08-05T20:12:31.070Z"
   },
   {
    "duration": 8,
    "start_time": "2021-08-05T20:12:31.093Z"
   },
   {
    "duration": 15,
    "start_time": "2021-08-05T20:12:31.104Z"
   },
   {
    "duration": 7,
    "start_time": "2021-08-05T20:12:31.121Z"
   },
   {
    "duration": 3,
    "start_time": "2021-08-05T20:12:45.970Z"
   },
   {
    "duration": 4,
    "start_time": "2021-08-05T20:13:01.763Z"
   },
   {
    "duration": 1090,
    "start_time": "2021-08-05T20:13:25.529Z"
   },
   {
    "duration": 3,
    "start_time": "2021-08-05T20:13:26.621Z"
   },
   {
    "duration": 25,
    "start_time": "2021-08-05T20:13:26.626Z"
   },
   {
    "duration": 6,
    "start_time": "2021-08-05T20:13:26.653Z"
   },
   {
    "duration": 7,
    "start_time": "2021-08-05T20:13:26.661Z"
   },
   {
    "duration": 10,
    "start_time": "2021-08-05T20:13:26.669Z"
   },
   {
    "duration": 13,
    "start_time": "2021-08-05T20:13:26.680Z"
   },
   {
    "duration": 9,
    "start_time": "2021-08-05T20:13:26.695Z"
   },
   {
    "duration": 6,
    "start_time": "2021-08-05T20:13:26.706Z"
   },
   {
    "duration": 3,
    "start_time": "2021-08-05T20:14:00.963Z"
   },
   {
    "duration": 1311,
    "start_time": "2021-08-05T20:14:04.714Z"
   },
   {
    "duration": 3,
    "start_time": "2021-08-05T20:14:06.030Z"
   },
   {
    "duration": 32,
    "start_time": "2021-08-05T20:14:06.035Z"
   },
   {
    "duration": 9,
    "start_time": "2021-08-05T20:14:06.069Z"
   },
   {
    "duration": 19,
    "start_time": "2021-08-05T20:14:06.080Z"
   },
   {
    "duration": 11,
    "start_time": "2021-08-05T20:14:06.100Z"
   },
   {
    "duration": 11,
    "start_time": "2021-08-05T20:14:06.112Z"
   },
   {
    "duration": 19,
    "start_time": "2021-08-05T20:14:06.125Z"
   },
   {
    "duration": 12,
    "start_time": "2021-08-05T20:14:06.146Z"
   },
   {
    "duration": 1246,
    "start_time": "2021-08-05T20:14:23.786Z"
   },
   {
    "duration": 3,
    "start_time": "2021-08-05T20:14:25.034Z"
   },
   {
    "duration": 23,
    "start_time": "2021-08-05T20:14:25.042Z"
   },
   {
    "duration": 7,
    "start_time": "2021-08-05T20:14:25.066Z"
   },
   {
    "duration": 16,
    "start_time": "2021-08-05T20:14:25.075Z"
   },
   {
    "duration": 9,
    "start_time": "2021-08-05T20:14:25.093Z"
   },
   {
    "duration": 6,
    "start_time": "2021-08-05T20:14:25.104Z"
   },
   {
    "duration": 10,
    "start_time": "2021-08-05T20:14:25.112Z"
   },
   {
    "duration": 7,
    "start_time": "2021-08-05T20:14:25.124Z"
   },
   {
    "duration": 317,
    "start_time": "2021-08-05T20:15:59.521Z"
   },
   {
    "duration": 1434,
    "start_time": "2021-08-05T20:16:09.672Z"
   },
   {
    "duration": 25,
    "start_time": "2021-08-05T20:16:11.109Z"
   },
   {
    "duration": 7,
    "start_time": "2021-08-05T20:16:11.145Z"
   },
   {
    "duration": 9,
    "start_time": "2021-08-05T20:16:11.153Z"
   },
   {
    "duration": 12,
    "start_time": "2021-08-05T20:16:11.163Z"
   },
   {
    "duration": 329,
    "start_time": "2021-08-05T20:16:11.177Z"
   },
   {
    "duration": -66,
    "start_time": "2021-08-05T20:16:11.574Z"
   },
   {
    "duration": -71,
    "start_time": "2021-08-05T20:16:11.580Z"
   },
   {
    "duration": 1346,
    "start_time": "2021-08-05T20:16:51.000Z"
   },
   {
    "duration": 27,
    "start_time": "2021-08-05T20:16:52.348Z"
   },
   {
    "duration": 8,
    "start_time": "2021-08-05T20:16:52.377Z"
   },
   {
    "duration": 6,
    "start_time": "2021-08-05T20:16:52.387Z"
   },
   {
    "duration": 11,
    "start_time": "2021-08-05T20:16:52.395Z"
   },
   {
    "duration": 5,
    "start_time": "2021-08-05T20:16:52.408Z"
   },
   {
    "duration": 9,
    "start_time": "2021-08-05T20:16:52.414Z"
   },
   {
    "duration": 7,
    "start_time": "2021-08-05T20:16:52.425Z"
   },
   {
    "duration": 3095,
    "start_time": "2021-08-05T20:20:47.610Z"
   },
   {
    "duration": 5,
    "start_time": "2021-08-05T20:21:25.386Z"
   },
   {
    "duration": 4,
    "start_time": "2021-08-05T20:21:35.146Z"
   },
   {
    "duration": 7,
    "start_time": "2021-08-05T20:22:14.346Z"
   },
   {
    "duration": 234,
    "start_time": "2021-08-05T20:23:04.155Z"
   },
   {
    "duration": 1344,
    "start_time": "2021-08-05T20:23:21.882Z"
   },
   {
    "duration": 28,
    "start_time": "2021-08-05T20:23:23.228Z"
   },
   {
    "duration": 7,
    "start_time": "2021-08-05T20:23:23.258Z"
   },
   {
    "duration": 367,
    "start_time": "2021-08-05T20:23:23.267Z"
   },
   {
    "duration": -71,
    "start_time": "2021-08-05T20:23:23.707Z"
   },
   {
    "duration": -82,
    "start_time": "2021-08-05T20:23:23.719Z"
   },
   {
    "duration": -88,
    "start_time": "2021-08-05T20:23:23.726Z"
   },
   {
    "duration": -97,
    "start_time": "2021-08-05T20:23:23.737Z"
   },
   {
    "duration": 257,
    "start_time": "2021-08-05T20:23:30.348Z"
   },
   {
    "duration": 1054,
    "start_time": "2021-08-05T20:23:49.939Z"
   },
   {
    "duration": 23,
    "start_time": "2021-08-05T20:23:50.997Z"
   },
   {
    "duration": 15,
    "start_time": "2021-08-05T20:23:51.021Z"
   },
   {
    "duration": 10,
    "start_time": "2021-08-05T20:23:51.038Z"
   },
   {
    "duration": 12,
    "start_time": "2021-08-05T20:23:51.049Z"
   },
   {
    "duration": 9,
    "start_time": "2021-08-05T20:23:51.063Z"
   },
   {
    "duration": 18,
    "start_time": "2021-08-05T20:23:51.074Z"
   },
   {
    "duration": 9,
    "start_time": "2021-08-05T20:23:51.095Z"
   },
   {
    "duration": 314,
    "start_time": "2021-08-05T20:24:22.956Z"
   },
   {
    "duration": 7,
    "start_time": "2021-08-05T20:24:45.581Z"
   },
   {
    "duration": 4,
    "start_time": "2021-08-05T20:25:50.420Z"
   },
   {
    "duration": 8,
    "start_time": "2021-08-05T20:25:58.884Z"
   },
   {
    "duration": 1302,
    "start_time": "2021-08-05T20:27:06.126Z"
   },
   {
    "duration": 28,
    "start_time": "2021-08-05T20:27:07.430Z"
   },
   {
    "duration": 7,
    "start_time": "2021-08-05T20:27:07.460Z"
   },
   {
    "duration": 8,
    "start_time": "2021-08-05T20:27:07.469Z"
   },
   {
    "duration": 14,
    "start_time": "2021-08-05T20:27:07.478Z"
   },
   {
    "duration": 12,
    "start_time": "2021-08-05T20:27:07.494Z"
   },
   {
    "duration": 5,
    "start_time": "2021-08-05T20:27:07.507Z"
   },
   {
    "duration": 7,
    "start_time": "2021-08-05T20:27:07.515Z"
   },
   {
    "duration": 8,
    "start_time": "2021-08-05T20:27:07.524Z"
   },
   {
    "duration": 6,
    "start_time": "2021-08-05T20:27:45.389Z"
   },
   {
    "duration": 8,
    "start_time": "2021-08-05T20:28:04.951Z"
   },
   {
    "duration": 10,
    "start_time": "2021-08-05T20:28:18.334Z"
   },
   {
    "duration": 5,
    "start_time": "2021-08-05T20:28:44.252Z"
   },
   {
    "duration": 8,
    "start_time": "2021-08-05T20:28:58.236Z"
   },
   {
    "duration": 9,
    "start_time": "2021-08-05T20:29:20.920Z"
   },
   {
    "duration": 9,
    "start_time": "2021-08-05T20:29:29.540Z"
   },
   {
    "duration": 53,
    "start_time": "2021-08-05T20:43:04.393Z"
   },
   {
    "duration": 8,
    "start_time": "2021-08-05T20:43:24.195Z"
   },
   {
    "duration": 7,
    "start_time": "2021-08-05T20:43:34.040Z"
   },
   {
    "duration": 21,
    "start_time": "2021-08-05T20:46:38.178Z"
   },
   {
    "duration": 7,
    "start_time": "2021-08-05T20:46:38.648Z"
   },
   {
    "duration": 5,
    "start_time": "2021-08-05T20:46:39.185Z"
   },
   {
    "duration": 1074,
    "start_time": "2021-08-05T20:48:36.133Z"
   },
   {
    "duration": 24,
    "start_time": "2021-08-05T20:48:37.210Z"
   },
   {
    "duration": 7,
    "start_time": "2021-08-05T20:48:37.236Z"
   },
   {
    "duration": 6,
    "start_time": "2021-08-05T20:48:37.245Z"
   },
   {
    "duration": 14,
    "start_time": "2021-08-05T20:48:37.252Z"
   },
   {
    "duration": 8,
    "start_time": "2021-08-05T20:48:37.268Z"
   },
   {
    "duration": 6,
    "start_time": "2021-08-05T20:48:37.277Z"
   },
   {
    "duration": 17,
    "start_time": "2021-08-05T20:48:37.285Z"
   },
   {
    "duration": 9,
    "start_time": "2021-08-05T20:48:37.305Z"
   },
   {
    "duration": 43,
    "start_time": "2021-08-05T20:48:37.315Z"
   },
   {
    "duration": 5,
    "start_time": "2021-08-05T20:48:37.360Z"
   },
   {
    "duration": 10,
    "start_time": "2021-08-05T20:48:37.366Z"
   },
   {
    "duration": 24,
    "start_time": "2021-08-05T20:48:37.377Z"
   },
   {
    "duration": 6,
    "start_time": "2021-08-05T20:48:37.402Z"
   },
   {
    "duration": 10,
    "start_time": "2021-08-05T20:48:37.410Z"
   },
   {
    "duration": 1069,
    "start_time": "2021-08-06T04:48:10.729Z"
   },
   {
    "duration": 24,
    "start_time": "2021-08-06T04:48:11.800Z"
   },
   {
    "duration": 10,
    "start_time": "2021-08-06T04:48:11.826Z"
   },
   {
    "duration": 6,
    "start_time": "2021-08-06T04:48:11.838Z"
   },
   {
    "duration": 10,
    "start_time": "2021-08-06T04:48:11.846Z"
   },
   {
    "duration": 8,
    "start_time": "2021-08-06T04:48:11.858Z"
   },
   {
    "duration": 3,
    "start_time": "2021-08-06T04:48:11.868Z"
   },
   {
    "duration": 12,
    "start_time": "2021-08-06T04:48:11.873Z"
   },
   {
    "duration": 8,
    "start_time": "2021-08-06T04:48:11.886Z"
   },
   {
    "duration": 42,
    "start_time": "2021-08-06T04:48:11.896Z"
   },
   {
    "duration": 5,
    "start_time": "2021-08-06T04:48:11.939Z"
   },
   {
    "duration": 7,
    "start_time": "2021-08-06T04:48:11.946Z"
   },
   {
    "duration": 12,
    "start_time": "2021-08-06T04:48:11.954Z"
   },
   {
    "duration": 21,
    "start_time": "2021-08-06T04:48:11.968Z"
   },
   {
    "duration": 5,
    "start_time": "2021-08-06T04:48:11.991Z"
   },
   {
    "duration": 11,
    "start_time": "2021-08-06T04:48:11.997Z"
   },
   {
    "duration": 16,
    "start_time": "2021-08-06T04:48:12.009Z"
   },
   {
    "duration": 6,
    "start_time": "2021-08-06T04:52:35.741Z"
   },
   {
    "duration": 83,
    "start_time": "2021-08-06T05:02:21.888Z"
   },
   {
    "duration": 318,
    "start_time": "2021-08-06T05:02:49.439Z"
   },
   {
    "duration": 235,
    "start_time": "2021-08-06T05:03:14.415Z"
   },
   {
    "duration": 7,
    "start_time": "2021-08-06T05:03:24.269Z"
   },
   {
    "duration": 406,
    "start_time": "2021-08-06T05:03:25.108Z"
   },
   {
    "duration": 173,
    "start_time": "2021-08-06T05:03:36.351Z"
   },
   {
    "duration": 77,
    "start_time": "2021-08-06T05:09:23.153Z"
   },
   {
    "duration": 145,
    "start_time": "2021-08-06T05:09:43.156Z"
   },
   {
    "duration": 13,
    "start_time": "2021-08-06T05:11:32.323Z"
   },
   {
    "duration": 892,
    "start_time": "2021-08-06T05:12:13.676Z"
   },
   {
    "duration": 16,
    "start_time": "2021-08-06T05:12:19.195Z"
   },
   {
    "duration": 16,
    "start_time": "2021-08-06T05:13:34.773Z"
   },
   {
    "duration": 177,
    "start_time": "2021-08-06T05:17:53.880Z"
   },
   {
    "duration": 176,
    "start_time": "2021-08-06T05:18:26.988Z"
   },
   {
    "duration": 7,
    "start_time": "2021-08-06T05:18:32.125Z"
   },
   {
    "duration": 178,
    "start_time": "2021-08-06T05:19:16.240Z"
   },
   {
    "duration": 177,
    "start_time": "2021-08-06T05:20:04.454Z"
   },
   {
    "duration": 181,
    "start_time": "2021-08-06T05:27:00.936Z"
   },
   {
    "duration": 365,
    "start_time": "2021-08-06T05:34:24.578Z"
   },
   {
    "duration": 13,
    "start_time": "2021-08-06T05:39:20.083Z"
   },
   {
    "duration": 451,
    "start_time": "2021-08-06T05:40:17.443Z"
   },
   {
    "duration": 408,
    "start_time": "2021-08-06T05:40:37.509Z"
   },
   {
    "duration": 394,
    "start_time": "2021-08-06T05:40:56.868Z"
   },
   {
    "duration": 377,
    "start_time": "2021-08-06T05:41:08.700Z"
   },
   {
    "duration": 297,
    "start_time": "2021-08-06T05:41:25.708Z"
   },
   {
    "duration": 300,
    "start_time": "2021-08-06T05:43:26.140Z"
   },
   {
    "duration": 4,
    "start_time": "2021-08-06T10:55:19.123Z"
   },
   {
    "duration": 426,
    "start_time": "2021-08-06T10:56:41.692Z"
   },
   {
    "duration": 6,
    "start_time": "2021-08-06T11:03:39.040Z"
   },
   {
    "duration": 9,
    "start_time": "2021-08-06T11:04:07.213Z"
   },
   {
    "duration": 172,
    "start_time": "2021-08-06T11:04:49.983Z"
   },
   {
    "duration": 1057,
    "start_time": "2021-08-06T11:07:31.732Z"
   },
   {
    "duration": 23,
    "start_time": "2021-08-06T11:07:32.791Z"
   },
   {
    "duration": 6,
    "start_time": "2021-08-06T11:07:32.816Z"
   },
   {
    "duration": 6,
    "start_time": "2021-08-06T11:07:32.824Z"
   },
   {
    "duration": 8,
    "start_time": "2021-08-06T11:07:32.832Z"
   },
   {
    "duration": 7,
    "start_time": "2021-08-06T11:07:32.842Z"
   },
   {
    "duration": 3,
    "start_time": "2021-08-06T11:07:32.851Z"
   },
   {
    "duration": 12,
    "start_time": "2021-08-06T11:07:32.856Z"
   },
   {
    "duration": 26,
    "start_time": "2021-08-06T11:07:32.869Z"
   },
   {
    "duration": 42,
    "start_time": "2021-08-06T11:07:32.896Z"
   },
   {
    "duration": 5,
    "start_time": "2021-08-06T11:07:32.939Z"
   },
   {
    "duration": 8,
    "start_time": "2021-08-06T11:07:32.946Z"
   },
   {
    "duration": 12,
    "start_time": "2021-08-06T11:07:32.955Z"
   },
   {
    "duration": 23,
    "start_time": "2021-08-06T11:07:32.968Z"
   },
   {
    "duration": 8,
    "start_time": "2021-08-06T11:07:32.993Z"
   },
   {
    "duration": 9,
    "start_time": "2021-08-06T11:07:33.002Z"
   },
   {
    "duration": 12,
    "start_time": "2021-08-06T11:07:33.012Z"
   },
   {
    "duration": 10,
    "start_time": "2021-08-06T11:07:33.025Z"
   },
   {
    "duration": 175,
    "start_time": "2021-08-06T11:07:33.036Z"
   },
   {
    "duration": 148,
    "start_time": "2021-08-06T11:07:33.213Z"
   },
   {
    "duration": 11,
    "start_time": "2021-08-06T11:07:33.362Z"
   },
   {
    "duration": 20,
    "start_time": "2021-08-06T11:07:33.374Z"
   },
   {
    "duration": 188,
    "start_time": "2021-08-06T11:07:33.396Z"
   },
   {
    "duration": 179,
    "start_time": "2021-08-06T11:07:33.590Z"
   },
   {
    "duration": 22,
    "start_time": "2021-08-06T11:07:33.771Z"
   },
   {
    "duration": 297,
    "start_time": "2021-08-06T11:07:33.794Z"
   },
   {
    "duration": 3,
    "start_time": "2021-08-06T11:07:34.093Z"
   },
   {
    "duration": 12,
    "start_time": "2021-08-06T11:07:34.098Z"
   },
   {
    "duration": 9,
    "start_time": "2021-08-06T11:07:34.111Z"
   },
   {
    "duration": 191,
    "start_time": "2021-08-06T11:07:34.121Z"
   },
   {
    "duration": 175,
    "start_time": "2021-08-06T11:11:59.342Z"
   },
   {
    "duration": 5,
    "start_time": "2021-08-06T11:17:16.805Z"
   },
   {
    "duration": 305,
    "start_time": "2021-08-06T11:19:38.373Z"
   },
   {
    "duration": 376,
    "start_time": "2021-08-06T11:19:48.805Z"
   },
   {
    "duration": 8,
    "start_time": "2021-08-06T11:48:34.286Z"
   },
   {
    "duration": 343,
    "start_time": "2021-08-06T11:49:48.408Z"
   },
   {
    "duration": 266,
    "start_time": "2021-08-06T11:49:56.143Z"
   },
   {
    "duration": 13,
    "start_time": "2021-08-06T11:50:11.367Z"
   },
   {
    "duration": 11,
    "start_time": "2021-08-06T11:50:33.807Z"
   },
   {
    "duration": 12,
    "start_time": "2021-08-06T11:50:42.904Z"
   },
   {
    "duration": 12,
    "start_time": "2021-08-06T11:51:01.545Z"
   },
   {
    "duration": 12,
    "start_time": "2021-08-06T11:51:52.608Z"
   },
   {
    "duration": 242,
    "start_time": "2021-08-06T11:53:21.208Z"
   },
   {
    "duration": 4,
    "start_time": "2021-08-06T11:53:47.974Z"
   },
   {
    "duration": 237,
    "start_time": "2021-08-06T11:58:59.426Z"
   },
   {
    "duration": 7011,
    "start_time": "2021-08-06T11:59:07.344Z"
   },
   {
    "duration": 13,
    "start_time": "2021-08-06T11:59:28.048Z"
   },
   {
    "duration": 294,
    "start_time": "2021-08-06T11:59:28.729Z"
   },
   {
    "duration": 304,
    "start_time": "2021-08-06T12:00:54.289Z"
   },
   {
    "duration": 6,
    "start_time": "2021-08-06T12:08:37.507Z"
   },
   {
    "duration": 242,
    "start_time": "2021-08-06T12:16:00.038Z"
   },
   {
    "duration": 6,
    "start_time": "2021-08-06T12:19:36.710Z"
   },
   {
    "duration": 1061,
    "start_time": "2021-08-06T12:22:34.116Z"
   },
   {
    "duration": 23,
    "start_time": "2021-08-06T12:22:35.179Z"
   },
   {
    "duration": 19,
    "start_time": "2021-08-06T12:22:35.204Z"
   },
   {
    "duration": 20,
    "start_time": "2021-08-06T12:22:35.225Z"
   },
   {
    "duration": 26,
    "start_time": "2021-08-06T12:22:35.246Z"
   },
   {
    "duration": 25,
    "start_time": "2021-08-06T12:22:35.273Z"
   },
   {
    "duration": 29,
    "start_time": "2021-08-06T12:22:35.300Z"
   },
   {
    "duration": 32,
    "start_time": "2021-08-06T12:22:35.331Z"
   },
   {
    "duration": 15,
    "start_time": "2021-08-06T12:22:35.365Z"
   },
   {
    "duration": 50,
    "start_time": "2021-08-06T12:22:35.381Z"
   },
   {
    "duration": 28,
    "start_time": "2021-08-06T12:22:35.432Z"
   },
   {
    "duration": 19,
    "start_time": "2021-08-06T12:22:35.462Z"
   },
   {
    "duration": 23,
    "start_time": "2021-08-06T12:22:35.483Z"
   },
   {
    "duration": 43,
    "start_time": "2021-08-06T12:22:35.507Z"
   },
   {
    "duration": 18,
    "start_time": "2021-08-06T12:22:35.552Z"
   },
   {
    "duration": 16,
    "start_time": "2021-08-06T12:22:35.571Z"
   },
   {
    "duration": 28,
    "start_time": "2021-08-06T12:22:35.589Z"
   },
   {
    "duration": 21,
    "start_time": "2021-08-06T12:22:35.619Z"
   },
   {
    "duration": 177,
    "start_time": "2021-08-06T12:22:35.641Z"
   },
   {
    "duration": 160,
    "start_time": "2021-08-06T12:22:35.820Z"
   },
   {
    "duration": 19,
    "start_time": "2021-08-06T12:22:35.981Z"
   },
   {
    "duration": 19,
    "start_time": "2021-08-06T12:22:36.002Z"
   },
   {
    "duration": 206,
    "start_time": "2021-08-06T12:22:36.024Z"
   },
   {
    "duration": 184,
    "start_time": "2021-08-06T12:22:36.232Z"
   },
   {
    "duration": 13,
    "start_time": "2021-08-06T12:22:36.418Z"
   },
   {
    "duration": 284,
    "start_time": "2021-08-06T12:22:36.432Z"
   },
   {
    "duration": 2,
    "start_time": "2021-08-06T12:22:36.719Z"
   },
   {
    "duration": 12,
    "start_time": "2021-08-06T12:22:36.723Z"
   },
   {
    "duration": 214,
    "start_time": "2021-08-06T12:22:36.737Z"
   },
   {
    "duration": 5,
    "start_time": "2021-08-06T12:22:36.953Z"
   },
   {
    "duration": 316,
    "start_time": "2021-08-06T12:22:36.959Z"
   },
   {
    "duration": 16,
    "start_time": "2021-08-06T12:22:37.277Z"
   },
   {
    "duration": 21,
    "start_time": "2021-08-06T12:22:37.295Z"
   },
   {
    "duration": 250,
    "start_time": "2021-08-06T12:22:37.318Z"
   },
   {
    "duration": 5,
    "start_time": "2021-08-06T12:22:37.570Z"
   },
   {
    "duration": 337,
    "start_time": "2021-08-06T12:22:37.577Z"
   },
   {
    "duration": 6,
    "start_time": "2021-08-06T12:22:37.916Z"
   },
   {
    "duration": 8,
    "start_time": "2021-08-06T17:41:45.080Z"
   },
   {
    "duration": 22,
    "start_time": "2021-08-06T17:54:16.192Z"
   },
   {
    "duration": 22,
    "start_time": "2021-08-06T17:54:34.132Z"
   },
   {
    "duration": 7,
    "start_time": "2021-08-06T17:56:39.909Z"
   },
   {
    "duration": 16,
    "start_time": "2021-08-06T17:59:23.859Z"
   },
   {
    "duration": 10,
    "start_time": "2021-08-06T18:02:07.739Z"
   },
   {
    "duration": 14,
    "start_time": "2021-08-06T18:02:14.484Z"
   },
   {
    "duration": 8,
    "start_time": "2021-08-06T18:08:11.299Z"
   },
   {
    "duration": 326,
    "start_time": "2021-08-06T18:09:51.221Z"
   },
   {
    "duration": 238,
    "start_time": "2021-08-06T18:10:59.406Z"
   },
   {
    "duration": 1114,
    "start_time": "2021-08-06T18:11:51.070Z"
   },
   {
    "duration": 24,
    "start_time": "2021-08-06T18:11:52.186Z"
   },
   {
    "duration": 5,
    "start_time": "2021-08-06T18:11:52.212Z"
   },
   {
    "duration": 7,
    "start_time": "2021-08-06T18:11:52.219Z"
   },
   {
    "duration": 9,
    "start_time": "2021-08-06T18:11:52.228Z"
   },
   {
    "duration": 10,
    "start_time": "2021-08-06T18:11:52.239Z"
   },
   {
    "duration": 7,
    "start_time": "2021-08-06T18:11:52.250Z"
   },
   {
    "duration": 11,
    "start_time": "2021-08-06T18:11:52.260Z"
   },
   {
    "duration": 25,
    "start_time": "2021-08-06T18:11:52.273Z"
   },
   {
    "duration": 41,
    "start_time": "2021-08-06T18:11:52.300Z"
   },
   {
    "duration": 5,
    "start_time": "2021-08-06T18:11:52.342Z"
   },
   {
    "duration": 6,
    "start_time": "2021-08-06T18:11:52.348Z"
   },
   {
    "duration": 10,
    "start_time": "2021-08-06T18:11:52.356Z"
   },
   {
    "duration": 21,
    "start_time": "2021-08-06T18:11:52.368Z"
   },
   {
    "duration": 5,
    "start_time": "2021-08-06T18:11:52.390Z"
   },
   {
    "duration": 10,
    "start_time": "2021-08-06T18:11:52.396Z"
   },
   {
    "duration": 10,
    "start_time": "2021-08-06T18:11:52.407Z"
   },
   {
    "duration": 8,
    "start_time": "2021-08-06T18:11:52.418Z"
   },
   {
    "duration": 190,
    "start_time": "2021-08-06T18:11:52.428Z"
   },
   {
    "duration": 150,
    "start_time": "2021-08-06T18:11:52.619Z"
   },
   {
    "duration": 23,
    "start_time": "2021-08-06T18:11:52.771Z"
   },
   {
    "duration": 6,
    "start_time": "2021-08-06T18:11:52.795Z"
   },
   {
    "duration": 188,
    "start_time": "2021-08-06T18:11:52.804Z"
   },
   {
    "duration": 175,
    "start_time": "2021-08-06T18:11:52.994Z"
   },
   {
    "duration": 22,
    "start_time": "2021-08-06T18:11:53.170Z"
   },
   {
    "duration": 285,
    "start_time": "2021-08-06T18:11:53.194Z"
   },
   {
    "duration": 10,
    "start_time": "2021-08-06T18:11:53.481Z"
   },
   {
    "duration": 5,
    "start_time": "2021-08-06T18:11:53.493Z"
   },
   {
    "duration": 191,
    "start_time": "2021-08-06T18:11:53.500Z"
   },
   {
    "duration": 4,
    "start_time": "2021-08-06T18:11:53.693Z"
   },
   {
    "duration": 279,
    "start_time": "2021-08-06T18:11:53.699Z"
   },
   {
    "duration": 13,
    "start_time": "2021-08-06T18:11:53.979Z"
   },
   {
    "duration": 14,
    "start_time": "2021-08-06T18:11:53.994Z"
   },
   {
    "duration": 253,
    "start_time": "2021-08-06T18:11:54.009Z"
   },
   {
    "duration": 4,
    "start_time": "2021-08-06T18:11:54.264Z"
   },
   {
    "duration": 329,
    "start_time": "2021-08-06T18:11:54.270Z"
   },
   {
    "duration": 4,
    "start_time": "2021-08-06T18:11:54.601Z"
   },
   {
    "duration": 10,
    "start_time": "2021-08-06T18:11:54.607Z"
   },
   {
    "duration": 22,
    "start_time": "2021-08-06T18:11:54.618Z"
   },
   {
    "duration": 6,
    "start_time": "2021-08-06T18:11:54.641Z"
   },
   {
    "duration": 13,
    "start_time": "2021-08-06T18:11:54.648Z"
   },
   {
    "duration": 33,
    "start_time": "2021-08-06T18:11:54.662Z"
   },
   {
    "duration": 13,
    "start_time": "2021-08-06T18:11:54.697Z"
   },
   {
    "duration": 10,
    "start_time": "2021-08-06T18:11:54.712Z"
   },
   {
    "duration": 310,
    "start_time": "2021-08-06T18:11:54.724Z"
   },
   {
    "duration": 235,
    "start_time": "2021-08-06T18:12:39.351Z"
   },
   {
    "duration": 11,
    "start_time": "2021-08-06T18:13:30.840Z"
   },
   {
    "duration": 12,
    "start_time": "2021-08-06T18:13:42.303Z"
   },
   {
    "duration": 12,
    "start_time": "2021-08-06T18:14:02.430Z"
   },
   {
    "duration": 6094,
    "start_time": "2021-08-06T18:21:19.801Z"
   },
   {
    "duration": 9,
    "start_time": "2021-08-06T18:21:44.761Z"
   },
   {
    "duration": 9,
    "start_time": "2021-08-06T18:21:46.713Z"
   },
   {
    "duration": 8,
    "start_time": "2021-08-06T18:21:47.522Z"
   },
   {
    "duration": 252,
    "start_time": "2021-08-06T18:23:24.800Z"
   },
   {
    "duration": 8,
    "start_time": "2021-08-06T18:23:51.098Z"
   },
   {
    "duration": 7,
    "start_time": "2021-08-06T18:26:32.411Z"
   },
   {
    "duration": 12,
    "start_time": "2021-08-06T18:37:18.760Z"
   },
   {
    "duration": 76,
    "start_time": "2021-08-06T18:55:23.593Z"
   },
   {
    "duration": 78,
    "start_time": "2021-08-06T18:55:39.017Z"
   },
   {
    "duration": 5661,
    "start_time": "2021-08-06T18:56:01.233Z"
   },
   {
    "duration": 6125,
    "start_time": "2021-08-06T18:56:14.306Z"
   },
   {
    "duration": 240,
    "start_time": "2021-08-06T18:56:56.291Z"
   },
   {
    "duration": 313,
    "start_time": "2021-08-06T18:57:51.377Z"
   },
   {
    "duration": 11,
    "start_time": "2021-08-06T18:58:17.076Z"
   },
   {
    "duration": 10,
    "start_time": "2021-08-06T18:59:27.707Z"
   },
   {
    "duration": 12,
    "start_time": "2021-08-06T18:59:38.945Z"
   },
   {
    "duration": 10,
    "start_time": "2021-08-06T19:02:13.619Z"
   },
   {
    "duration": 9,
    "start_time": "2021-08-06T19:03:10.019Z"
   },
   {
    "duration": 9,
    "start_time": "2021-08-06T19:08:20.989Z"
   },
   {
    "duration": 231,
    "start_time": "2021-08-06T19:09:18.014Z"
   },
   {
    "duration": 9,
    "start_time": "2021-08-06T19:09:21.694Z"
   },
   {
    "duration": 7,
    "start_time": "2021-08-06T19:09:23.334Z"
   },
   {
    "duration": 243,
    "start_time": "2021-08-06T19:17:58.792Z"
   },
   {
    "duration": 265,
    "start_time": "2021-08-06T19:18:06.138Z"
   },
   {
    "duration": 78,
    "start_time": "2021-08-06T19:25:42.446Z"
   },
   {
    "duration": 89,
    "start_time": "2021-08-06T19:25:55.068Z"
   },
   {
    "duration": 97,
    "start_time": "2021-08-06T19:26:11.885Z"
   },
   {
    "duration": 75,
    "start_time": "2021-08-06T19:26:17.221Z"
   },
   {
    "duration": 75,
    "start_time": "2021-08-06T19:28:12.357Z"
   },
   {
    "duration": 93,
    "start_time": "2021-08-06T19:28:39.004Z"
   },
   {
    "duration": 78,
    "start_time": "2021-08-06T19:28:44.158Z"
   },
   {
    "duration": 98,
    "start_time": "2021-08-06T19:30:30.830Z"
   },
   {
    "duration": 78,
    "start_time": "2021-08-06T19:31:52.885Z"
   },
   {
    "duration": 82,
    "start_time": "2021-08-06T19:32:11.381Z"
   },
   {
    "duration": 75,
    "start_time": "2021-08-06T19:32:40.149Z"
   },
   {
    "duration": 75,
    "start_time": "2021-08-06T19:33:34.671Z"
   },
   {
    "duration": 235,
    "start_time": "2021-08-06T19:33:41.733Z"
   },
   {
    "duration": 10,
    "start_time": "2021-08-06T19:34:36.383Z"
   },
   {
    "duration": 104,
    "start_time": "2021-08-06T19:37:31.104Z"
   },
   {
    "duration": 16,
    "start_time": "2021-08-06T19:37:42.024Z"
   },
   {
    "duration": 17,
    "start_time": "2021-08-06T19:38:10.809Z"
   },
   {
    "duration": 1147,
    "start_time": "2021-08-06T20:35:06.185Z"
   },
   {
    "duration": 24,
    "start_time": "2021-08-06T20:35:07.334Z"
   },
   {
    "duration": 9,
    "start_time": "2021-08-06T20:35:07.360Z"
   },
   {
    "duration": 6,
    "start_time": "2021-08-06T20:35:07.370Z"
   },
   {
    "duration": 19,
    "start_time": "2021-08-06T20:35:07.377Z"
   },
   {
    "duration": 12,
    "start_time": "2021-08-06T20:35:07.398Z"
   },
   {
    "duration": 4,
    "start_time": "2021-08-06T20:35:07.411Z"
   },
   {
    "duration": 11,
    "start_time": "2021-08-06T20:35:07.417Z"
   },
   {
    "duration": 8,
    "start_time": "2021-08-06T20:35:07.430Z"
   },
   {
    "duration": 44,
    "start_time": "2021-08-06T20:35:07.440Z"
   },
   {
    "duration": 6,
    "start_time": "2021-08-06T20:35:07.486Z"
   },
   {
    "duration": 11,
    "start_time": "2021-08-06T20:35:07.494Z"
   },
   {
    "duration": 6,
    "start_time": "2021-08-06T20:35:07.507Z"
   },
   {
    "duration": 23,
    "start_time": "2021-08-06T20:35:07.514Z"
   },
   {
    "duration": 8,
    "start_time": "2021-08-06T20:35:07.539Z"
   },
   {
    "duration": 10,
    "start_time": "2021-08-06T20:35:07.548Z"
   },
   {
    "duration": 17,
    "start_time": "2021-08-06T20:35:07.560Z"
   },
   {
    "duration": 10,
    "start_time": "2021-08-06T20:35:07.578Z"
   },
   {
    "duration": 190,
    "start_time": "2021-08-06T20:35:07.589Z"
   },
   {
    "duration": 162,
    "start_time": "2021-08-06T20:35:07.781Z"
   },
   {
    "duration": 11,
    "start_time": "2021-08-06T20:35:07.944Z"
   },
   {
    "duration": 9,
    "start_time": "2021-08-06T20:35:07.957Z"
   },
   {
    "duration": 208,
    "start_time": "2021-08-06T20:35:07.969Z"
   },
   {
    "duration": 186,
    "start_time": "2021-08-06T20:35:08.179Z"
   },
   {
    "duration": 13,
    "start_time": "2021-08-06T20:35:08.367Z"
   },
   {
    "duration": 315,
    "start_time": "2021-08-06T20:35:08.392Z"
   },
   {
    "duration": 6,
    "start_time": "2021-08-06T20:35:08.708Z"
   },
   {
    "duration": 200,
    "start_time": "2021-08-06T20:35:08.716Z"
   },
   {
    "duration": 4,
    "start_time": "2021-08-06T20:35:08.918Z"
   },
   {
    "duration": 288,
    "start_time": "2021-08-06T20:35:08.923Z"
   },
   {
    "duration": 8,
    "start_time": "2021-08-06T20:35:09.213Z"
   },
   {
    "duration": 15,
    "start_time": "2021-08-06T20:35:09.223Z"
   },
   {
    "duration": 260,
    "start_time": "2021-08-06T20:35:09.240Z"
   },
   {
    "duration": 6,
    "start_time": "2021-08-06T20:35:09.502Z"
   },
   {
    "duration": 412,
    "start_time": "2021-08-06T20:35:09.510Z"
   },
   {
    "duration": 4,
    "start_time": "2021-08-06T20:35:09.924Z"
   },
   {
    "duration": 9,
    "start_time": "2021-08-06T20:35:09.929Z"
   },
   {
    "duration": 22,
    "start_time": "2021-08-06T20:35:09.940Z"
   },
   {
    "duration": 6,
    "start_time": "2021-08-06T20:35:09.963Z"
   },
   {
    "duration": 40,
    "start_time": "2021-08-06T20:35:09.970Z"
   },
   {
    "duration": 12,
    "start_time": "2021-08-06T20:35:10.012Z"
   },
   {
    "duration": 21,
    "start_time": "2021-08-06T20:35:10.026Z"
   },
   {
    "duration": 17,
    "start_time": "2021-08-06T20:35:10.048Z"
   },
   {
    "duration": 10,
    "start_time": "2021-08-06T20:35:10.067Z"
   },
   {
    "duration": 11,
    "start_time": "2021-08-06T20:35:10.078Z"
   },
   {
    "duration": 12,
    "start_time": "2021-08-06T20:35:10.091Z"
   },
   {
    "duration": 10,
    "start_time": "2021-08-06T20:35:10.105Z"
   },
   {
    "duration": 13,
    "start_time": "2021-08-06T20:35:10.116Z"
   },
   {
    "duration": 3,
    "start_time": "2021-08-06T20:35:10.131Z"
   },
   {
    "duration": 17,
    "start_time": "2021-08-06T20:35:10.135Z"
   },
   {
    "duration": 9,
    "start_time": "2021-08-06T20:35:10.153Z"
   },
   {
    "duration": 14,
    "start_time": "2021-08-06T20:35:10.164Z"
   },
   {
    "duration": 77,
    "start_time": "2021-08-09T18:41:01.423Z"
   },
   {
    "duration": 72,
    "start_time": "2021-08-09T18:41:28.458Z"
   },
   {
    "duration": 282,
    "start_time": "2021-08-09T18:57:39.899Z"
   },
   {
    "duration": 1040,
    "start_time": "2021-08-09T18:57:57.555Z"
   },
   {
    "duration": 23,
    "start_time": "2021-08-09T18:57:58.596Z"
   },
   {
    "duration": 5,
    "start_time": "2021-08-09T18:57:58.621Z"
   },
   {
    "duration": 5,
    "start_time": "2021-08-09T18:57:58.628Z"
   },
   {
    "duration": 10,
    "start_time": "2021-08-09T18:57:58.634Z"
   },
   {
    "duration": 8,
    "start_time": "2021-08-09T18:57:58.645Z"
   },
   {
    "duration": 4,
    "start_time": "2021-08-09T18:57:58.654Z"
   },
   {
    "duration": 10,
    "start_time": "2021-08-09T18:57:58.660Z"
   },
   {
    "duration": 8,
    "start_time": "2021-08-09T18:57:58.691Z"
   },
   {
    "duration": 5,
    "start_time": "2021-08-09T18:57:58.700Z"
   },
   {
    "duration": 43,
    "start_time": "2021-08-09T18:57:58.706Z"
   },
   {
    "duration": 5,
    "start_time": "2021-08-09T18:57:58.750Z"
   },
   {
    "duration": 8,
    "start_time": "2021-08-09T18:57:58.756Z"
   },
   {
    "duration": 12,
    "start_time": "2021-08-09T18:57:58.765Z"
   },
   {
    "duration": 23,
    "start_time": "2021-08-09T18:57:58.778Z"
   },
   {
    "duration": 8,
    "start_time": "2021-08-09T18:57:58.802Z"
   },
   {
    "duration": 9,
    "start_time": "2021-08-09T18:57:58.812Z"
   },
   {
    "duration": 11,
    "start_time": "2021-08-09T18:57:58.822Z"
   },
   {
    "duration": 10,
    "start_time": "2021-08-09T18:57:58.834Z"
   },
   {
    "duration": 174,
    "start_time": "2021-08-09T18:57:58.845Z"
   },
   {
    "duration": 145,
    "start_time": "2021-08-09T18:57:59.020Z"
   },
   {
    "duration": 10,
    "start_time": "2021-08-09T18:57:59.166Z"
   },
   {
    "duration": 7,
    "start_time": "2021-08-09T18:57:59.191Z"
   },
   {
    "duration": 195,
    "start_time": "2021-08-09T18:57:59.199Z"
   },
   {
    "duration": 186,
    "start_time": "2021-08-09T18:57:59.396Z"
   },
   {
    "duration": 14,
    "start_time": "2021-08-09T18:57:59.591Z"
   },
   {
    "duration": 284,
    "start_time": "2021-08-09T18:57:59.607Z"
   },
   {
    "duration": 5,
    "start_time": "2021-08-09T18:57:59.893Z"
   },
   {
    "duration": 187,
    "start_time": "2021-08-09T18:57:59.900Z"
   },
   {
    "duration": 5,
    "start_time": "2021-08-09T18:58:00.088Z"
   },
   {
    "duration": 286,
    "start_time": "2021-08-09T18:58:00.094Z"
   },
   {
    "duration": 14,
    "start_time": "2021-08-09T18:58:00.382Z"
   },
   {
    "duration": 13,
    "start_time": "2021-08-09T18:58:00.398Z"
   },
   {
    "duration": 256,
    "start_time": "2021-08-09T18:58:00.413Z"
   },
   {
    "duration": 4,
    "start_time": "2021-08-09T18:58:00.671Z"
   },
   {
    "duration": 355,
    "start_time": "2021-08-09T18:58:00.677Z"
   },
   {
    "duration": 5,
    "start_time": "2021-08-09T18:58:01.034Z"
   },
   {
    "duration": 16,
    "start_time": "2021-08-09T18:58:01.040Z"
   },
   {
    "duration": 35,
    "start_time": "2021-08-09T18:58:01.057Z"
   },
   {
    "duration": 7,
    "start_time": "2021-08-09T18:58:01.094Z"
   },
   {
    "duration": 21,
    "start_time": "2021-08-09T18:58:01.102Z"
   },
   {
    "duration": 10,
    "start_time": "2021-08-09T18:58:01.124Z"
   },
   {
    "duration": 15,
    "start_time": "2021-08-09T18:58:01.135Z"
   },
   {
    "duration": 6,
    "start_time": "2021-08-09T18:58:01.152Z"
   },
   {
    "duration": 32,
    "start_time": "2021-08-09T18:58:01.160Z"
   },
   {
    "duration": 7,
    "start_time": "2021-08-09T18:58:01.194Z"
   },
   {
    "duration": 11,
    "start_time": "2021-08-09T18:58:01.203Z"
   },
   {
    "duration": 14,
    "start_time": "2021-08-09T18:58:01.215Z"
   },
   {
    "duration": 17,
    "start_time": "2021-08-09T18:58:01.231Z"
   },
   {
    "duration": 11,
    "start_time": "2021-08-09T18:58:01.250Z"
   },
   {
    "duration": 22,
    "start_time": "2021-08-09T18:58:01.262Z"
   },
   {
    "duration": 29,
    "start_time": "2021-08-09T18:58:01.291Z"
   },
   {
    "duration": 19,
    "start_time": "2021-08-09T18:58:01.321Z"
   },
   {
    "duration": 10,
    "start_time": "2021-08-09T18:58:30.795Z"
   },
   {
    "duration": 71,
    "start_time": "2021-08-09T19:08:07.242Z"
   },
   {
    "duration": 75,
    "start_time": "2021-08-09T19:10:00.248Z"
   },
   {
    "duration": 74,
    "start_time": "2021-08-09T19:11:32.239Z"
   },
   {
    "duration": 71,
    "start_time": "2021-08-09T19:12:20.415Z"
   },
   {
    "duration": 1207,
    "start_time": "2021-08-09T19:12:30.888Z"
   },
   {
    "duration": 23,
    "start_time": "2021-08-09T19:12:32.097Z"
   },
   {
    "duration": 12,
    "start_time": "2021-08-09T19:12:32.123Z"
   },
   {
    "duration": 17,
    "start_time": "2021-08-09T19:12:32.136Z"
   },
   {
    "duration": 20,
    "start_time": "2021-08-09T19:12:32.154Z"
   },
   {
    "duration": 10,
    "start_time": "2021-08-09T19:12:32.176Z"
   },
   {
    "duration": 19,
    "start_time": "2021-08-09T19:12:32.188Z"
   },
   {
    "duration": 20,
    "start_time": "2021-08-09T19:12:32.209Z"
   },
   {
    "duration": 8,
    "start_time": "2021-08-09T19:12:32.230Z"
   },
   {
    "duration": 87,
    "start_time": "2021-08-09T19:12:32.239Z"
   },
   {
    "duration": -11,
    "start_time": "2021-08-09T19:12:32.339Z"
   },
   {
    "duration": -25,
    "start_time": "2021-08-09T19:12:32.354Z"
   },
   {
    "duration": -42,
    "start_time": "2021-08-09T19:12:32.372Z"
   },
   {
    "duration": -53,
    "start_time": "2021-08-09T19:12:32.384Z"
   },
   {
    "duration": -65,
    "start_time": "2021-08-09T19:12:32.396Z"
   },
   {
    "duration": -75,
    "start_time": "2021-08-09T19:12:32.407Z"
   },
   {
    "duration": -86,
    "start_time": "2021-08-09T19:12:32.419Z"
   },
   {
    "duration": -97,
    "start_time": "2021-08-09T19:12:32.431Z"
   },
   {
    "duration": -104,
    "start_time": "2021-08-09T19:12:32.439Z"
   },
   {
    "duration": -114,
    "start_time": "2021-08-09T19:12:32.449Z"
   },
   {
    "duration": -126,
    "start_time": "2021-08-09T19:12:32.462Z"
   },
   {
    "duration": -132,
    "start_time": "2021-08-09T19:12:32.469Z"
   },
   {
    "duration": -142,
    "start_time": "2021-08-09T19:12:32.480Z"
   },
   {
    "duration": -151,
    "start_time": "2021-08-09T19:12:32.490Z"
   },
   {
    "duration": -161,
    "start_time": "2021-08-09T19:12:32.501Z"
   },
   {
    "duration": -171,
    "start_time": "2021-08-09T19:12:32.512Z"
   },
   {
    "duration": -178,
    "start_time": "2021-08-09T19:12:32.520Z"
   },
   {
    "duration": -189,
    "start_time": "2021-08-09T19:12:32.531Z"
   },
   {
    "duration": -198,
    "start_time": "2021-08-09T19:12:32.541Z"
   },
   {
    "duration": -210,
    "start_time": "2021-08-09T19:12:32.554Z"
   },
   {
    "duration": -219,
    "start_time": "2021-08-09T19:12:32.564Z"
   },
   {
    "duration": -231,
    "start_time": "2021-08-09T19:12:32.577Z"
   },
   {
    "duration": -240,
    "start_time": "2021-08-09T19:12:32.586Z"
   },
   {
    "duration": -250,
    "start_time": "2021-08-09T19:12:32.597Z"
   },
   {
    "duration": -256,
    "start_time": "2021-08-09T19:12:32.604Z"
   },
   {
    "duration": -269,
    "start_time": "2021-08-09T19:12:32.618Z"
   },
   {
    "duration": -279,
    "start_time": "2021-08-09T19:12:32.629Z"
   },
   {
    "duration": -285,
    "start_time": "2021-08-09T19:12:32.636Z"
   },
   {
    "duration": -296,
    "start_time": "2021-08-09T19:12:32.647Z"
   },
   {
    "duration": -304,
    "start_time": "2021-08-09T19:12:32.656Z"
   },
   {
    "duration": -313,
    "start_time": "2021-08-09T19:12:32.666Z"
   },
   {
    "duration": -325,
    "start_time": "2021-08-09T19:12:32.679Z"
   },
   {
    "duration": -337,
    "start_time": "2021-08-09T19:12:32.692Z"
   },
   {
    "duration": -348,
    "start_time": "2021-08-09T19:12:32.704Z"
   },
   {
    "duration": -358,
    "start_time": "2021-08-09T19:12:32.715Z"
   },
   {
    "duration": -370,
    "start_time": "2021-08-09T19:12:32.728Z"
   },
   {
    "duration": -376,
    "start_time": "2021-08-09T19:12:32.735Z"
   },
   {
    "duration": -387,
    "start_time": "2021-08-09T19:12:32.747Z"
   },
   {
    "duration": -400,
    "start_time": "2021-08-09T19:12:32.760Z"
   },
   {
    "duration": -407,
    "start_time": "2021-08-09T19:12:32.768Z"
   },
   {
    "duration": -417,
    "start_time": "2021-08-09T19:12:32.779Z"
   },
   {
    "duration": -424,
    "start_time": "2021-08-09T19:12:32.787Z"
   },
   {
    "duration": -433,
    "start_time": "2021-08-09T19:12:32.797Z"
   },
   {
    "duration": -440,
    "start_time": "2021-08-09T19:12:32.805Z"
   },
   {
    "duration": 73,
    "start_time": "2021-08-09T19:13:07.329Z"
   },
   {
    "duration": 71,
    "start_time": "2021-08-09T19:13:42.498Z"
   },
   {
    "duration": 3,
    "start_time": "2021-08-09T19:14:41.414Z"
   },
   {
    "duration": 9,
    "start_time": "2021-08-09T19:15:56.799Z"
   },
   {
    "duration": 2964,
    "start_time": "2021-08-09T19:21:47.900Z"
   },
   {
    "duration": 2968,
    "start_time": "2021-08-09T19:22:02.104Z"
   },
   {
    "duration": 4374,
    "start_time": "2021-08-09T19:23:09.059Z"
   },
   {
    "duration": 11,
    "start_time": "2021-08-09T19:23:38.326Z"
   },
   {
    "duration": 12,
    "start_time": "2021-08-09T19:27:21.469Z"
   },
   {
    "duration": 267,
    "start_time": "2021-08-09T19:29:50.908Z"
   },
   {
    "duration": 238,
    "start_time": "2021-08-09T19:30:04.315Z"
   },
   {
    "duration": 245,
    "start_time": "2021-08-09T19:31:26.632Z"
   },
   {
    "duration": 224,
    "start_time": "2021-08-09T19:31:44.516Z"
   },
   {
    "duration": 17,
    "start_time": "2021-08-09T19:34:03.032Z"
   },
   {
    "duration": 16,
    "start_time": "2021-08-09T19:35:05.654Z"
   },
   {
    "duration": 766,
    "start_time": "2021-08-09T19:36:32.855Z"
   },
   {
    "duration": 229,
    "start_time": "2021-08-09T19:37:11.295Z"
   },
   {
    "duration": 7,
    "start_time": "2021-08-09T19:37:32.572Z"
   },
   {
    "duration": 4,
    "start_time": "2021-08-09T19:38:57.970Z"
   },
   {
    "duration": 73,
    "start_time": "2021-08-09T19:40:19.022Z"
   },
   {
    "duration": 5,
    "start_time": "2021-08-09T19:40:24.534Z"
   },
   {
    "duration": 17,
    "start_time": "2021-08-09T19:41:03.666Z"
   },
   {
    "duration": 11,
    "start_time": "2021-08-09T19:41:09.176Z"
   },
   {
    "duration": 12,
    "start_time": "2021-08-09T19:41:26.935Z"
   },
   {
    "duration": 257,
    "start_time": "2021-08-09T19:51:02.656Z"
   },
   {
    "duration": 422,
    "start_time": "2021-08-09T19:51:29.384Z"
   },
   {
    "duration": 459,
    "start_time": "2021-08-09T19:52:29.287Z"
   },
   {
    "duration": 434,
    "start_time": "2021-08-09T19:53:05.737Z"
   },
   {
    "duration": 428,
    "start_time": "2021-08-09T19:55:16.083Z"
   },
   {
    "duration": 413,
    "start_time": "2021-08-09T19:57:24.948Z"
   },
   {
    "duration": 5,
    "start_time": "2021-08-09T19:58:22.810Z"
   },
   {
    "duration": 4,
    "start_time": "2021-08-09T19:58:37.535Z"
   },
   {
    "duration": 6136,
    "start_time": "2021-08-09T19:58:46.374Z"
   },
   {
    "duration": 195,
    "start_time": "2021-08-09T19:59:29.350Z"
   },
   {
    "duration": 147,
    "start_time": "2021-08-09T20:06:13.341Z"
   },
   {
    "duration": 71,
    "start_time": "2021-08-09T20:08:07.267Z"
   },
   {
    "duration": 431,
    "start_time": "2021-08-09T20:10:56.046Z"
   },
   {
    "duration": 302,
    "start_time": "2021-08-09T20:11:54.714Z"
   },
   {
    "duration": 768,
    "start_time": "2021-08-09T20:14:45.081Z"
   },
   {
    "duration": 421,
    "start_time": "2021-08-09T20:15:31.682Z"
   },
   {
    "duration": 230,
    "start_time": "2021-08-09T20:15:53.913Z"
   },
   {
    "duration": 83,
    "start_time": "2021-08-09T20:28:26.398Z"
   },
   {
    "duration": 402,
    "start_time": "2021-08-09T20:28:39.868Z"
   },
   {
    "duration": 1719,
    "start_time": "2021-08-09T20:29:51.193Z"
   },
   {
    "duration": 241,
    "start_time": "2021-08-09T20:32:31.362Z"
   },
   {
    "duration": 416,
    "start_time": "2021-08-09T20:35:12.987Z"
   },
   {
    "duration": 246,
    "start_time": "2021-08-09T20:35:46.339Z"
   },
   {
    "duration": 253,
    "start_time": "2021-08-09T20:40:41.085Z"
   },
   {
    "duration": 288,
    "start_time": "2021-08-09T20:41:13.086Z"
   },
   {
    "duration": 1071,
    "start_time": "2021-08-09T20:58:02.814Z"
   },
   {
    "duration": 23,
    "start_time": "2021-08-09T20:58:03.887Z"
   },
   {
    "duration": 8,
    "start_time": "2021-08-09T20:58:03.912Z"
   },
   {
    "duration": 6,
    "start_time": "2021-08-09T20:58:03.922Z"
   },
   {
    "duration": 9,
    "start_time": "2021-08-09T20:58:03.929Z"
   },
   {
    "duration": 8,
    "start_time": "2021-08-09T20:58:03.939Z"
   },
   {
    "duration": 4,
    "start_time": "2021-08-09T20:58:03.948Z"
   },
   {
    "duration": 12,
    "start_time": "2021-08-09T20:58:03.954Z"
   },
   {
    "duration": 25,
    "start_time": "2021-08-09T20:58:03.967Z"
   },
   {
    "duration": 14,
    "start_time": "2021-08-09T20:58:03.993Z"
   },
   {
    "duration": 11,
    "start_time": "2021-08-09T20:58:04.008Z"
   },
   {
    "duration": 234,
    "start_time": "2021-08-09T20:58:04.021Z"
   },
   {
    "duration": 39,
    "start_time": "2021-08-09T20:58:04.256Z"
   },
   {
    "duration": 5,
    "start_time": "2021-08-09T20:58:04.297Z"
   },
   {
    "duration": 6,
    "start_time": "2021-08-09T20:58:04.303Z"
   },
   {
    "duration": 6,
    "start_time": "2021-08-09T20:58:04.310Z"
   },
   {
    "duration": 18,
    "start_time": "2021-08-09T20:58:04.317Z"
   },
   {
    "duration": 4,
    "start_time": "2021-08-09T20:58:04.337Z"
   },
   {
    "duration": 5,
    "start_time": "2021-08-09T20:58:04.343Z"
   },
   {
    "duration": 10,
    "start_time": "2021-08-09T20:58:04.349Z"
   },
   {
    "duration": 10,
    "start_time": "2021-08-09T20:58:04.360Z"
   },
   {
    "duration": 173,
    "start_time": "2021-08-09T20:58:04.390Z"
   },
   {
    "duration": 149,
    "start_time": "2021-08-09T20:58:04.567Z"
   },
   {
    "duration": 12,
    "start_time": "2021-08-09T20:58:04.718Z"
   },
   {
    "duration": 7,
    "start_time": "2021-08-09T20:58:04.731Z"
   },
   {
    "duration": 190,
    "start_time": "2021-08-09T20:58:04.739Z"
   },
   {
    "duration": 177,
    "start_time": "2021-08-09T20:58:04.930Z"
   },
   {
    "duration": 14,
    "start_time": "2021-08-09T20:58:05.108Z"
   },
   {
    "duration": 273,
    "start_time": "2021-08-09T20:58:05.123Z"
   },
   {
    "duration": 5,
    "start_time": "2021-08-09T20:58:05.398Z"
   },
   {
    "duration": 184,
    "start_time": "2021-08-09T20:58:05.404Z"
   },
   {
    "duration": 4,
    "start_time": "2021-08-09T20:58:05.591Z"
   },
   {
    "duration": 340,
    "start_time": "2021-08-09T20:58:05.597Z"
   },
   {
    "duration": 8,
    "start_time": "2021-08-09T20:58:05.938Z"
   },
   {
    "duration": 11,
    "start_time": "2021-08-09T20:58:05.947Z"
   },
   {
    "duration": 284,
    "start_time": "2021-08-09T20:58:05.960Z"
   },
   {
    "duration": 5,
    "start_time": "2021-08-09T20:58:06.246Z"
   },
   {
    "duration": 268,
    "start_time": "2021-08-09T20:58:06.253Z"
   },
   {
    "duration": 5,
    "start_time": "2021-08-09T20:58:06.523Z"
   },
   {
    "duration": 10,
    "start_time": "2021-08-09T20:58:06.529Z"
   },
   {
    "duration": 21,
    "start_time": "2021-08-09T20:58:06.540Z"
   },
   {
    "duration": 7,
    "start_time": "2021-08-09T20:58:06.562Z"
   },
   {
    "duration": 32,
    "start_time": "2021-08-09T20:58:06.570Z"
   },
   {
    "duration": 9,
    "start_time": "2021-08-09T20:58:06.603Z"
   },
   {
    "duration": 12,
    "start_time": "2021-08-09T20:58:06.613Z"
   },
   {
    "duration": 7,
    "start_time": "2021-08-09T20:58:06.626Z"
   },
   {
    "duration": 10,
    "start_time": "2021-08-09T20:58:06.634Z"
   },
   {
    "duration": 10,
    "start_time": "2021-08-09T20:58:06.645Z"
   },
   {
    "duration": 8,
    "start_time": "2021-08-09T20:58:06.656Z"
   },
   {
    "duration": 32,
    "start_time": "2021-08-09T20:58:06.665Z"
   },
   {
    "duration": 10,
    "start_time": "2021-08-09T20:58:06.699Z"
   },
   {
    "duration": 5,
    "start_time": "2021-08-09T20:58:06.711Z"
   },
   {
    "duration": 13,
    "start_time": "2021-08-09T20:58:06.718Z"
   },
   {
    "duration": 13,
    "start_time": "2021-08-09T20:58:06.732Z"
   },
   {
    "duration": 17,
    "start_time": "2021-08-09T20:58:06.746Z"
   },
   {
    "duration": 12,
    "start_time": "2021-08-09T21:09:24.581Z"
   },
   {
    "duration": 7,
    "start_time": "2021-08-09T21:10:27.350Z"
   },
   {
    "duration": 5,
    "start_time": "2021-08-09T21:11:00.822Z"
   },
   {
    "duration": 5,
    "start_time": "2021-08-09T21:11:08.186Z"
   },
   {
    "duration": 7,
    "start_time": "2021-08-09T21:11:14.536Z"
   },
   {
    "duration": 7,
    "start_time": "2021-08-09T21:11:33.890Z"
   },
   {
    "duration": 12,
    "start_time": "2021-08-09T21:11:39.087Z"
   },
   {
    "duration": 12,
    "start_time": "2021-08-09T21:12:07.942Z"
   },
   {
    "duration": 7,
    "start_time": "2021-08-09T21:13:03.222Z"
   },
   {
    "duration": 313,
    "start_time": "2021-08-09T21:13:37.746Z"
   },
   {
    "duration": 245,
    "start_time": "2021-08-09T21:15:45.724Z"
   },
   {
    "duration": 8,
    "start_time": "2021-08-09T21:15:55.429Z"
   },
   {
    "duration": 9,
    "start_time": "2021-08-09T21:17:41.164Z"
   },
   {
    "duration": 264,
    "start_time": "2021-08-09T21:18:02.766Z"
   },
   {
    "duration": 5,
    "start_time": "2021-08-09T21:22:35.348Z"
   },
   {
    "duration": 7,
    "start_time": "2021-08-09T21:22:49.246Z"
   },
   {
    "duration": 229,
    "start_time": "2021-08-09T21:26:16.212Z"
   },
   {
    "duration": 6,
    "start_time": "2021-08-09T21:26:21.696Z"
   },
   {
    "duration": 230,
    "start_time": "2021-08-09T21:26:25.392Z"
   },
   {
    "duration": 233,
    "start_time": "2021-08-09T21:26:57.996Z"
   },
   {
    "duration": 221,
    "start_time": "2021-08-09T21:27:19.217Z"
   },
   {
    "duration": 222,
    "start_time": "2021-08-09T21:28:09.466Z"
   },
   {
    "duration": 231,
    "start_time": "2021-08-09T21:29:33.657Z"
   },
   {
    "duration": 17,
    "start_time": "2021-08-09T21:29:55.812Z"
   },
   {
    "duration": 12,
    "start_time": "2021-08-09T21:30:39.838Z"
   },
   {
    "duration": 270,
    "start_time": "2021-08-09T21:30:57.649Z"
   },
   {
    "duration": 11,
    "start_time": "2021-08-09T21:31:14.126Z"
   },
   {
    "duration": 225,
    "start_time": "2021-08-09T21:32:07.904Z"
   },
   {
    "duration": 77,
    "start_time": "2021-08-09T21:33:05.103Z"
   },
   {
    "duration": 11,
    "start_time": "2021-08-09T21:33:10.912Z"
   },
   {
    "duration": 1313,
    "start_time": "2021-08-10T09:23:57.357Z"
   },
   {
    "duration": 1832,
    "start_time": "2021-08-10T09:24:11.853Z"
   },
   {
    "duration": 31,
    "start_time": "2021-08-10T09:24:13.689Z"
   },
   {
    "duration": 12,
    "start_time": "2021-08-10T09:24:13.723Z"
   },
   {
    "duration": 34,
    "start_time": "2021-08-10T09:24:13.738Z"
   },
   {
    "duration": 28,
    "start_time": "2021-08-10T09:24:13.774Z"
   },
   {
    "duration": 28,
    "start_time": "2021-08-10T09:24:13.804Z"
   },
   {
    "duration": 14,
    "start_time": "2021-08-10T09:24:13.835Z"
   },
   {
    "duration": 33,
    "start_time": "2021-08-10T09:24:13.853Z"
   },
   {
    "duration": 14,
    "start_time": "2021-08-10T09:24:13.889Z"
   },
   {
    "duration": 25,
    "start_time": "2021-08-10T09:24:13.906Z"
   },
   {
    "duration": 41,
    "start_time": "2021-08-10T09:24:13.934Z"
   },
   {
    "duration": 439,
    "start_time": "2021-08-10T09:24:13.977Z"
   },
   {
    "duration": 41,
    "start_time": "2021-08-10T09:24:14.419Z"
   },
   {
    "duration": 8,
    "start_time": "2021-08-10T09:24:14.462Z"
   },
   {
    "duration": 13,
    "start_time": "2021-08-10T09:24:14.472Z"
   },
   {
    "duration": 9,
    "start_time": "2021-08-10T09:24:14.488Z"
   },
   {
    "duration": 408,
    "start_time": "2021-08-10T09:24:14.500Z"
   },
   {
    "duration": 146,
    "start_time": "2021-08-10T09:24:14.766Z"
   },
   {
    "duration": 136,
    "start_time": "2021-08-10T09:24:14.778Z"
   },
   {
    "duration": 121,
    "start_time": "2021-08-10T09:24:14.794Z"
   },
   {
    "duration": 110,
    "start_time": "2021-08-10T09:24:14.807Z"
   },
   {
    "duration": 100,
    "start_time": "2021-08-10T09:24:14.819Z"
   },
   {
    "duration": 85,
    "start_time": "2021-08-10T09:24:14.835Z"
   },
   {
    "duration": 77,
    "start_time": "2021-08-10T09:24:14.844Z"
   },
   {
    "duration": 61,
    "start_time": "2021-08-10T09:24:14.862Z"
   },
   {
    "duration": 47,
    "start_time": "2021-08-10T09:24:14.877Z"
   },
   {
    "duration": 33,
    "start_time": "2021-08-10T09:24:14.892Z"
   },
   {
    "duration": 20,
    "start_time": "2021-08-10T09:24:14.907Z"
   },
   {
    "duration": 5,
    "start_time": "2021-08-10T09:24:14.924Z"
   },
   {
    "duration": -89,
    "start_time": "2021-08-10T09:24:15.021Z"
   },
   {
    "duration": -100,
    "start_time": "2021-08-10T09:24:15.034Z"
   },
   {
    "duration": -108,
    "start_time": "2021-08-10T09:24:15.044Z"
   },
   {
    "duration": -122,
    "start_time": "2021-08-10T09:24:15.060Z"
   },
   {
    "duration": -131,
    "start_time": "2021-08-10T09:24:15.071Z"
   },
   {
    "duration": -142,
    "start_time": "2021-08-10T09:24:15.085Z"
   },
   {
    "duration": -155,
    "start_time": "2021-08-10T09:24:15.100Z"
   },
   {
    "duration": -163,
    "start_time": "2021-08-10T09:24:15.110Z"
   },
   {
    "duration": -176,
    "start_time": "2021-08-10T09:24:15.125Z"
   },
   {
    "duration": -188,
    "start_time": "2021-08-10T09:24:15.138Z"
   },
   {
    "duration": -200,
    "start_time": "2021-08-10T09:24:15.151Z"
   },
   {
    "duration": -209,
    "start_time": "2021-08-10T09:24:15.161Z"
   },
   {
    "duration": -213,
    "start_time": "2021-08-10T09:24:15.175Z"
   },
   {
    "duration": -224,
    "start_time": "2021-08-10T09:24:15.188Z"
   },
   {
    "duration": -238,
    "start_time": "2021-08-10T09:24:15.204Z"
   },
   {
    "duration": -248,
    "start_time": "2021-08-10T09:24:15.217Z"
   },
   {
    "duration": -257,
    "start_time": "2021-08-10T09:24:15.227Z"
   },
   {
    "duration": -268,
    "start_time": "2021-08-10T09:24:15.241Z"
   },
   {
    "duration": -281,
    "start_time": "2021-08-10T09:24:15.256Z"
   },
   {
    "duration": -291,
    "start_time": "2021-08-10T09:24:15.268Z"
   },
   {
    "duration": -304,
    "start_time": "2021-08-10T09:24:15.283Z"
   },
   {
    "duration": -312,
    "start_time": "2021-08-10T09:24:15.293Z"
   },
   {
    "duration": -327,
    "start_time": "2021-08-10T09:24:15.310Z"
   },
   {
    "duration": -336,
    "start_time": "2021-08-10T09:24:15.323Z"
   },
   {
    "duration": -346,
    "start_time": "2021-08-10T09:24:15.335Z"
   },
   {
    "duration": -359,
    "start_time": "2021-08-10T09:24:15.350Z"
   },
   {
    "duration": -372,
    "start_time": "2021-08-10T09:24:15.365Z"
   },
   {
    "duration": -381,
    "start_time": "2021-08-10T09:24:15.376Z"
   },
   {
    "duration": 18,
    "start_time": "2021-08-10T09:28:40.538Z"
   },
   {
    "duration": 22,
    "start_time": "2021-08-10T09:30:02.808Z"
   },
   {
    "duration": 14,
    "start_time": "2021-08-10T09:30:15.209Z"
   },
   {
    "duration": 10,
    "start_time": "2021-08-10T09:31:08.143Z"
   },
   {
    "duration": 15,
    "start_time": "2021-08-10T09:31:28.760Z"
   },
   {
    "duration": 20,
    "start_time": "2021-08-10T09:41:59.486Z"
   },
   {
    "duration": 19,
    "start_time": "2021-08-10T09:42:06.594Z"
   },
   {
    "duration": 378,
    "start_time": "2021-08-10T09:43:33.451Z"
   },
   {
    "duration": 8,
    "start_time": "2021-08-10T09:43:41.164Z"
   },
   {
    "duration": 289,
    "start_time": "2021-08-10T09:45:26.895Z"
   },
   {
    "duration": 9,
    "start_time": "2021-08-10T09:45:33.372Z"
   },
   {
    "duration": 9,
    "start_time": "2021-08-10T09:46:22.485Z"
   },
   {
    "duration": 256,
    "start_time": "2021-08-10T09:50:33.094Z"
   },
   {
    "duration": 216,
    "start_time": "2021-08-10T09:50:39.637Z"
   },
   {
    "duration": 8,
    "start_time": "2021-08-10T09:51:12.857Z"
   },
   {
    "duration": 9,
    "start_time": "2021-08-10T09:55:52.223Z"
   },
   {
    "duration": 289,
    "start_time": "2021-08-10T10:01:05.000Z"
   },
   {
    "duration": 236,
    "start_time": "2021-08-10T10:03:49.425Z"
   },
   {
    "duration": 87,
    "start_time": "2021-08-10T10:04:53.891Z"
   },
   {
    "duration": 16,
    "start_time": "2021-08-10T10:05:14.877Z"
   },
   {
    "duration": 15,
    "start_time": "2021-08-10T10:06:41.049Z"
   },
   {
    "duration": 13,
    "start_time": "2021-08-10T10:47:25.904Z"
   },
   {
    "duration": 126,
    "start_time": "2021-08-10T10:48:54.788Z"
   },
   {
    "duration": 94,
    "start_time": "2021-08-10T10:50:22.573Z"
   },
   {
    "duration": 8,
    "start_time": "2021-08-10T10:50:28.133Z"
   },
   {
    "duration": 1603,
    "start_time": "2021-08-10T10:50:43.839Z"
   },
   {
    "duration": 28,
    "start_time": "2021-08-10T10:50:45.445Z"
   },
   {
    "duration": 11,
    "start_time": "2021-08-10T10:50:45.476Z"
   },
   {
    "duration": 19,
    "start_time": "2021-08-10T10:50:45.490Z"
   },
   {
    "duration": 15,
    "start_time": "2021-08-10T10:50:45.511Z"
   },
   {
    "duration": 37,
    "start_time": "2021-08-10T10:50:45.530Z"
   },
   {
    "duration": 10,
    "start_time": "2021-08-10T10:50:45.570Z"
   },
   {
    "duration": 16,
    "start_time": "2021-08-10T10:50:45.585Z"
   },
   {
    "duration": 18,
    "start_time": "2021-08-10T10:50:45.605Z"
   },
   {
    "duration": 59,
    "start_time": "2021-08-10T10:50:45.626Z"
   },
   {
    "duration": 18,
    "start_time": "2021-08-10T10:50:45.687Z"
   },
   {
    "duration": 586,
    "start_time": "2021-08-10T10:50:45.708Z"
   },
   {
    "duration": 41,
    "start_time": "2021-08-10T10:50:46.296Z"
   },
   {
    "duration": 8,
    "start_time": "2021-08-10T10:50:46.340Z"
   },
   {
    "duration": 15,
    "start_time": "2021-08-10T10:50:46.350Z"
   },
   {
    "duration": 19,
    "start_time": "2021-08-10T10:50:46.367Z"
   },
   {
    "duration": 14,
    "start_time": "2021-08-10T10:50:46.389Z"
   },
   {
    "duration": 7,
    "start_time": "2021-08-10T10:50:46.406Z"
   },
   {
    "duration": 27,
    "start_time": "2021-08-10T10:50:46.415Z"
   },
   {
    "duration": 26,
    "start_time": "2021-08-10T10:50:46.444Z"
   },
   {
    "duration": 7,
    "start_time": "2021-08-10T10:50:46.473Z"
   },
   {
    "duration": 12,
    "start_time": "2021-08-10T10:50:46.482Z"
   },
   {
    "duration": 8,
    "start_time": "2021-08-10T10:50:46.499Z"
   },
   {
    "duration": 415,
    "start_time": "2021-08-10T10:50:46.509Z"
   },
   {
    "duration": 296,
    "start_time": "2021-08-10T10:50:46.927Z"
   },
   {
    "duration": 37,
    "start_time": "2021-08-10T10:50:47.225Z"
   },
   {
    "duration": 11,
    "start_time": "2021-08-10T10:50:47.264Z"
   },
   {
    "duration": 452,
    "start_time": "2021-08-10T10:50:47.277Z"
   },
   {
    "duration": 348,
    "start_time": "2021-08-10T10:50:47.732Z"
   },
   {
    "duration": 22,
    "start_time": "2021-08-10T10:50:48.082Z"
   },
   {
    "duration": 447,
    "start_time": "2021-08-10T10:50:48.107Z"
   },
   {
    "duration": 9,
    "start_time": "2021-08-10T10:50:48.557Z"
   },
   {
    "duration": 338,
    "start_time": "2021-08-10T10:50:48.568Z"
   },
   {
    "duration": 7,
    "start_time": "2021-08-10T10:50:48.908Z"
   },
   {
    "duration": 456,
    "start_time": "2021-08-10T10:50:48.917Z"
   },
   {
    "duration": 11,
    "start_time": "2021-08-10T10:50:49.376Z"
   },
   {
    "duration": 18,
    "start_time": "2021-08-10T10:50:49.391Z"
   },
   {
    "duration": 458,
    "start_time": "2021-08-10T10:50:49.412Z"
   },
   {
    "duration": 8,
    "start_time": "2021-08-10T10:50:49.873Z"
   },
   {
    "duration": 394,
    "start_time": "2021-08-10T10:50:49.884Z"
   },
   {
    "duration": 9,
    "start_time": "2021-08-10T10:50:50.281Z"
   },
   {
    "duration": 20,
    "start_time": "2021-08-10T10:50:50.293Z"
   },
   {
    "duration": 64,
    "start_time": "2021-08-10T10:50:50.316Z"
   },
   {
    "duration": 10,
    "start_time": "2021-08-10T10:50:50.382Z"
   },
   {
    "duration": 30,
    "start_time": "2021-08-10T10:50:50.394Z"
   },
   {
    "duration": 41,
    "start_time": "2021-08-10T10:50:50.426Z"
   },
   {
    "duration": 21,
    "start_time": "2021-08-10T10:50:50.469Z"
   },
   {
    "duration": 18,
    "start_time": "2021-08-10T10:50:50.493Z"
   },
   {
    "duration": 14,
    "start_time": "2021-08-10T10:50:50.514Z"
   },
   {
    "duration": 37,
    "start_time": "2021-08-10T10:50:50.530Z"
   },
   {
    "duration": 8,
    "start_time": "2021-08-10T10:50:50.570Z"
   },
   {
    "duration": 16,
    "start_time": "2021-08-10T10:50:50.580Z"
   },
   {
    "duration": 19,
    "start_time": "2021-08-10T10:50:50.598Z"
   },
   {
    "duration": 3,
    "start_time": "2021-08-10T10:50:50.620Z"
   },
   {
    "duration": 46,
    "start_time": "2021-08-10T10:50:50.625Z"
   },
   {
    "duration": 17,
    "start_time": "2021-08-10T10:50:50.673Z"
   },
   {
    "duration": 30,
    "start_time": "2021-08-10T10:50:50.693Z"
   },
   {
    "duration": 826,
    "start_time": "2021-08-10T10:55:22.210Z"
   },
   {
    "duration": 498,
    "start_time": "2021-08-10T10:55:32.686Z"
   },
   {
    "duration": 544,
    "start_time": "2021-08-10T10:56:06.663Z"
   },
   {
    "duration": 562,
    "start_time": "2021-08-10T10:58:50.959Z"
   },
   {
    "duration": 1523,
    "start_time": "2021-08-10T11:01:10.203Z"
   },
   {
    "duration": 33,
    "start_time": "2021-08-10T11:01:11.728Z"
   },
   {
    "duration": 9,
    "start_time": "2021-08-10T11:01:11.764Z"
   },
   {
    "duration": 19,
    "start_time": "2021-08-10T11:01:11.776Z"
   },
   {
    "duration": 59,
    "start_time": "2021-08-10T11:01:11.797Z"
   },
   {
    "duration": 30,
    "start_time": "2021-08-10T11:01:11.858Z"
   },
   {
    "duration": 18,
    "start_time": "2021-08-10T11:01:11.891Z"
   },
   {
    "duration": 26,
    "start_time": "2021-08-10T11:01:11.913Z"
   },
   {
    "duration": 17,
    "start_time": "2021-08-10T11:01:11.942Z"
   },
   {
    "duration": 36,
    "start_time": "2021-08-10T11:01:11.964Z"
   },
   {
    "duration": 38,
    "start_time": "2021-08-10T11:01:12.003Z"
   },
   {
    "duration": 445,
    "start_time": "2021-08-10T11:01:12.044Z"
   },
   {
    "duration": 42,
    "start_time": "2021-08-10T11:01:12.492Z"
   },
   {
    "duration": 9,
    "start_time": "2021-08-10T11:01:12.537Z"
   },
   {
    "duration": 24,
    "start_time": "2021-08-10T11:01:12.548Z"
   },
   {
    "duration": 17,
    "start_time": "2021-08-10T11:01:12.574Z"
   },
   {
    "duration": 27,
    "start_time": "2021-08-10T11:01:12.594Z"
   },
   {
    "duration": 8,
    "start_time": "2021-08-10T11:01:12.623Z"
   },
   {
    "duration": 30,
    "start_time": "2021-08-10T11:01:12.634Z"
   },
   {
    "duration": 11,
    "start_time": "2021-08-10T11:01:12.666Z"
   },
   {
    "duration": 9,
    "start_time": "2021-08-10T11:01:12.680Z"
   },
   {
    "duration": 16,
    "start_time": "2021-08-10T11:01:12.692Z"
   },
   {
    "duration": 11,
    "start_time": "2021-08-10T11:01:12.717Z"
   },
   {
    "duration": 342,
    "start_time": "2021-08-10T11:01:12.765Z"
   },
   {
    "duration": 291,
    "start_time": "2021-08-10T11:01:13.109Z"
   },
   {
    "duration": 19,
    "start_time": "2021-08-10T11:01:13.403Z"
   },
   {
    "duration": 37,
    "start_time": "2021-08-10T11:01:13.425Z"
   },
   {
    "duration": 370,
    "start_time": "2021-08-10T11:01:13.465Z"
   },
   {
    "duration": 352,
    "start_time": "2021-08-10T11:01:13.837Z"
   },
   {
    "duration": 21,
    "start_time": "2021-08-10T11:01:14.192Z"
   },
   {
    "duration": 491,
    "start_time": "2021-08-10T11:01:14.216Z"
   },
   {
    "duration": 10,
    "start_time": "2021-08-10T11:01:14.709Z"
   },
   {
    "duration": 369,
    "start_time": "2021-08-10T11:01:14.721Z"
   },
   {
    "duration": 8,
    "start_time": "2021-08-10T11:01:15.093Z"
   },
   {
    "duration": 545,
    "start_time": "2021-08-10T11:01:15.113Z"
   },
   {
    "duration": 12,
    "start_time": "2021-08-10T11:01:15.663Z"
   },
   {
    "duration": 29,
    "start_time": "2021-08-10T11:01:15.678Z"
   },
   {
    "duration": 479,
    "start_time": "2021-08-10T11:01:15.710Z"
   },
   {
    "duration": 9,
    "start_time": "2021-08-10T11:01:16.192Z"
   },
   {
    "duration": 421,
    "start_time": "2021-08-10T11:01:16.204Z"
   },
   {
    "duration": 7,
    "start_time": "2021-08-10T11:01:16.627Z"
   },
   {
    "duration": 33,
    "start_time": "2021-08-10T11:01:16.637Z"
   },
   {
    "duration": 51,
    "start_time": "2021-08-10T11:01:16.673Z"
   },
   {
    "duration": 10,
    "start_time": "2021-08-10T11:01:16.727Z"
   },
   {
    "duration": 37,
    "start_time": "2021-08-10T11:01:16.740Z"
   },
   {
    "duration": 23,
    "start_time": "2021-08-10T11:01:16.780Z"
   },
   {
    "duration": 34,
    "start_time": "2021-08-10T11:01:16.805Z"
   },
   {
    "duration": 37,
    "start_time": "2021-08-10T11:01:16.842Z"
   },
   {
    "duration": 31,
    "start_time": "2021-08-10T11:01:16.881Z"
   },
   {
    "duration": 23,
    "start_time": "2021-08-10T11:01:16.914Z"
   },
   {
    "duration": 18,
    "start_time": "2021-08-10T11:01:16.939Z"
   },
   {
    "duration": 31,
    "start_time": "2021-08-10T11:01:16.959Z"
   },
   {
    "duration": 18,
    "start_time": "2021-08-10T11:01:16.992Z"
   },
   {
    "duration": 28,
    "start_time": "2021-08-10T11:01:17.013Z"
   },
   {
    "duration": 22,
    "start_time": "2021-08-10T11:01:17.043Z"
   },
   {
    "duration": 29,
    "start_time": "2021-08-10T11:01:17.067Z"
   },
   {
    "duration": 27,
    "start_time": "2021-08-10T11:01:17.099Z"
   },
   {
    "duration": 1765,
    "start_time": "2021-08-10T11:06:35.525Z"
   },
   {
    "duration": 38,
    "start_time": "2021-08-10T11:06:37.294Z"
   },
   {
    "duration": 12,
    "start_time": "2021-08-10T11:06:37.336Z"
   },
   {
    "duration": 11,
    "start_time": "2021-08-10T11:06:37.366Z"
   },
   {
    "duration": 12,
    "start_time": "2021-08-10T11:06:37.379Z"
   },
   {
    "duration": 13,
    "start_time": "2021-08-10T11:06:37.393Z"
   },
   {
    "duration": 6,
    "start_time": "2021-08-10T11:06:37.408Z"
   },
   {
    "duration": 57,
    "start_time": "2021-08-10T11:06:37.417Z"
   },
   {
    "duration": 14,
    "start_time": "2021-08-10T11:06:37.477Z"
   },
   {
    "duration": 24,
    "start_time": "2021-08-10T11:06:37.493Z"
   },
   {
    "duration": 59,
    "start_time": "2021-08-10T11:06:37.519Z"
   },
   {
    "duration": 595,
    "start_time": "2021-08-10T11:06:37.581Z"
   },
   {
    "duration": 45,
    "start_time": "2021-08-10T11:06:38.179Z"
   },
   {
    "duration": 9,
    "start_time": "2021-08-10T11:06:38.226Z"
   },
   {
    "duration": 24,
    "start_time": "2021-08-10T11:06:38.238Z"
   },
   {
    "duration": 31,
    "start_time": "2021-08-10T11:06:38.265Z"
   },
   {
    "duration": 15,
    "start_time": "2021-08-10T11:06:38.299Z"
   },
   {
    "duration": 8,
    "start_time": "2021-08-10T11:06:38.316Z"
   },
   {
    "duration": 38,
    "start_time": "2021-08-10T11:06:38.326Z"
   },
   {
    "duration": 15,
    "start_time": "2021-08-10T11:06:38.368Z"
   },
   {
    "duration": 19,
    "start_time": "2021-08-10T11:06:38.386Z"
   },
   {
    "duration": 19,
    "start_time": "2021-08-10T11:06:38.407Z"
   },
   {
    "duration": 9,
    "start_time": "2021-08-10T11:06:38.432Z"
   },
   {
    "duration": 347,
    "start_time": "2021-08-10T11:06:38.444Z"
   },
   {
    "duration": 420,
    "start_time": "2021-08-10T11:06:38.793Z"
   },
   {
    "duration": 46,
    "start_time": "2021-08-10T11:06:39.216Z"
   },
   {
    "duration": 15,
    "start_time": "2021-08-10T11:06:39.265Z"
   },
   {
    "duration": 543,
    "start_time": "2021-08-10T11:06:39.283Z"
   },
   {
    "duration": 533,
    "start_time": "2021-08-10T11:06:39.829Z"
   },
   {
    "duration": 42,
    "start_time": "2021-08-10T11:06:40.366Z"
   },
   {
    "duration": 495,
    "start_time": "2021-08-10T11:06:40.410Z"
   },
   {
    "duration": 10,
    "start_time": "2021-08-10T11:06:40.909Z"
   },
   {
    "duration": 526,
    "start_time": "2021-08-10T11:06:40.922Z"
   },
   {
    "duration": 18,
    "start_time": "2021-08-10T11:06:41.451Z"
   },
   {
    "duration": 662,
    "start_time": "2021-08-10T11:06:41.472Z"
   },
   {
    "duration": 30,
    "start_time": "2021-08-10T11:06:42.137Z"
   },
   {
    "duration": 35,
    "start_time": "2021-08-10T11:06:42.170Z"
   },
   {
    "duration": 476,
    "start_time": "2021-08-10T11:06:42.208Z"
   },
   {
    "duration": 8,
    "start_time": "2021-08-10T11:06:42.687Z"
   },
   {
    "duration": 385,
    "start_time": "2021-08-10T11:06:42.699Z"
   },
   {
    "duration": 7,
    "start_time": "2021-08-10T11:06:43.086Z"
   },
   {
    "duration": 14,
    "start_time": "2021-08-10T11:06:43.096Z"
   },
   {
    "duration": 64,
    "start_time": "2021-08-10T11:06:43.112Z"
   },
   {
    "duration": 11,
    "start_time": "2021-08-10T11:06:43.179Z"
   },
   {
    "duration": 28,
    "start_time": "2021-08-10T11:06:43.194Z"
   },
   {
    "duration": 47,
    "start_time": "2021-08-10T11:06:43.225Z"
   },
   {
    "duration": 21,
    "start_time": "2021-08-10T11:06:43.275Z"
   },
   {
    "duration": 11,
    "start_time": "2021-08-10T11:06:43.298Z"
   },
   {
    "duration": 13,
    "start_time": "2021-08-10T11:06:43.311Z"
   },
   {
    "duration": 41,
    "start_time": "2021-08-10T11:06:43.327Z"
   },
   {
    "duration": 8,
    "start_time": "2021-08-10T11:06:43.370Z"
   },
   {
    "duration": 17,
    "start_time": "2021-08-10T11:06:43.380Z"
   },
   {
    "duration": 18,
    "start_time": "2021-08-10T11:06:43.400Z"
   },
   {
    "duration": 3,
    "start_time": "2021-08-10T11:06:43.420Z"
   },
   {
    "duration": 45,
    "start_time": "2021-08-10T11:06:43.426Z"
   },
   {
    "duration": 16,
    "start_time": "2021-08-10T11:06:43.473Z"
   },
   {
    "duration": 25,
    "start_time": "2021-08-10T11:06:43.491Z"
   },
   {
    "duration": 35,
    "start_time": "2021-08-10T11:09:21.282Z"
   },
   {
    "duration": 12,
    "start_time": "2021-08-10T11:09:44.400Z"
   },
   {
    "duration": 27,
    "start_time": "2021-08-10T11:10:01.618Z"
   },
   {
    "duration": 13,
    "start_time": "2021-08-10T11:10:10.438Z"
   },
   {
    "duration": 1487,
    "start_time": "2021-08-10T11:14:22.059Z"
   },
   {
    "duration": 30,
    "start_time": "2021-08-10T11:14:23.549Z"
   },
   {
    "duration": 12,
    "start_time": "2021-08-10T11:14:23.582Z"
   },
   {
    "duration": 9,
    "start_time": "2021-08-10T11:14:23.597Z"
   },
   {
    "duration": 54,
    "start_time": "2021-08-10T11:14:23.609Z"
   },
   {
    "duration": 21,
    "start_time": "2021-08-10T11:14:23.666Z"
   },
   {
    "duration": 6,
    "start_time": "2021-08-10T11:14:23.689Z"
   },
   {
    "duration": 22,
    "start_time": "2021-08-10T11:14:23.700Z"
   },
   {
    "duration": 47,
    "start_time": "2021-08-10T11:14:23.725Z"
   },
   {
    "duration": 30,
    "start_time": "2021-08-10T11:14:23.775Z"
   },
   {
    "duration": 56,
    "start_time": "2021-08-10T11:14:23.807Z"
   },
   {
    "duration": 496,
    "start_time": "2021-08-10T11:14:23.866Z"
   },
   {
    "duration": 48,
    "start_time": "2021-08-10T11:14:24.366Z"
   },
   {
    "duration": 12,
    "start_time": "2021-08-10T11:14:24.418Z"
   },
   {
    "duration": 9,
    "start_time": "2021-08-10T11:14:24.433Z"
   },
   {
    "duration": 11,
    "start_time": "2021-08-10T11:14:24.462Z"
   },
   {
    "duration": 20,
    "start_time": "2021-08-10T11:14:24.476Z"
   },
   {
    "duration": 8,
    "start_time": "2021-08-10T11:14:24.498Z"
   },
   {
    "duration": 61,
    "start_time": "2021-08-10T11:14:24.508Z"
   },
   {
    "duration": 24,
    "start_time": "2021-08-10T11:14:24.572Z"
   },
   {
    "duration": 9,
    "start_time": "2021-08-10T11:14:24.598Z"
   },
   {
    "duration": 11,
    "start_time": "2021-08-10T11:14:24.610Z"
   },
   {
    "duration": 35,
    "start_time": "2021-08-10T11:14:24.629Z"
   },
   {
    "duration": 333,
    "start_time": "2021-08-10T11:14:24.668Z"
   },
   {
    "duration": 291,
    "start_time": "2021-08-10T11:14:25.003Z"
   },
   {
    "duration": 21,
    "start_time": "2021-08-10T11:14:25.297Z"
   },
   {
    "duration": 40,
    "start_time": "2021-08-10T11:14:25.321Z"
   },
   {
    "duration": 359,
    "start_time": "2021-08-10T11:14:25.364Z"
   },
   {
    "duration": 565,
    "start_time": "2021-08-10T11:14:25.726Z"
   },
   {
    "duration": 35,
    "start_time": "2021-08-10T11:14:26.295Z"
   },
   {
    "duration": 643,
    "start_time": "2021-08-10T11:14:26.333Z"
   },
   {
    "duration": 11,
    "start_time": "2021-08-10T11:14:26.979Z"
   },
   {
    "duration": 534,
    "start_time": "2021-08-10T11:14:26.994Z"
   },
   {
    "duration": 10,
    "start_time": "2021-08-10T11:14:27.531Z"
   },
   {
    "duration": 530,
    "start_time": "2021-08-10T11:14:27.561Z"
   },
   {
    "duration": 15,
    "start_time": "2021-08-10T11:14:28.094Z"
   },
   {
    "duration": 52,
    "start_time": "2021-08-10T11:14:28.112Z"
   },
   {
    "duration": 538,
    "start_time": "2021-08-10T11:14:28.167Z"
   },
   {
    "duration": 8,
    "start_time": "2021-08-10T11:14:28.708Z"
   },
   {
    "duration": 558,
    "start_time": "2021-08-10T11:14:28.719Z"
   },
   {
    "duration": 9,
    "start_time": "2021-08-10T11:14:29.280Z"
   },
   {
    "duration": 12,
    "start_time": "2021-08-10T11:14:29.293Z"
   },
   {
    "duration": 79,
    "start_time": "2021-08-10T11:14:29.309Z"
   },
   {
    "duration": 10,
    "start_time": "2021-08-10T11:14:29.391Z"
   },
   {
    "duration": 65,
    "start_time": "2021-08-10T11:14:29.404Z"
   },
   {
    "duration": 29,
    "start_time": "2021-08-10T11:14:29.472Z"
   },
   {
    "duration": 33,
    "start_time": "2021-08-10T11:14:29.505Z"
   },
   {
    "duration": 18,
    "start_time": "2021-08-10T11:14:29.561Z"
   },
   {
    "duration": 16,
    "start_time": "2021-08-10T11:14:29.582Z"
   },
   {
    "duration": 15,
    "start_time": "2021-08-10T11:14:29.601Z"
   },
   {
    "duration": 42,
    "start_time": "2021-08-10T11:14:29.619Z"
   },
   {
    "duration": 12,
    "start_time": "2021-08-10T11:14:29.663Z"
   },
   {
    "duration": 23,
    "start_time": "2021-08-10T11:14:29.677Z"
   },
   {
    "duration": 3,
    "start_time": "2021-08-10T11:14:29.703Z"
   },
   {
    "duration": 53,
    "start_time": "2021-08-10T11:14:29.709Z"
   },
   {
    "duration": 10,
    "start_time": "2021-08-10T11:14:29.764Z"
   },
   {
    "duration": 26,
    "start_time": "2021-08-10T11:14:29.777Z"
   },
   {
    "duration": 435,
    "start_time": "2021-08-10T11:19:04.350Z"
   },
   {
    "duration": 303,
    "start_time": "2021-08-10T11:20:26.760Z"
   },
   {
    "duration": 297,
    "start_time": "2021-08-10T11:22:06.519Z"
   },
   {
    "duration": 24,
    "start_time": "2021-08-10T11:22:26.441Z"
   },
   {
    "duration": 24,
    "start_time": "2021-08-10T11:22:44.575Z"
   },
   {
    "duration": 1514,
    "start_time": "2021-08-10T11:23:24.859Z"
   },
   {
    "duration": 32,
    "start_time": "2021-08-10T11:23:26.376Z"
   },
   {
    "duration": 13,
    "start_time": "2021-08-10T11:23:26.412Z"
   },
   {
    "duration": 34,
    "start_time": "2021-08-10T11:23:26.428Z"
   },
   {
    "duration": 17,
    "start_time": "2021-08-10T11:23:26.465Z"
   },
   {
    "duration": 18,
    "start_time": "2021-08-10T11:23:26.485Z"
   },
   {
    "duration": 11,
    "start_time": "2021-08-10T11:23:26.506Z"
   },
   {
    "duration": 50,
    "start_time": "2021-08-10T11:23:26.521Z"
   },
   {
    "duration": 15,
    "start_time": "2021-08-10T11:23:26.574Z"
   },
   {
    "duration": 32,
    "start_time": "2021-08-10T11:23:26.592Z"
   },
   {
    "duration": 52,
    "start_time": "2021-08-10T11:23:26.627Z"
   },
   {
    "duration": 439,
    "start_time": "2021-08-10T11:23:26.682Z"
   },
   {
    "duration": 20,
    "start_time": "2021-08-10T11:23:27.125Z"
   },
   {
    "duration": 21,
    "start_time": "2021-08-10T11:23:27.147Z"
   },
   {
    "duration": 19,
    "start_time": "2021-08-10T11:23:27.171Z"
   },
   {
    "duration": 15,
    "start_time": "2021-08-10T11:23:27.192Z"
   },
   {
    "duration": 39,
    "start_time": "2021-08-10T11:23:27.210Z"
   },
   {
    "duration": 12,
    "start_time": "2021-08-10T11:23:27.252Z"
   },
   {
    "duration": 34,
    "start_time": "2021-08-10T11:23:27.266Z"
   },
   {
    "duration": 25,
    "start_time": "2021-08-10T11:23:27.303Z"
   },
   {
    "duration": 26,
    "start_time": "2021-08-10T11:23:27.331Z"
   },
   {
    "duration": 23,
    "start_time": "2021-08-10T11:23:27.359Z"
   },
   {
    "duration": 36,
    "start_time": "2021-08-10T11:23:27.388Z"
   },
   {
    "duration": 544,
    "start_time": "2021-08-10T11:23:27.428Z"
   },
   {
    "duration": 420,
    "start_time": "2021-08-10T11:23:27.975Z"
   },
   {
    "duration": 20,
    "start_time": "2021-08-10T11:23:28.398Z"
   },
   {
    "duration": 36,
    "start_time": "2021-08-10T11:23:28.421Z"
   },
   {
    "duration": 501,
    "start_time": "2021-08-10T11:23:28.461Z"
   },
   {
    "duration": 499,
    "start_time": "2021-08-10T11:23:28.966Z"
   },
   {
    "duration": 22,
    "start_time": "2021-08-10T11:23:29.467Z"
   },
   {
    "duration": 423,
    "start_time": "2021-08-10T11:23:29.491Z"
   },
   {
    "duration": 8,
    "start_time": "2021-08-10T11:23:29.917Z"
   },
   {
    "duration": 548,
    "start_time": "2021-08-10T11:23:29.927Z"
   },
   {
    "duration": 7,
    "start_time": "2021-08-10T11:23:30.478Z"
   },
   {
    "duration": 536,
    "start_time": "2021-08-10T11:23:30.488Z"
   },
   {
    "duration": 12,
    "start_time": "2021-08-10T11:23:31.026Z"
   },
   {
    "duration": 32,
    "start_time": "2021-08-10T11:23:31.041Z"
   },
   {
    "duration": 531,
    "start_time": "2021-08-10T11:23:31.075Z"
   },
   {
    "duration": 6,
    "start_time": "2021-08-10T11:23:31.609Z"
   },
   {
    "duration": 470,
    "start_time": "2021-08-10T11:23:31.618Z"
   },
   {
    "duration": 7,
    "start_time": "2021-08-10T11:23:32.092Z"
   },
   {
    "duration": 18,
    "start_time": "2021-08-10T11:23:32.102Z"
   },
   {
    "duration": 80,
    "start_time": "2021-08-10T11:23:32.123Z"
   },
   {
    "duration": 10,
    "start_time": "2021-08-10T11:23:32.206Z"
   },
   {
    "duration": 63,
    "start_time": "2021-08-10T11:23:32.220Z"
   },
   {
    "duration": 40,
    "start_time": "2021-08-10T11:23:32.287Z"
   },
   {
    "duration": 39,
    "start_time": "2021-08-10T11:23:32.330Z"
   },
   {
    "duration": 18,
    "start_time": "2021-08-10T11:23:32.372Z"
   },
   {
    "duration": 16,
    "start_time": "2021-08-10T11:23:32.393Z"
   },
   {
    "duration": 14,
    "start_time": "2021-08-10T11:23:32.412Z"
   },
   {
    "duration": 44,
    "start_time": "2021-08-10T11:23:32.428Z"
   },
   {
    "duration": 25,
    "start_time": "2021-08-10T11:23:32.475Z"
   },
   {
    "duration": 32,
    "start_time": "2021-08-10T11:23:32.503Z"
   },
   {
    "duration": 25,
    "start_time": "2021-08-10T11:23:32.538Z"
   },
   {
    "duration": 20,
    "start_time": "2021-08-10T11:23:32.566Z"
   },
   {
    "duration": 11,
    "start_time": "2021-08-10T11:23:32.590Z"
   },
   {
    "duration": 59,
    "start_time": "2021-08-10T11:23:32.604Z"
   },
   {
    "duration": 88,
    "start_time": "2021-08-10T11:23:32.665Z"
   },
   {
    "duration": 1083,
    "start_time": "2021-08-10T21:45:45.160Z"
   },
   {
    "duration": 24,
    "start_time": "2021-08-10T21:45:46.245Z"
   },
   {
    "duration": 5,
    "start_time": "2021-08-10T21:45:46.271Z"
   },
   {
    "duration": 13,
    "start_time": "2021-08-10T21:45:46.278Z"
   },
   {
    "duration": 9,
    "start_time": "2021-08-10T21:45:46.292Z"
   },
   {
    "duration": 9,
    "start_time": "2021-08-10T21:45:46.302Z"
   },
   {
    "duration": 4,
    "start_time": "2021-08-10T21:45:46.312Z"
   },
   {
    "duration": 10,
    "start_time": "2021-08-10T21:45:46.318Z"
   },
   {
    "duration": 8,
    "start_time": "2021-08-10T21:45:46.341Z"
   },
   {
    "duration": 13,
    "start_time": "2021-08-10T21:45:46.351Z"
   },
   {
    "duration": 11,
    "start_time": "2021-08-10T21:45:46.366Z"
   },
   {
    "duration": 246,
    "start_time": "2021-08-10T21:45:46.378Z"
   },
   {
    "duration": 40,
    "start_time": "2021-08-10T21:45:46.625Z"
   },
   {
    "duration": 5,
    "start_time": "2021-08-10T21:45:46.667Z"
   },
   {
    "duration": 7,
    "start_time": "2021-08-10T21:45:46.673Z"
   },
   {
    "duration": 7,
    "start_time": "2021-08-10T21:45:46.681Z"
   },
   {
    "duration": 11,
    "start_time": "2021-08-10T21:45:46.690Z"
   },
   {
    "duration": 5,
    "start_time": "2021-08-10T21:45:46.702Z"
   },
   {
    "duration": 26,
    "start_time": "2021-08-10T21:45:46.709Z"
   },
   {
    "duration": 9,
    "start_time": "2021-08-10T21:45:46.737Z"
   },
   {
    "duration": 7,
    "start_time": "2021-08-10T21:45:46.748Z"
   },
   {
    "duration": 7,
    "start_time": "2021-08-10T21:45:46.757Z"
   },
   {
    "duration": 9,
    "start_time": "2021-08-10T21:45:46.767Z"
   },
   {
    "duration": 186,
    "start_time": "2021-08-10T21:45:46.778Z"
   },
   {
    "duration": 151,
    "start_time": "2021-08-10T21:45:46.965Z"
   },
   {
    "duration": 23,
    "start_time": "2021-08-10T21:45:47.118Z"
   },
   {
    "duration": 7,
    "start_time": "2021-08-10T21:45:47.142Z"
   },
   {
    "duration": 201,
    "start_time": "2021-08-10T21:45:47.150Z"
   },
   {
    "duration": 204,
    "start_time": "2021-08-10T21:45:47.353Z"
   },
   {
    "duration": 16,
    "start_time": "2021-08-10T21:45:47.559Z"
   },
   {
    "duration": 303,
    "start_time": "2021-08-10T21:45:47.576Z"
   },
   {
    "duration": 5,
    "start_time": "2021-08-10T21:45:47.881Z"
   },
   {
    "duration": 203,
    "start_time": "2021-08-10T21:45:47.888Z"
   },
   {
    "duration": 5,
    "start_time": "2021-08-10T21:45:48.093Z"
   },
   {
    "duration": 366,
    "start_time": "2021-08-10T21:45:48.099Z"
   },
   {
    "duration": 8,
    "start_time": "2021-08-10T21:45:48.467Z"
   },
   {
    "duration": 12,
    "start_time": "2021-08-10T21:45:48.476Z"
   },
   {
    "duration": 272,
    "start_time": "2021-08-10T21:45:48.489Z"
   },
   {
    "duration": 4,
    "start_time": "2021-08-10T21:45:48.763Z"
   },
   {
    "duration": 267,
    "start_time": "2021-08-10T21:45:48.769Z"
   },
   {
    "duration": 4,
    "start_time": "2021-08-10T21:45:49.041Z"
   },
   {
    "duration": 15,
    "start_time": "2021-08-10T21:45:49.047Z"
   },
   {
    "duration": 26,
    "start_time": "2021-08-10T21:45:49.064Z"
   },
   {
    "duration": 6,
    "start_time": "2021-08-10T21:45:49.091Z"
   },
   {
    "duration": 16,
    "start_time": "2021-08-10T21:45:49.099Z"
   },
   {
    "duration": 9,
    "start_time": "2021-08-10T21:45:49.141Z"
   },
   {
    "duration": 14,
    "start_time": "2021-08-10T21:45:49.152Z"
   },
   {
    "duration": 9,
    "start_time": "2021-08-10T21:45:49.168Z"
   },
   {
    "duration": 8,
    "start_time": "2021-08-10T21:45:49.179Z"
   },
   {
    "duration": 8,
    "start_time": "2021-08-10T21:45:49.188Z"
   },
   {
    "duration": 6,
    "start_time": "2021-08-10T21:45:49.197Z"
   },
   {
    "duration": 13,
    "start_time": "2021-08-10T21:45:49.205Z"
   },
   {
    "duration": 12,
    "start_time": "2021-08-10T21:45:49.241Z"
   },
   {
    "duration": 2,
    "start_time": "2021-08-10T21:45:49.255Z"
   },
   {
    "duration": 11,
    "start_time": "2021-08-10T21:45:49.258Z"
   },
   {
    "duration": 10,
    "start_time": "2021-08-10T21:45:49.270Z"
   },
   {
    "duration": 14,
    "start_time": "2021-08-10T21:45:49.282Z"
   },
   {
    "duration": 86,
    "start_time": "2021-08-10T21:45:49.297Z"
   },
   {
    "duration": 1552,
    "start_time": "2021-12-02T06:54:49.025Z"
   },
   {
    "duration": 30,
    "start_time": "2021-12-02T06:54:50.579Z"
   },
   {
    "duration": 10,
    "start_time": "2021-12-02T06:54:50.612Z"
   },
   {
    "duration": 8,
    "start_time": "2021-12-02T06:54:50.625Z"
   },
   {
    "duration": 40,
    "start_time": "2021-12-02T06:54:50.636Z"
   },
   {
    "duration": 13,
    "start_time": "2021-12-02T06:54:50.678Z"
   },
   {
    "duration": 11,
    "start_time": "2021-12-02T06:54:50.694Z"
   },
   {
    "duration": 17,
    "start_time": "2021-12-02T06:54:50.709Z"
   },
   {
    "duration": 39,
    "start_time": "2021-12-02T06:54:50.729Z"
   },
   {
    "duration": 24,
    "start_time": "2021-12-02T06:54:50.771Z"
   },
   {
    "duration": 20,
    "start_time": "2021-12-02T06:54:50.798Z"
   },
   {
    "duration": 449,
    "start_time": "2021-12-02T06:54:50.821Z"
   },
   {
    "duration": 61,
    "start_time": "2021-12-02T06:54:51.272Z"
   },
   {
    "duration": 9,
    "start_time": "2021-12-02T06:54:51.335Z"
   },
   {
    "duration": 9,
    "start_time": "2021-12-02T06:54:51.346Z"
   },
   {
    "duration": 13,
    "start_time": "2021-12-02T06:54:51.357Z"
   },
   {
    "duration": 17,
    "start_time": "2021-12-02T06:54:51.373Z"
   },
   {
    "duration": 9,
    "start_time": "2021-12-02T06:54:51.392Z"
   },
   {
    "duration": 28,
    "start_time": "2021-12-02T06:54:51.403Z"
   },
   {
    "duration": 15,
    "start_time": "2021-12-02T06:54:51.433Z"
   },
   {
    "duration": 20,
    "start_time": "2021-12-02T06:54:51.451Z"
   },
   {
    "duration": 11,
    "start_time": "2021-12-02T06:54:51.474Z"
   },
   {
    "duration": 11,
    "start_time": "2021-12-02T06:54:51.493Z"
   },
   {
    "duration": 352,
    "start_time": "2021-12-02T06:54:51.507Z"
   },
   {
    "duration": 283,
    "start_time": "2021-12-02T06:54:51.867Z"
   },
   {
    "duration": 30,
    "start_time": "2021-12-02T06:54:52.153Z"
   },
   {
    "duration": 12,
    "start_time": "2021-12-02T06:54:52.185Z"
   },
   {
    "duration": 370,
    "start_time": "2021-12-02T06:54:52.200Z"
   },
   {
    "duration": 380,
    "start_time": "2021-12-02T06:54:52.572Z"
   },
   {
    "duration": 31,
    "start_time": "2021-12-02T06:54:52.956Z"
   },
   {
    "duration": 427,
    "start_time": "2021-12-02T06:54:52.989Z"
   },
   {
    "duration": 7,
    "start_time": "2021-12-02T06:54:53.418Z"
   },
   {
    "duration": 363,
    "start_time": "2021-12-02T06:54:53.427Z"
   },
   {
    "duration": 7,
    "start_time": "2021-12-02T06:54:53.792Z"
   },
   {
    "duration": 497,
    "start_time": "2021-12-02T06:54:53.801Z"
   },
   {
    "duration": 12,
    "start_time": "2021-12-02T06:54:54.301Z"
   },
   {
    "duration": 17,
    "start_time": "2021-12-02T06:54:54.315Z"
   },
   {
    "duration": 434,
    "start_time": "2021-12-02T06:54:54.335Z"
   },
   {
    "duration": 7,
    "start_time": "2021-12-02T06:54:54.772Z"
   },
   {
    "duration": 409,
    "start_time": "2021-12-02T06:54:54.782Z"
   },
   {
    "duration": 7,
    "start_time": "2021-12-02T06:54:55.194Z"
   },
   {
    "duration": 11,
    "start_time": "2021-12-02T06:54:55.204Z"
   },
   {
    "duration": 70,
    "start_time": "2021-12-02T06:54:55.218Z"
   },
   {
    "duration": 9,
    "start_time": "2021-12-02T06:54:55.290Z"
   },
   {
    "duration": 25,
    "start_time": "2021-12-02T06:54:55.301Z"
   },
   {
    "duration": 48,
    "start_time": "2021-12-02T06:54:55.329Z"
   },
   {
    "duration": 23,
    "start_time": "2021-12-02T06:54:55.379Z"
   },
   {
    "duration": 18,
    "start_time": "2021-12-02T06:54:55.404Z"
   },
   {
    "duration": 12,
    "start_time": "2021-12-02T06:54:55.425Z"
   },
   {
    "duration": 39,
    "start_time": "2021-12-02T06:54:55.439Z"
   },
   {
    "duration": 9,
    "start_time": "2021-12-02T06:54:55.480Z"
   },
   {
    "duration": 19,
    "start_time": "2021-12-02T06:54:55.491Z"
   },
   {
    "duration": 20,
    "start_time": "2021-12-02T06:54:55.513Z"
   },
   {
    "duration": 34,
    "start_time": "2021-12-02T06:54:55.535Z"
   },
   {
    "duration": 14,
    "start_time": "2021-12-02T06:54:55.574Z"
   },
   {
    "duration": 13,
    "start_time": "2021-12-02T06:54:55.590Z"
   },
   {
    "duration": 24,
    "start_time": "2021-12-02T06:54:55.605Z"
   }
  ],
  "kernelspec": {
   "display_name": "Python 3",
   "language": "python",
   "name": "python3"
  },
  "language_info": {
   "codemirror_mode": {
    "name": "ipython",
    "version": 3
   },
   "file_extension": ".py",
   "mimetype": "text/x-python",
   "name": "python",
   "nbconvert_exporter": "python",
   "pygments_lexer": "ipython3",
   "version": "3.8.8"
  },
  "toc": {
   "base_numbering": 1,
   "nav_menu": {},
   "number_sections": true,
   "sideBar": true,
   "skip_h1_title": true,
   "title_cell": "Table of Contents",
   "title_sidebar": "Contents",
   "toc_cell": false,
   "toc_position": {},
   "toc_section_display": true,
   "toc_window_display": false
  }
 },
 "nbformat": 4,
 "nbformat_minor": 2
}
